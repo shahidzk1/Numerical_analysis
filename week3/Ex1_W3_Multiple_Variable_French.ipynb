{
 "cells": [
  {
   "cell_type": "markdown",
   "id": "7db4567f",
   "metadata": {},
   "source": [
    "# Régression linéaire à variables multiples"
   ]
  },
  {
   "cell_type": "markdown",
   "id": "9c846c8c",
   "metadata": {},
   "source": [
    "<a name=\"toc_15456_1.1\"></a>\n",
    "## 1.1 Objectifs\n",
    "- Étendre nos fonctions de régression pour supporter plusieurs caractéristiques\n",
    "    - Étendre les structures de données pour supporter plusieurs caractéristiques\n",
    "    - Réécrire les fonctions de prédiction, de coût et de gradient pour supporter plusieurs caractéristiques\n",
    "    - Utiliser NumPy `np.dot` pour vectoriser leurs implémentations afin de les accélérer et de les simplifier.\n"
   ]
  },
  {
   "cell_type": "markdown",
   "id": "377c1312",
   "metadata": {},
   "source": [
    "<a name=\"toc_15456_1.2\"></a>\n",
    "## 1.2 Outils\n",
    "Dans ce TP, nous allons utiliser : \n",
    "- NumPy, un package populaire pour le calcul scientifique\n",
    "- Matplotlib, un package populaire pour la visualisation de données"
   ]
  },
  {
   "cell_type": "code",
   "execution_count": 2,
   "id": "4e42bcff",
   "metadata": {},
   "outputs": [],
   "source": [
    "import copy, math\n",
    "import numpy as np\n",
    "import matplotlib.pyplot as plt\n",
    "plt.style.use('./deeplearning.mplstyle')\n",
    "np.set_printoptions(precision=2)  # réduit la précision d'affichage des tableaux numpy"
   ]
  },
  {
   "cell_type": "markdown",
   "id": "68705783",
   "metadata": {},
   "source": [
    "<a name=\"toc_15456_1.3\"></a>\n",
    "## 1.3 Notation\n",
    "Voici un résumé de certaines des notations que vous rencontrerez, mis à jour pour plusieurs caractéristiques.\n",
    "\n",
    "Notation générale\n",
    "\n",
    "| $a$ | scalaire, pas écrit en gras                                                      \n",
    "\n",
    "| $\\mathbf{a}$ | vecteur, écrit en gras                                                \n",
    "\n",
    "| $\\mathbf{A}$ | matrice, majuscule en gras                                         \n",
    "\n",
    "| **Régression** |         |    |     |\n",
    "\n",
    "|  $\\mathbf{X}$ | matrice des exemples d'entraînement                  | `X_train` |\n",
    "\n",
    "|  $\\mathbf{y}$  | cibles des exemples d'entraînement                | `y_train`|\n",
    "\n",
    "|  $\\mathbf{x}^{(i)}$, $y^{(i)}$ | $i_{ème}$ exemple d'entraînement | `X[i]`, `y[i]`|\n",
    "\n",
    "| m | nombre d'exemples d'entraînement | `m`|\n",
    "\n",
    "| n | nombre de caractéristiques dans chaque exemple | `n`|\n",
    "\n",
    "|  $\\mathbf{w}$  |  paramètre : poids,                       | `w`    |\n",
    "\n",
    "|  $b$           |  paramètre : biais                                           | `b`    |     \n",
    "\n",
    "| $f_{\\mathbf{w},b}(\\mathbf{x}^{(i)})$ | Le résultat de l'évaluation du modèle à $\\mathbf{x^{(i)}}$ paramétré par $\\mathbf{w},b$: $f_{\\mathbf{w},b}(\\mathbf{x}^{(i)}) = \\mathbf{w} \\cdot \\mathbf{x}^{(i)}+b$  | `f_wb` | \n"
   ]
  },
  {
   "cell_type": "markdown",
   "id": "949c8ae9",
   "metadata": {},
   "source": [
    "<a name=\"toc_15456_2\"></a>\n",
    "# 2 Énoncé du problème\n",
    "\n",
    "Vous utiliserez (encore) l'exemple de la prédiction du prix des logements. L'ensemble de données d'entraînement contient trois exemples avec quatre caractéristiques (taille, chambres, étages et âge) montrés dans le tableau ci-dessous. Notez que, contrairement aux TP précédents, la taille est en pieds carrés plutôt qu'en millier de pieds carrés. Cela pose un problème, que vous résoudrez dans le prochain TP !\n",
    "\n",
    "| Taille (pieds carrés) | Nombre de chambres  | Nombre d'étages | Âge de la maison | Prix (milliers de dollars)  |   \n",
    "| ----------------| ------------------- |----------------- |--------------|-------------- |  \n",
    "| 2104            | 5                   | 1                | 45           | 460           |  \n",
    "| 1416            | 3                   | 2                | 40           | 232           |  \n",
    "| 852             | 2                   | 1                | 35           | 178           |  \n",
    "\n",
    "Vous allez construire un modèle de régression linéaire en utilisant ces valeurs afin de pouvoir ensuite prédire le prix pour d'autres maisons. Par exemple, une maison de 1200 pieds carrés, 3 chambres, 1 étage, 40 ans.  \n",
    "\n",
    "Veuillez exécuter la cellule de code suivante pour créer vos variables `X_train` et `y_train`."
   ]
  },
  {
   "cell_type": "code",
   "execution_count": 4,
   "id": "f130e7d8",
   "metadata": {},
   "outputs": [],
   "source": [
    "X_train = np.array([[2104, 5, 1, 45], [1416, 3, 2, 40], [852, 2, 1, 35]])\n",
    "y_train = np.array([460, 232, 178])"
   ]
  },
  {
   "cell_type": "markdown",
   "id": "60a86e14",
   "metadata": {},
   "source": [
    "<a name=\"toc_15456_2.1\"></a>\n",
    "## 2.1 Matrice X contenant nos exemples\n",
    "De manière similaire au tableau ci-dessus, les exemples sont stockés dans une matrice NumPy `X_train`. Chaque ligne de la matrice représente un exemple. Lorsque vous avez $m$ exemples d'entraînement ( $m = 3$  dans notre exemple), et qu'il y a $n$ caractéristiques (4 dans notre exemple), $\\mathbf{X}$ est une matrice de dimensions ($m$, $n$) (m lignes, n colonnes)."
   ]
  },
  {
   "cell_type": "code",
   "execution_count": 5,
   "id": "00000d29",
   "metadata": {},
   "outputs": [
    {
     "name": "stdout",
     "output_type": "stream",
     "text": [
      "Forme de X : (3, 4), Type de X :<class 'numpy.ndarray'>)\n",
      "[[2104    5    1   45]\n",
      " [1416    3    2   40]\n",
      " [ 852    2    1   35]]\n",
      "Forme de y : (3,), Type de y :<class 'numpy.ndarray'>)\n",
      "[460 232 178]\n"
     ]
    }
   ],
   "source": [
    "# les données sont stockées dans des tableaux/matrices numpy\n",
    "print(f\"Forme de X : {X_train.shape}, Type de X :{type(X_train)})\")\n",
    "print(X_train)\n",
    "print(f\"Forme de y : {y_train.shape}, Type de y :{type(y_train)})\")\n",
    "print(y_train)"
   ]
  },
  {
   "cell_type": "markdown",
   "id": "5b291a1c",
   "metadata": {},
   "source": [
    "<a name=\"toc_15456_2.2\"></a>\n",
    "## 2.2 Vecteur de paramètres w, b\n",
    "\n",
    "* $\\mathbf{w}$ est un vecteur avec $n$ éléments.\n",
    "  - Chaque élément contient le paramètre associé à une caractéristique.\n",
    "  - Dans notre ensemble de données, n est 4.\n",
    "  - Nous le dessinons comme un vecteur colonne\n",
    "\n",
    "$$\\mathbf{w} = \\begin{pmatrix}\n",
    "w_0 \\\\ \n",
    "w_1 \\\\\n",
    "\\cdots\\\\\n",
    "w_{n-1}\n",
    "\\end{pmatrix}\n",
    "$$\n",
    "* $b$ est un paramètre scalaire."
   ]
  },
  {
   "cell_type": "markdown",
   "id": "1750e77e",
   "metadata": {},
   "source": [
    "Pour l'exemple, $\\mathbf{w}$ et $b$ seront chargés avec des valeurs initiales sélectionnées qui sont proches de l'optimal. $\\mathbf{w}$ est un vecteur NumPy 1-D."
   ]
  },
  {
   "cell_type": "code",
   "execution_count": 6,
   "id": "cf712dfc",
   "metadata": {},
   "outputs": [
    {
     "name": "stdout",
     "output_type": "stream",
     "text": [
      "Forme de w_init : (4,), Type de b_init : <class 'float'>\n"
     ]
    }
   ],
   "source": [
    "b_init = 785.1811367994083\n",
    "w_init = np.array([ 0.39133535, 18.75376741, -53.36032453, -26.42131618])\n",
    "print(f\"Forme de w_init : {w_init.shape}, Type de b_init : {type(b_init)}\")"
   ]
  },
  {
   "cell_type": "markdown",
   "id": "6fcb8dc9",
   "metadata": {},
   "source": [
    "<a name=\"toc_15456_3\"></a>\n",
    "# 3 Prédiction du modèle avec plusieurs variables\n",
    "La prédiction du modèle avec plusieurs variables est donnée par le modèle linéaire :\n",
    "\n",
    "$$ f_{\\mathbf{w},b}(\\mathbf{x}) =  w_0x_0 + w_1x_1 +... + w_{n-1}x_{n-1} + b \\tag{1}$$\n",
    "ou en notation vectorielle :\n",
    "$$ f_{\\mathbf{w},b}(\\mathbf{x}) = \\mathbf{w} \\cdot \\mathbf{x} + b  \\tag{2} $$ \n",
    "où $\\cdot$ est un `produit scalaire` de vecteurs\n",
    "\n",
    "Pour démontrer le produit scalaire, nous allons implémenter la prédiction en utilisant (1) et (2)."
   ]
  },
  {
   "cell_type": "markdown",
   "id": "b0a75861",
   "metadata": {},
   "source": [
    "<a name=\"toc_15456_3.1\"></a>\n",
    "## 3.1 Prédiction unique élément par élément\n",
    "Notre précédente prédiction multipliait une valeur de caractéristique par un paramètre et ajoutait un paramètre de biais. Une extension directe de notre précédente implémentation de la prédiction à plusieurs caractéristiques serait de mettre en œuvre (1) ci-dessus en utilisant une boucle sur chaque élément, en effectuant la multiplication avec son paramètre et ensuite en ajoutant le paramètre de biais à la fin.\n"
   ]
  },
  {
   "cell_type": "code",
   "execution_count": 7,
   "id": "45d63bd5",
   "metadata": {},
   "outputs": [],
   "source": [
    "def predict_single_loop(x, w, b): \n",
    "    \"\"\"\n",
    "    prédiction unique en utilisant la régression linéaire\n",
    "    \n",
    "    Args:\n",
    "      x (ndarray): Forme (n,) exemple avec plusieurs caractéristiques\n",
    "      w (ndarray): Forme (n,) paramètres du modèle    \n",
    "      b (scalaire):  paramètre du modèle     \n",
    "      \n",
    "    Returns:\n",
    "      p (scalaire):  prédiction\n",
    "    \"\"\"\n"
   ]
  },
  {
   "cell_type": "code",
   "execution_count": 8,
   "id": "1af98cee",
   "metadata": {},
   "outputs": [
    {
     "name": "stdout",
     "output_type": "stream",
     "text": [
      "Forme de x_vec (4,), valeur de x_vec : [2104    5    1   45]\n"
     ]
    },
    {
     "ename": "AttributeError",
     "evalue": "'NoneType' object has no attribute 'shape'",
     "output_type": "error",
     "traceback": [
      "\u001b[0;31m---------------------------------------------------------------------------\u001b[0m",
      "\u001b[0;31mAttributeError\u001b[0m                            Traceback (most recent call last)",
      "Cell \u001b[0;32mIn[8], line 7\u001b[0m\n\u001b[1;32m      5\u001b[0m \u001b[38;5;66;03m# faire une prédiction\u001b[39;00m\n\u001b[1;32m      6\u001b[0m f_wb \u001b[38;5;241m=\u001b[39m predict_single_loop(x_vec, w_init, b_init)\n\u001b[0;32m----> 7\u001b[0m \u001b[38;5;28mprint\u001b[39m(\u001b[38;5;124mf\u001b[39m\u001b[38;5;124m\"\u001b[39m\u001b[38;5;124mForme de f_wb \u001b[39m\u001b[38;5;132;01m{\u001b[39;00m\u001b[43mf_wb\u001b[49m\u001b[38;5;241;43m.\u001b[39;49m\u001b[43mshape\u001b[49m\u001b[38;5;132;01m}\u001b[39;00m\u001b[38;5;124m, prédiction : \u001b[39m\u001b[38;5;132;01m{\u001b[39;00mf_wb\u001b[38;5;132;01m}\u001b[39;00m\u001b[38;5;124m\"\u001b[39m)\n",
      "\u001b[0;31mAttributeError\u001b[0m: 'NoneType' object has no attribute 'shape'"
     ]
    }
   ],
   "source": [
    "# obtenir une ligne de nos données d'entraînement\n",
    "x_vec = X_train[0,:]\n",
    "print(f\"Forme de x_vec {x_vec.shape}, valeur de x_vec : {x_vec}\")\n",
    "\n",
    "# faire une prédiction\n",
    "f_wb = predict_single_loop(x_vec, w_init, b_init)\n",
    "print(f\"Forme de f_wb {f_wb.shape}, prédiction : {f_wb}\")"
   ]
  },
  {
   "cell_type": "markdown",
   "id": "dde9cfab",
   "metadata": {},
   "source": [
    "Si votre code `predict_single_loop` fonctionne correctement, alors vous devriez voir :\n",
    "\n",
    "`Forme de x_vec (4,), valeur de x_vec : [2104 5 1 45] Forme de f_wb (), prédiction : 459.9999976194083`"
   ]
  },
  {
   "cell_type": "markdown",
   "id": "2d215907",
   "metadata": {},
   "source": [
    "Notez la forme de x_vec. C'est un vecteur NumPy 1-D avec 4 éléments, (4,). Le résultat, f_wb est un scalaire."
   ]
  },
  {
   "cell_type": "markdown",
   "id": "3e7325c2",
   "metadata": {},
   "source": [
    "<a name=\"toc_15456_3.2\"></a>\n",
    "## 3.2 Prédiction unique, vecteur\n",
    "\n",
    "Notons que l'équation (1) ci-dessus peut être implémentée en utilisant le produit scalaire comme dans (2) ci-dessus. Nous pouvons utiliser des opérations vectorielles pour accélérer les prédictions.\n",
    "\n",
    "Rappelez-vous du TP Python/Numpy que NumPy `np.dot()`[[lien](https://numpy.org/doc/stable/reference/generated/numpy.dot.html)] peut être utilisé pour effectuer un produit scalaire de vecteurs."
   ]
  },
  {
   "cell_type": "code",
   "execution_count": 9,
   "id": "3defb404",
   "metadata": {},
   "outputs": [],
   "source": [
    "def predict(x, w, b): \n",
    "    \"\"\"\n",
    "    prédiction unique en utilisant la régression linéaire\n",
    "    Args:\n",
    "      x (ndarray): Forme (n,) exemple avec plusieurs caractéristiques\n",
    "      w (ndarray): Forme (n,) paramètres du modèle   \n",
    "      b (scalaire):             paramètre du modèle \n",
    "      \n",
    "    Returns:\n",
    "      p (scalaire):  prédiction\n",
    "    \"\"\"\n"
   ]
  },
  {
   "cell_type": "code",
   "execution_count": 10,
   "id": "77c91055",
   "metadata": {},
   "outputs": [
    {
     "name": "stdout",
     "output_type": "stream",
     "text": [
      "Forme de x_vec (4,), valeur de x_vec : [2104    5    1   45]\n"
     ]
    },
    {
     "ename": "AttributeError",
     "evalue": "'NoneType' object has no attribute 'shape'",
     "output_type": "error",
     "traceback": [
      "\u001b[0;31m---------------------------------------------------------------------------\u001b[0m",
      "\u001b[0;31mAttributeError\u001b[0m                            Traceback (most recent call last)",
      "Cell \u001b[0;32mIn[10], line 7\u001b[0m\n\u001b[1;32m      5\u001b[0m \u001b[38;5;66;03m# faire une prédiction\u001b[39;00m\n\u001b[1;32m      6\u001b[0m f_wb \u001b[38;5;241m=\u001b[39m predict(x_vec,w_init, b_init)\n\u001b[0;32m----> 7\u001b[0m \u001b[38;5;28mprint\u001b[39m(\u001b[38;5;124mf\u001b[39m\u001b[38;5;124m\"\u001b[39m\u001b[38;5;124mForme de f_wb \u001b[39m\u001b[38;5;132;01m{\u001b[39;00m\u001b[43mf_wb\u001b[49m\u001b[38;5;241;43m.\u001b[39;49m\u001b[43mshape\u001b[49m\u001b[38;5;132;01m}\u001b[39;00m\u001b[38;5;124m, prédiction : \u001b[39m\u001b[38;5;132;01m{\u001b[39;00mf_wb\u001b[38;5;132;01m}\u001b[39;00m\u001b[38;5;124m\"\u001b[39m)\n",
      "\u001b[0;31mAttributeError\u001b[0m: 'NoneType' object has no attribute 'shape'"
     ]
    }
   ],
   "source": [
    "# obtenir une ligne de nos données d'entraînement\n",
    "x_vec = X_train[0,:]\n",
    "print(f\"Forme de x_vec {x_vec.shape}, valeur de x_vec : {x_vec}\")\n",
    "\n",
    "# faire une prédiction\n",
    "f_wb = predict(x_vec,w_init, b_init)\n",
    "print(f\"Forme de f_wb {f_wb.shape}, prédiction : {f_wb}\")"
   ]
  },
  {
   "cell_type": "markdown",
   "id": "3318d5d0",
   "metadata": {},
   "source": [
    "Si votre fonction de prédiction fonctionne bien, alors vous devriez voir\n",
    "\n",
    "`Forme de x_vec (4,), valeur de x_vec : [2104 5 1 45] Forme de f_wb (), prédiction : 459.9999976194083`"
   ]
  },
  {
   "cell_type": "markdown",
   "id": "232681cf",
   "metadata": {},
   "source": [
    "Les résultats et les formes sont les mêmes que dans la version précédente qui utilisait une boucle. À l'avenir, np.dot sera utilisé pour ces opérations. La prédiction est maintenant une seule instruction. La plupart des fonctions l'implémenteront directement plutôt que d'appeler une fonction de prédiction séparée."
   ]
  },
  {
   "cell_type": "markdown",
   "id": "27f9c6fe",
   "metadata": {},
   "source": [
    "<a name=\"toc_15456_4\"></a>\n",
    "# 4 Calculer le coût avec plusieurs variables\n",
    "L'équation de la fonction de coût avec plusieurs variables $J(\\mathbf{w},b)$ est :\n",
    "$$J(\\mathbf{w},b) = \\frac{1}{2m} \\sum\\limits_{i = 0}^{m-1} (f_{\\mathbf{w},b}(\\mathbf{x}^{(i)}) - y^{(i)})^2 \\tag{3}$$ \n",
    "où :\n",
    "$$ f_{\\mathbf{w},b}(\\mathbf{x}^{(i)}) = \\mathbf{w} \\cdot \\mathbf{x}^{(i)} + b  \\tag{4} $$ \n",
    "\n",
    "Contrairement aux TPs précédents, $\\mathbf{w}$ et $\\mathbf{x}^{(i)}$ sont des vecteurs plutôt que des scalaires supportant plusieurs caractéristiques."
   ]
  },
  {
   "cell_type": "markdown",
   "id": "9db3d0f8",
   "metadata": {},
   "source": [
    "Ci-dessous se trouve une implémentation des équations (3) et (4). Notez que cela utilise un schéma standard pour ce cours où une boucle for itère sur tous les exemples m."
   ]
  },
  {
   "cell_type": "code",
   "execution_count": 11,
   "id": "f81ee10b",
   "metadata": {},
   "outputs": [],
   "source": [
    "def compute_cost(X, y, w, b): \n",
    "    \"\"\"\n",
    "    calculer le coût\n",
    "    Args:\n",
    "      X (ndarray (m,n)): Données, m exemples avec n caractéristiques\n",
    "      y (ndarray (m,)) : valeurs cibles\n",
    "      w (ndarray (n,)) : paramètres du modèle  \n",
    "      b (scalaire)     : paramètre du modèle\n",
    "      \n",
    "    Returns:\n",
    "      cost (scalaire): coût\n",
    "    \"\"\"\n",
    "    # vous avez déjà résolu cet exercice. \n",
    "    # utilisez np.dot() ici\n",
    "    m = X.shape[0]\n",
    "    cost = 0.0\n",
    "    #écrivez le code restant\n",
    "    \n",
    "    return cost"
   ]
  },
  {
   "cell_type": "code",
   "execution_count": 12,
   "id": "380618ff",
   "metadata": {},
   "outputs": [
    {
     "name": "stdout",
     "output_type": "stream",
     "text": [
      "Coût à w optimal : 0.0\n"
     ]
    }
   ],
   "source": [
    "# Calculer et afficher le coût en utilisant nos paramètres optimaux pré-choisis. \n",
    "cost = compute_cost(X_train, y_train, w_init, b_init)\n",
    "print(f'Coût à w optimal : {cost}')"
   ]
  },
  {
   "cell_type": "markdown",
   "id": "ecfbb90a",
   "metadata": {},
   "source": [
    "**Résultat attendu** : Coût à w optimal : 1.5578904045996674e-12"
   ]
  },
  {
   "cell_type": "markdown",
   "id": "30a99342",
   "metadata": {},
   "source": [
    "<a name=\"toc_15456_5\"></a>\n",
    "# 5 Descente de gradient avec plusieurs variables\n",
    "Descente de gradient pour plusieurs variables :\n",
    "\n",
    "$$\\begin{align*} \\text{répéter}&\\text{ jusqu'à convergence:} \\; \\lbrace \\newline\\;\n",
    "& w_j = w_j -  \\alpha \\frac{\\partial J(\\mathbf{w},b)}{\\partial w_j} \\tag{5}  \\; & \\text{pour j = 0..n-1}\\newline\n",
    "&b\\ \\ = b -  \\alpha \\frac{\\partial J(\\mathbf{w},b)}{\\partial b}  \\newline \\rbrace\n",
    "\\end{align*}$$\n",
    "\n",
    "où, n est le nombre de caractéristiques, les paramètres $w_j$,  $b$, sont mis à jour simultanément et où  \n",
    "\n",
    "$$\n",
    "\\begin{align}\n",
    "\\frac{\\partial J(\\mathbf{w},b)}{\\partial w_j}  &= \\frac{1}{m} \\sum\\limits_{i = 0}^{m-1} (f_{\\mathbf{w},b}(\\mathbf{x}^{(i)}) - y^{(i)})x_{j}^{(i)} \\tag{6}  \\\\\n",
    "\\frac{\\partial J(\\mathbf{w},b)}{\\partial b}  &= \\frac{1}{m} \\sum\\limits_{i = 0}^{m-1} (f_{\\mathbf{w},b}(\\mathbf{x}^{(i)}) - y^{(i)}) \\tag{7}\n",
    "\\end{align}\n",
    "$$\n",
    "* m est le nombre d'exemples d'entraînement dans l'ensemble de données\n",
    "\n",
    "    \n",
    "*  $f_{\\mathbf{w},b}(\\mathbf{x}^{(i)})$ est la prédiction du modèle, tandis que $y^{(i)}$ est la valeur cible"
   ]
  },
  {
   "cell_type": "markdown",
   "id": "66550893",
   "metadata": {},
   "source": [
    "<a name=\"toc_15456_5.1\"></a>\n",
    "## 5.1 Calculer le gradient avec plusieurs variables\n",
    "Une implémentation pour calculer les équations (6) et (7) est donnée ci-dessous. Il existe de nombreuses façons de mettre ça en œuvre.\n",
    "Dans cette version, il y a : \n",
    "- une boucle externe sur tous les exemples $m$. \n",
    "    - $\\frac{\\partial J(\\mathbf{w},b)}{\\partial b}$ pour l'exemple peut être calculé directement et accumulé\n",
    "    - dans une deuxième boucle sur toutes les caractéristiques n :\n",
    "        - $\\frac{\\partial J(\\mathbf{w},b)}{\\partial w_j}$ est calculé pour chaque $w_j$."
   ]
  },
  {
   "cell_type": "code",
   "execution_count": 13,
   "id": "74ceaa2a",
   "metadata": {},
   "outputs": [],
   "source": [
    "def compute_gradient(X, y, w, b): \n",
    "    \"\"\"\n",
    "    Calcule le gradient pour la régression linéaire \n",
    "    Args:\n",
    "      X (ndarray (m,n)): Données, m exemples avec n caractéristiques\n",
    "      y (ndarray (m,)) : valeurs cibles\n",
    "      w (ndarray (n,)) : paramètres du modèle  \n",
    "      b (scalaire)     : paramètre du modèle\n",
    "      \n",
    "    Returns:\n",
    "      dj_dw (ndarray (n,)): Le gradient du coût par rapport aux paramètres w. \n",
    "      dj_db (scalaire):       Le gradient du coût par rapport au paramètre b. \n",
    "    \"\"\"\n",
    "    m,n = X.shape           #(nombre d'exemples, nombre de caractéristiques)\n",
    "    dj_dw = np.zeros((n,))\n",
    "    dj_db = 0.\n",
    "\n",
    "    #codez la partie restante ici; \n",
    "    #la solution de cet exercice est déjà disponible dans la solution de la semaine dernière\n",
    "    # utilisez np.dot()\n",
    "        \n",
    "    return dj_db, dj_dw"
   ]
  },
  {
   "cell_type": "code",
   "execution_count": 14,
   "id": "d03190b7",
   "metadata": {},
   "outputs": [
    {
     "name": "stdout",
     "output_type": "stream",
     "text": [
      "dj_db à w,b initial : 0.0\n",
      "dj_dw à w,b initial : \n",
      " [0. 0. 0. 0.]\n"
     ]
    }
   ],
   "source": [
    "#Calculer et afficher le gradient \n",
    "tmp_dj_db, tmp_dj_dw = compute_gradient(X_train, y_train, w_init, b_init)\n",
    "print(f'dj_db à w,b initial : {tmp_dj_db}')\n",
    "print(f'dj_dw à w,b initial : \\n {tmp_dj_dw}')"
   ]
  },
  {
   "cell_type": "markdown",
   "id": "708de2ff",
   "metadata": {},
   "source": [
    "**Résultat attendu :**\n",
    "```\n",
    "dj_db à w,b initial : -1.6739251122999121e-06\n",
    "dj_dw à w,b initial :\n",
    "    [-2.73e-03 -6.27e-06 -2.22e-06 -6.92e-05]   \n",
    "```"
   ]
  },
  {
   "cell_type": "markdown",
   "id": "ad3f987a",
   "metadata": {},
   "source": [
    "<a name=\"toc_15456_5.2\"></a>\n",
    "## 5.2 Descente de gradient avec plusieurs variables\n",
    "La routine ci-dessous met en œuvre l'équation (5) ci-dessus."
   ]
  },
  {
   "cell_type": "code",
   "execution_count": 16,
   "id": "81ad3538",
   "metadata": {},
   "outputs": [],
   "source": [
    "def gradient_descent(X, y, w_in, b_in, cost_function, gradient_function, alpha, num_iters): \n",
    "    \"\"\"\n",
    "    Effectue la descente de gradient en batch pour apprendre w et b. Met à jour w et b en prenant \n",
    "    num_iters pas de gradient avec le taux d'apprentissage alpha\n",
    "    \n",
    "    Args:\n",
    "      X (ndarray (m,n))   : Données, m exemples avec n caractéristiques\n",
    "      y (ndarray (m,))    : valeurs cibles\n",
    "      w_in (ndarray (n,)) : paramètres initiaux du modèle  \n",
    "      b_in (scalaire)     : paramètre initial du modèle\n",
    "      cost_function       : fonction pour calculer le coût\n",
    "      gradient_function   : fonction pour calculer le gradient\n",
    "      alpha (float)       : Taux d'apprentissage\n",
    "      num_iters (int)     : nombre d'itérations pour exécuter la descente de gradient\n",
    "      \n",
    "    Returns:\n",
    "      w (ndarray (n,)) : Valeurs mises à jour des paramètres \n",
    "      b (scalaire)     : Valeur mise à jour du paramètre \n",
    "      \"\"\"\n",
    "    \n",
    "    # Un tableau pour stocker le coût J et les w à chaque itération principalement pour le graphique plus tard\n",
    "    J_history = []\n",
    "    w = copy.deepcopy(w_in)  #éviter de modifier le w global dans la fonction\n",
    "    b = b_in\n",
    "    \n",
    "    for i in range(num_iters):\n",
    "\n",
    "        # Calcule le gradient et met à jour les paramètres\n",
    "        dj_db,dj_dw = gradient_function(X, y, w, b)   ##None\n",
    "\n",
    "        # Met à jour les paramètres en utilisant w, b, alpha et le gradient\n",
    "        w = w - alpha * dj_dw               ##None\n",
    "        b = b - alpha * dj_db               ##None\n",
    "      \n",
    "        # Sauvegarde le coût J à chaque itération\n",
    "        if i<100000:      # prévenir l'épuisement des ressources \n",
    "            J_history.append( cost_function(X, y, w, b))\n",
    "\n",
    "        # Imprime le coût à chaque intervalle 10 fois ou autant d'itérations si < 10\n",
    "        if i% math.ceil(num_iters / 10) == 0:\n",
    "            print(f\"Iteration {i:4d}: Cost {J_history[-1]:8.2f}   \")\n",
    "        \n",
    "    return w, b, J_history #retourne le w,b final et l'historique de J pour le graphique"
   ]
  },
  {
   "cell_type": "markdown",
   "id": "91b33850",
   "metadata": {},
   "source": [
    "Dans la cellule suivante, vous testerez l'implémentation."
   ]
  },
  {
   "cell_type": "code",
   "execution_count": 17,
   "id": "20b3cc41",
   "metadata": {},
   "outputs": [
    {
     "name": "stdout",
     "output_type": "stream",
     "text": [
      "Iteration    0: Cost     0.00   \n",
      "Iteration  100: Cost     0.00   \n",
      "Iteration  200: Cost     0.00   \n",
      "Iteration  300: Cost     0.00   \n",
      "Iteration  400: Cost     0.00   \n",
      "Iteration  500: Cost     0.00   \n",
      "Iteration  600: Cost     0.00   \n",
      "Iteration  700: Cost     0.00   \n",
      "Iteration  800: Cost     0.00   \n",
      "Iteration  900: Cost     0.00   \n",
      "b,w trouvés par descente de gradient : 0.00,[0. 0. 0. 0.] \n",
      "prédiction : 0.00, valeur cible : 460\n",
      "prédiction : 0.00, valeur cible : 232\n",
      "prédiction : 0.00, valeur cible : 178\n"
     ]
    }
   ],
   "source": [
    "# initialiser les paramètres\n",
    "initial_w = np.zeros_like(w_init)\n",
    "initial_b = 0.\n",
    "# quelques paramètres de descente de gradient\n",
    "iterations = 1000\n",
    "alpha = 5.0e-7\n",
    "# exécuter la descente de gradient \n",
    "w_final, b_final, J_hist = gradient_descent(X_train, y_train, initial_w, initial_b,\n",
    "                                                    compute_cost, compute_gradient, \n",
    "                                                    alpha, iterations)\n",
    "print(f\"b,w trouvés par descente de gradient : {b_final:0.2f},{w_final} \")\n",
    "m,_ = X_train.shape\n",
    "for i in range(m):\n",
    "    print(f\"prédiction : {np.dot(X_train[i], w_final) + b_final:0.2f}, valeur cible : {y_train[i]}\")"
   ]
  },
  {
   "cell_type": "markdown",
   "id": "900b3c82",
   "metadata": {},
   "source": [
    "**Résultat attendu :**\n",
    "```\n",
    "b,w trouvés par descente de gradient : -0.00,[ 0.2 0. -0.01 -0.07]\n",
    "prédiction : 426.19, valeur cible : 460\n",
    "prédiction : 286.17, valeur cible : 232\n",
    "prédiction : 171.47, valeur cible : 178\n",
    "```"
   ]
  },
  {
   "cell_type": "code",
   "execution_count": 19,
   "id": "3165448c",
   "metadata": {},
   "outputs": [
    {
     "data": {
      "image/png": "[encoded data removed]",
      "text/plain": [
       "<Figure size 1200x400 with 2 Axes>"
      ]
     },
     "metadata": {},
     "output_type": "display_data"
    }
   ],
   "source": [
    "# tracer le coût par rapport à l'itération  \n",
    "fig, (ax1, ax2) = plt.subplots(1, 2, constrained_layout=True, figsize=(12, 4))\n",
    "ax1.plot(J_hist)\n",
    "ax2.plot(100 + np.arange(len(J_hist[100:])), J_hist[100:])\n",
    "ax1.set_title(\"Coût vs. itération\");  ax2.set_title(\"Coût vs. itération (taille réduite)\")\n",
    "ax1.set_ylabel('Coût')             ;  ax2.set_ylabel('Coût') \n",
    "ax1.set_xlabel('étape d\\'itération')   ;  ax2.set_xlabel('étape d\\'itération') \n",
    "plt.show()"
   ]
  },
  {
   "cell_type": "markdown",
   "id": "494e7152",
   "metadata": {},
   "source": [
    "*Ces résultats ne sont pas convaincants...* Le coût continue de diminuer et nos prédictions ne sont pas très précises. Le prochain TP explorera comment améliorer ça."
   ]
  },
  {
   "cell_type": "markdown",
   "id": "d88e9a7d",
   "metadata": {},
   "source": [
    "<a name=\"toc_15456_6\"></a>\n",
    "# 6 Félicitations !\n",
    "Dans ce TP, vous avez :\n",
    "- Réimplémenté les fonctions pour la régression linéaire, maintenant avec plusieurs variables.\n",
    "- Utilisé NumPy `np.dot` pour vectoriser les implémentations"
   ]
  }
 ],
 "metadata": {
  "dl_toc_settings": {
   "rndtag": "15456"
  },
  "kernelspec": {
   "display_name": "Python 3 (ipykernel)",
   "language": "python",
   "name": "python3"
  },
  "language_info": {
   "codemirror_mode": {
    "name": "ipython",
    "version": 3
   },
   "file_extension": ".py",
   "mimetype": "text/x-python",
   "name": "python",
   "nbconvert_exporter": "python",
   "pygments_lexer": "ipython3",
   "version": "3.11.7"
  },
  "toc-autonumbering": false
 },
 "nbformat": 4,
 "nbformat_minor": 5
}
