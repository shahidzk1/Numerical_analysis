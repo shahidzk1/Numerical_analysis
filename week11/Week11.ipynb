{
 "cells": [
  {
   "cell_type": "markdown",
   "id": "148ae6fc",
   "metadata": {},
   "source": [
    "# AutoRegressive Integrated Moving Average (ARIMA)\n",
    "ARIMA models provide another approach to time series forecasting. Exponential smoothing and ARIMA models are the two most widely used approaches to time series forecasting, and provide complementary approaches to the problem. While exponential smoothing models are based on a description of the trend and seasonality in the data, ARIMA models aim to describe the autocorrelations in the data."
   ]
  },
  {
   "cell_type": "markdown",
   "id": "2c7571f3",
   "metadata": {},
   "source": [
    "A stationary time series is one whose statistical properties do not depend on the time at which the series is observed. Thus, time series with trends, or with seasonality, are not stationary — the trend and seasonality will affect the value of the time series at different times. On the other hand, a white noise series is stationary — it does not matter when you observe it, it should look much the same at any point in time.\n",
    "\n",
    "Some cases can be confusing — a time series with cyclic behaviour (but with no trend or seasonality) is stationary. This is because the cycles are not of a fixed length, so before we observe the series we cannot be sure where the peaks and troughs of the cycles will be.\n",
    "\n",
    "In general, a stationary time series will have no predictable patterns in the long-term. Time plots will show the series to be roughly horizontal (although some cyclic behaviour is possible), with constant variance."
   ]
  },
  {
   "cell_type": "markdown",
   "id": "f754fb29",
   "metadata": {},
   "source": [
    "Partial autocorrelations functions (PACF) are used to measure the degree of association between observations at times $t$ and $t - k$, $Y_t$ and $Y_{t-k}$, when the effects of other time lags, $1, \\ldots, k - 1$, are removed. The usefulness of partial autocorrelations may be understood in the following example. Suppose there is significant autocorrelation between $Y_t$ and $Y_{t-1}$. This implies that there is also significant correlation between $Y_t$ and $Y_{t-2}$, since they are one time step apart. There is therefore significant autocorrelation between $Y_t$ and $Y_{t-2}$, because they are both correlated with $Y_{t-1}$. However, it can only be known if there is an independent relationship between $Y_t$ and $Y_{t-2}$ if the effect of $Y_{t-1}$ can be partially out. Partial autocorrelations calculate true correlations between $Y_t$ and $Y_{t-1}$, $\\ldots$, $Y_k$ using a regression equation known as an autoregression (AR):\n",
    "\n",
    "$$\n",
    "Y_t = b_0 + b_1Y_{t-1} + b_2Y_{t-2} + \\ldots + b_kY_{t-k}\n",
    "$$\n"
   ]
  },
  {
   "cell_type": "markdown",
   "id": "9536146a",
   "metadata": {},
   "source": [
    "## Import pandas\n",
    "Pandas is a data manipulation library in Python. It provides data structures and functions needed to manipulate structured data. It's built on top of two core Python libraries - Matplotlib for data visualization and NumPy for mathematical operations. \n",
    "\n",
    "One of the key features of Pandas is its ability to read and write data from a variety of formats including, but not limited to, CSV, text files, SQL databases, and Excel spreadsheets. The `read_excel` function is specifically used to read Excel files. It returns a DataFrame."
   ]
  },
  {
   "cell_type": "code",
   "execution_count": null,
   "id": "233f807b",
   "metadata": {},
   "outputs": [],
   "source": [
    "# Import read_excel from pandas\n"
   ]
  },
  {
   "cell_type": "markdown",
   "id": "52ad87b4",
   "metadata": {},
   "source": [
    "<details>\n",
    "<summary><b>Click here for a hint</b></summary>\n",
    "\n",
    "from p import x\n",
    "\n",
    "</details>\n"
   ]
  },
  {
   "cell_type": "code",
   "execution_count": null,
   "id": "e2d4b2c5",
   "metadata": {},
   "outputs": [],
   "source": [
    "# use the read_excel function to load the \"DowJones.xls\" file into the memory. The sheet Data2 should be used.\n",
    "# Header should be set to 0 and parse_dates should be set to True\n",
    "series = "
   ]
  },
  {
   "cell_type": "markdown",
   "id": "b8ed5c29",
   "metadata": {},
   "source": [
    "<details>\n",
    "<summary><b>Click here for a hint</b></summary>\n",
    "\n",
    "series = function('file_name', sheet_name='XYZ', header=0,  parse_dates=True)\n",
    "\n",
    "</details>\n"
   ]
  },
  {
   "cell_type": "code",
   "execution_count": null,
   "id": "47514b2f",
   "metadata": {},
   "outputs": [],
   "source": [
    "# use the pandas function hist to plot the DowJones column of the data\n"
   ]
  },
  {
   "cell_type": "markdown",
   "id": "1ecd26a4",
   "metadata": {},
   "source": [
    "<details>\n",
    "<summary><b>Click here for a hint</b></summary>\n",
    "\n",
    "dataframe['column'].hist(bins=100)\n",
    "\n",
    "</details>\n"
   ]
  },
  {
   "cell_type": "markdown",
   "id": "b06ea085",
   "metadata": {},
   "source": [
    "## Matplotlib pyplot\n",
    "Pyplot is a collection of functions in the popular visualization library Matplotlib in Python. It provides a MATLAB-like interface for making plots and charts. Pyplot is commonly used for creating line plots, scatter plots, bar plots, histograms, 3D plots, and much more.\n",
    "\n",
    "One of the key features of Pyplot is its ability to easily create plots with just a few commands.\n"
   ]
  },
  {
   "cell_type": "code",
   "execution_count": null,
   "id": "652a6934",
   "metadata": {},
   "outputs": [],
   "source": [
    "#import pyplot from matplotlib\n"
   ]
  },
  {
   "cell_type": "code",
   "execution_count": null,
   "id": "99f759f5",
   "metadata": {},
   "outputs": [],
   "source": [
    "# Create an array DowJones_modified and fill it with the DowJones column from the dataframe series and add 1000\n",
    "# to each entry in a for loop. Plot this new array as a histogram\n"
   ]
  },
  {
   "cell_type": "markdown",
   "id": "b138e4d7",
   "metadata": {},
   "source": [
    "<details>\n",
    "<summary><b>Click here for a hint</b></summary>\n",
    "\n",
    "array = []\n",
    "    \n",
    "\n",
    "for i in range(0,df['column1'].shape[0]):\n",
    "    \n",
    "    array.append(df['column1'].iloc[i]+ 1000)\n",
    "    \n",
    "pyplot.hist(array, bins=100)\n",
    "\n",
    "</details>\n"
   ]
  },
  {
   "cell_type": "code",
   "execution_count": null,
   "id": "82d1f33c",
   "metadata": {},
   "outputs": [],
   "source": [
    "# import from the statsmodels the functions plot_acf, plot_pacf"
   ]
  },
  {
   "cell_type": "markdown",
   "id": "15f86ac3",
   "metadata": {},
   "source": [
    "<details>\n",
    "<summary><b>Click here for a hint</b></summary>\n",
    "\n",
    "from statsmodels.graphics.tsaplots import x\n",
    "\n",
    "</details>\n"
   ]
  },
  {
   "cell_type": "code",
   "execution_count": null,
   "id": "ccb8a8ff",
   "metadata": {},
   "outputs": [],
   "source": [
    "# use the plot function from pyplot to plot Dates column from series on x-axis and DowJones on the y-axis\n",
    "fig, ax = pyplot.subplots(figsize=(12,10))\n",
    "\n",
    "pyplot....\n",
    "\n",
    "\n",
    "pyplot.title(\"Dow Jones data vs time\")"
   ]
  },
  {
   "cell_type": "markdown",
   "id": "413c9e3b",
   "metadata": {},
   "source": [
    "<details>\n",
    "<summary><b>Click here for a hint</b></summary>\n",
    "\n",
    "pyplot.plot(df['column1'],series['column2'])\n",
    "\n",
    "</details>\n"
   ]
  },
  {
   "cell_type": "markdown",
   "id": "8715234c",
   "metadata": {},
   "source": [
    "The Dow Jones data vs time plot shows seasonality and therefore is non-stationary because seasonality is present."
   ]
  },
  {
   "cell_type": "code",
   "execution_count": null,
   "id": "aee7cf04",
   "metadata": {},
   "outputs": [],
   "source": [
    "# ACF plot on 50 time lags\n",
    "series = read_excel('DowJones.xls', sheet_name='Data2', header=0, index_col=0, parse_dates=True)\n",
    "plot_acf(series, title='autocorrelation function of Dow Jones time series', lags=50)"
   ]
  },
  {
   "cell_type": "code",
   "execution_count": null,
   "id": "9b09bf9b",
   "metadata": {},
   "outputs": [],
   "source": [
    "# PACF plot on 50 time lags\n",
    "plot_pacf(series, title='Partial autocorrelations of Dow Jones time series', lags=50)\n",
    "pyplot.show()"
   ]
  },
  {
   "cell_type": "markdown",
   "id": "18aeb322",
   "metadata": {},
   "source": [
    "### Takeaway message\n",
    "The PACF together with the ACF have many applications; in particular, concepts to determine whether a time series is white noise, stationary or seasonal. The definitions of white noise and stationarity together with related\n",
    "illustrations are provided below. Also, the ACF and PACF can be useful in identifying ARIMA\n",
    "models, in particular the pure AR and MA ones."
   ]
  },
  {
   "cell_type": "markdown",
   "id": "e372addf",
   "metadata": {},
   "source": [
    "# A white noise model\n",
    "\n",
    "When testing for suitability, a forecasting model is deemed to be sufficiently well suited to a\n",
    "particular application if the forecast errors are purely random. The residuals are then described as\n",
    "white noise. A simple example of a white noise model is given by:\n",
    "\n",
    "$$ Y_t = c + e_t $$\n",
    "\n",
    "where:\n",
    "- c represents a constant overall level\n",
    "- $e_t$ is a random error component\n",
    "\n",
    "Theoretically, all autocorrelation coefficients for series of random numbers must be zero.\n",
    "But as we have finite samples, each of the sample’s autocorrelation will not be exactly zero. It\n",
    "has been shown that, if a time series is white noise, both autocorrelation coefficients and partial\n",
    "autocorrelation coefficients are approximately independent and normally distributed with mean\n",
    "zero and standard deviation $(\\frac{1}{\\sqrt{n}})$, where \\(n\\) is the number of observations in the series. Hence, it\n",
    "is useful to plot the **ACF** and **PACF** with range $(\\pm \\frac{1.96}{\\sqrt{n}})$, when analyzing what coefficients are\n",
    "significant or to determine whether data are white noise. If any coefficients lie outside this range,\n",
    "the data are probably not white noise.\n"
   ]
  },
  {
   "cell_type": "code",
   "execution_count": null,
   "id": "763fc1d9",
   "metadata": {},
   "outputs": [],
   "source": [
    "#importing libraries\n",
    "from random import gauss\n",
    "from random import seed\n",
    "from pandas import Series"
   ]
  },
  {
   "cell_type": "code",
   "execution_count": null,
   "id": "8e427c77",
   "metadata": {},
   "outputs": [],
   "source": [
    "# seed random number generator\n",
    "seed(1)\n",
    "# create white noise series\n",
    "series = [gauss(0.0, 1.0) for i in range(1000)]\n",
    "\n",
    "# Once created, we can wrap the list in a Pandas Series for convenience.\n",
    "series = Series(series)\n",
    "\n",
    "# summary statistics of the artificially generated series\n",
    "print('Statistics of the artificially generated series:')\n",
    "print(series.describe())\n",
    "\n",
    "# line plot of the artificially generated series\n",
    "series.plot(title='Time plot of a white noise model')\n",
    "pyplot.show()\n"
   ]
  },
  {
   "cell_type": "code",
   "execution_count": null,
   "id": "14738856",
   "metadata": {},
   "outputs": [],
   "source": [
    "# create the histogram plot of the artificially generated series\n"
   ]
  },
  {
   "cell_type": "markdown",
   "id": "16662df1",
   "metadata": {},
   "source": [
    "<details>\n",
    "<summary><b>Click here for the code</b></summary>\n",
    "\n",
    "series.hist()\n",
    "\n",
    "</details>"
   ]
  },
  {
   "cell_type": "code",
   "execution_count": null,
   "id": "b0e26250",
   "metadata": {},
   "outputs": [],
   "source": [
    "# plot the ACF plot of the artificially generated white noise time series\n",
    "plot_acf(  input_series  , title='ACF of a white noise model', lags=50)"
   ]
  },
  {
   "cell_type": "markdown",
   "id": "90708f33",
   "metadata": {},
   "source": [
    "<details>\n",
    "<summary><b>Click here for the code</b></summary>\n",
    "\n",
    "plot_acf(series, title='ACF of a white noise model', lags=50)\n",
    "\n",
    "</details>"
   ]
  },
  {
   "cell_type": "code",
   "execution_count": null,
   "id": "373d20cd",
   "metadata": {},
   "outputs": [],
   "source": [
    "# PACF plot of the artificially generated white noise time series\n",
    "plot_pacf(input_series, title='PACF of a white noise model', lags=50)\n",
    "pyplot.show()"
   ]
  },
  {
   "cell_type": "markdown",
   "id": "db174551",
   "metadata": {},
   "source": [
    "# Removing non-stationarity: the method of differencing\n",
    "\n",
    "It is important to remove trends, or **non-stationarity**, from time series data prior to model building, since such autocorrelations dominate the ACF. One way of removing non-stationarity is through the method of differencing. The differenced series is defined as the change between each observation in the original time series:\n",
    "\n",
    "$$Y_t' = Y_t - Y_{t-1}$$\n",
    "\n",
    "Occasionally, such taking of first differences is insufficient to remove non-stationarity. In that case, second-order differences usually produce the desired effect:\n",
    "\n",
    "$$Y_t'' = Y_t' - Y_{t-1}'$$\n"
   ]
  },
  {
   "cell_type": "code",
   "execution_count": null,
   "id": "8ea447ab",
   "metadata": {},
   "outputs": [],
   "source": [
    "## removing seasonality from time series using seasonal differencing\n",
    "\n",
    "series = read_excel('Electricity.xls', sheet_name='ELEC', header=0, index_col=0, parse_dates=True)\n",
    "\n",
    "# Time, ACF, and PACF plots for original data\n",
    "pyplot.plot(series)\n",
    "pyplot.title('Time plot original data')\n",
    "plot_acf(series, title='ACF plot of original data', lags=50)\n",
    "plot_pacf(series, title='PACF plot of original data', lags=50)\n",
    "pyplot.show()\n",
    "\n"
   ]
  },
  {
   "cell_type": "code",
   "execution_count": null,
   "id": "971c5381",
   "metadata": {},
   "outputs": [],
   "source": [
    "#  Seaonal difference\n",
    "X = series.values\n",
    "SeasDiff = list()\n",
    "for i in range(12, len(X)):\n",
    "\tvalue = X[i] - X[i - 12]\n",
    "\tSeasDiff.append(value)\n",
    "\n",
    "# Time, ACF, and PACF plots for the seasonally differenced series\n",
    "pyplot.plot(SeasDiff)\n",
    "pyplot.title('Time plot seasonally differenced series')\n",
    "plot_acf(SeasDiff, title='ACF plot of seasonally differenced series', lags=50)\n",
    "plot_pacf(SeasDiff, title='PACF plot of seasonally differenced series', lags=50)\n",
    "pyplot.show()"
   ]
  },
  {
   "cell_type": "code",
   "execution_count": null,
   "id": "8198f6a6",
   "metadata": {},
   "outputs": [],
   "source": [
    "### Seasonal + First difference\n",
    "Y = SeasDiff\n",
    "SeasFirstDiff = list()\n",
    "for i in range(1, len(Y)):\n",
    "\tvalue = Y[i] - Y[i - 1]\n",
    "\tSeasFirstDiff.append(value)\n",
    "pyplot.plot(SeasFirstDiff)\n",
    "pyplot.title('Time plot seasonally + first differenced series')\n",
    "plot_acf(SeasFirstDiff, title='ACF plot of seasonally + first differenced series', lags=50)\n",
    "plot_pacf(SeasFirstDiff, title='PACF plot of seasonally + first differenced series', lags=50)\n",
    "pyplot.show()"
   ]
  },
  {
   "cell_type": "markdown",
   "id": "2fb10134",
   "metadata": {},
   "source": [
    "# Autoregression (AR) models\n",
    "\n",
    "Models that use the AR equation as described in Section 5.1.1 are termed AR models. They are\n",
    "classified by the number of time lags, \\(p\\), used in the autoregression. In general, a \\(p\\)th order AR\n",
    "model, or AR(\\(p\\)) model, is written as:\n",
    "\n",
    "$$ Y_t = c + \\phi_1 Y_{t-1} + \\phi_2 Y_{t-2} + ... + \\phi_p Y_{t-p} + e_t $$\n",
    "\n",
    "where:\n",
    "- c represents a constant overall level.\n",
    "- $(\\phi_j)$ are parameters to be determined.\n",
    "- $(e_t)$ is the error term.\n",
    "\n",
    "There are constraints on the allowable values of $(\\phi_j)$:\n",
    "- For $(p = 1)$, $(-1 < \\phi_1 < 1)$.\n",
    "- For $(p = 2$), $(-1 < \\phi_2 < 1$), $(\\phi_2 + \\phi_1 < 1$), and $(\\phi_2 - \\phi_1 < 1$).\n",
    "- For $(p \\geq 3$), more complicated conditions hold.\n",
    "\n",
    "An example of an AR(1) model is:\n",
    "\n",
    "$$ Y_t = 3 + 0.7 Y_{t-1} + e_t $$\n",
    "\n",
    "where $(e_t$) is normally distributed with mean 0 and variance 1.\n"
   ]
  },
  {
   "cell_type": "code",
   "execution_count": null,
   "id": "711eb44a",
   "metadata": {},
   "outputs": [],
   "source": [
    "series = read_excel('DataMA1model.xls', sheet_name='MAdata', usecols = [1],\n",
    "                    header=0)\n",
    "\n",
    "# Time, ACF, and PACF plots for original data\n",
    "pyplot.plot(series)\n",
    "pyplot.title('Time plot MA1 data')\n",
    "plot_acf(series, title='ACF plot of MA1 data', lags=20)\n",
    "plot_pacf(series, title='PACF plot of MA1 data', lags=20)\n",
    "pyplot.show()"
   ]
  },
  {
   "cell_type": "markdown",
   "id": "d12bca99",
   "metadata": {},
   "source": [
    "For an **AR(1)** model, typically the **ACF** shows autocorrelations dying down to zero, while there is only one peak in the **PACF** at lag 1. With real-life or empirical data, random effects will give a more varied picture, as shown by the higher variance example above.\n",
    "\n",
    "The general expression of the **AR model** can be rewritten in backshift notation as:\n",
    "\n",
    "$$(1 - \\phi_1 B - ... - \\phi_p B^p)Y_t = c + e_t$$\n"
   ]
  },
  {
   "cell_type": "markdown",
   "id": "25b43d91",
   "metadata": {},
   "source": [
    "# Moving Average (MA) models\n",
    "\n",
    "As well as regressing on the observations at previous time lags, as in AR models, we can also regress on the error terms at previous time lags. Such models are called Moving Average (MA) models (nothing to do with the moving average described in Chapter 2). Again, an MA model is classified by the number of time lags, q, used in the regression. A general MA(q) is written as:\n",
    "\n",
    "$ Y_t = c + e_t - \\theta_1 e_{t-1} - \\ldots - \\theta_q e_{t-q} $\n",
    "\n",
    "where:\n",
    "- c is a constant,\n",
    "- $(\\theta_j$) are parameters to be determined, and\n",
    "- $(e_t$) are the error terms.\n",
    "\n",
    "As with AR models, there are restrictions on the allowable values of \\(\\theta_j\\):\n",
    "- For $(q = 1$), $(-1 < \\theta_1 < 1$).\n",
    "- For $(q = 2$), $(-1 < \\theta_2 < 1$), $(\\theta_2 + \\theta_1 < 1$), and $(\\theta_2 - \\theta_1 < 1$).\n",
    "- For $(q \\geq 3$), more complicated conditions hold.\n",
    "\n",
    "An example of an MA(1) model is:\n",
    "\n",
    "$ Y_t = 10 + e_t - 0.7e_{t-1} $\n",
    "\n",
    "where $(e_t$) is normally distributed with mean 0 and variance 1.\n"
   ]
  },
  {
   "cell_type": "code",
   "execution_count": null,
   "id": "1698ded0",
   "metadata": {},
   "outputs": [],
   "source": [
    "series = read_excel('DataMA1model.xls', sheet_name='MAdata', usecols = [1],\n",
    "                    header=0)\n",
    "\n",
    "# Time, ACF, and PACF plots for original data\n",
    "pyplot.plot(series)\n",
    "pyplot.title('Time plot MA1 data')\n"
   ]
  },
  {
   "cell_type": "code",
   "execution_count": null,
   "id": "f21ba4ba",
   "metadata": {},
   "outputs": [],
   "source": [
    "plot_acf(series, title='ACF plot of MA1 data', lags=20)\n"
   ]
  },
  {
   "cell_type": "code",
   "execution_count": null,
   "id": "08c0447c",
   "metadata": {},
   "outputs": [],
   "source": [
    "plot_pacf(series, title='PACF plot of MA1 data', lags=20)\n",
    "pyplot.show()"
   ]
  },
  {
   "cell_type": "markdown",
   "id": "4bd47dd7",
   "metadata": {},
   "source": [
    "For an **MA(1)** model, typically the **ACF** shows only one peak in the ACF at lag 1, while the **PACF** shows partial autocorrelations dying down to zero. With real-life or empirical data, random effects will give a slightly more varied picture, as with the higher variance example above. Thus it can be seen that the **MA(1)** model is a mirror image of the **AR(1)** model, as far as the ACF and PACF are concerned.\n",
    "\n",
    "The general expression of the **MA model** in the can be written backshift notation as:\n",
    "\n",
    "$$Y_t = c + (1 - \\theta_1 B - ... - \\theta_q B^q)e_t$$"
   ]
  },
  {
   "cell_type": "code",
   "execution_count": null,
   "id": "1216746a",
   "metadata": {},
   "outputs": [],
   "source": [
    "import pandas as pd\n",
    "import matplotlib.pyplot as plt\n",
    "import statsmodels.api as sm\n",
    "plt.style.use('fivethirtyeight')\n",
    "\n",
    "#==================================================================\n",
    "#Loading the data set\n",
    "df = read_excel('BuildingMaterials.xls', sheet_name='Data', header=0,\n",
    "                index_col=0, parse_dates=True)\n",
    "df.index.freq = 'MS'\n",
    "#=================================================================="
   ]
  },
  {
   "cell_type": "code",
   "execution_count": null,
   "id": "0dbe070d",
   "metadata": {},
   "outputs": [],
   "source": [
    "#Fitting the ARIMA model and printing related statistics\n",
    "# ARIMA(0, 1, 1)(0,1,1)12 in this case;\n",
    "#this one is based on MA1 model template\n",
    "mod = sm.tsa.statespace.SARIMAX(df, order=(1,1,1), seasonal_order=(0,1,1,12))\n",
    "results = mod.fit(disp=False)\n",
    "print(results.summary())\n",
    "#=================================================================="
   ]
  },
  {
   "cell_type": "code",
   "execution_count": null,
   "id": "46ec9e2e",
   "metadata": {},
   "outputs": [],
   "source": [
    "#GRAPH BLOCK1======================================================\n",
    "#Printing the graphical statistics of model (correlogram = ACF plot)\n",
    "results.plot_diagnostics(figsize=(15, 12))\n",
    "plt.show()\n",
    "#=================================================================="
   ]
  },
  {
   "cell_type": "code",
   "execution_count": null,
   "id": "52e553ca",
   "metadata": {},
   "outputs": [],
   "source": [
    "#GRAPH BLOCK2======================================================\n",
    "# printing the part of forecasts fitted to original data (for accuracy evaluation)\n",
    "# the start date has to be provided; hence should be a time within the original time series;\n",
    "# in this case, it is to start on 01 January 2000\n",
    "pred = results.get_prediction(start=pd.to_datetime('2000-01-01'), dynamic=False)\n",
    "pred_ci = pred.conf_int()\n",
    "\n",
    "# printing one-step ahead forecasts together with the original data set;\n",
    "# hence, the starting point (year) of the data set is required\n",
    "# in order to build the plot of original series\n",
    "ax = df['1986':].plot(label='Original data')\n",
    "pred.predicted_mean.plot(ax=ax, label='One-step ahead Forecast', alpha=.7)\n",
    "ax.fill_between(pred_ci.index,\n",
    "                pred_ci.iloc[:, 0],\n",
    "                pred_ci.iloc[:, 1], color='k', alpha=.2)\n",
    "plt.legend()\n",
    "plt.show()\n",
    "#==================================================================="
   ]
  },
  {
   "cell_type": "code",
   "execution_count": null,
   "id": "f52eead1",
   "metadata": {},
   "outputs": [],
   "source": [
    "#GRAPH BLOCK3=======================================================\n",
    "# Get forecast 20 steps ahead in future\n",
    "pred_uc = results.get_forecast(steps=20)\n",
    "# Get confidence intervals of forecasts\n",
    "pred_ci = pred_uc.conf_int()\n",
    "# plotting forecasts ahead\n",
    "ax = df.plot(label='Original data')\n",
    "pred_uc.predicted_mean.plot(ax=ax, label='Forecast values', title='Forecast plot with confidence interval')\n",
    "ax.fill_between(pred_ci.index,\n",
    "                pred_ci.iloc[:, 0],\n",
    "                pred_ci.iloc[:, 1], color='k', alpha=.25)\n",
    "plt.legend()\n",
    "plt.show()\n",
    "#====================================================================\n",
    "\n",
    "#====================================================================\n",
    "# MSE evaluation\n",
    "y_forecasted = pred.predicted_mean\n",
    "y_truth = df['2000-01-01':]\n",
    "# Compute the mean square error\n",
    "MSE = ((y_forecasted - y_truth) ** 2).mean()\n",
    "print('MSE of the forecasts is {}'.format(round(MSE, 2)))\n",
    "#===================================================================="
   ]
  },
  {
   "cell_type": "code",
   "execution_count": null,
   "id": "5c4ef350",
   "metadata": {},
   "outputs": [],
   "source": [
    "#===================================================\n",
    "#Code for identifying the parameters with smallest AIC\n",
    "#===================================================\n",
    "\n",
    "import warnings\n",
    "import itertools\n",
    "plt.style.use('fivethirtyeight')\n",
    "\n",
    "series = read_excel('BuildingMaterials.xls', sheet_name='Data', header=0, index_col=0, parse_dates=True)\n",
    "\n",
    "#Define the p, d and q parameters to take any value between 0 and 1\n",
    "p = d = q = range(0, 2)\n",
    "\n",
    "# Generate all different combinations of p, q and q triplets\n",
    "pdq = list(itertools.product(p, d, q))\n",
    "\n",
    "# Generate all different combinations of seasonal p, q and q triplets (i.e., P, D, Q)\n",
    "seasonal_pdq = [(x[0], x[1], x[2], 12) for x in list(itertools.product(p, d, q))]\n",
    "\n",
    "# Indentification of best model from different combinations of pdq and seasonal_pdq\n",
    "warnings.filterwarnings(\"ignore\") # specify to ignore warning messages\n",
    "best_score, best_param, best_paramSeasonal = float(\"inf\"), None, None\n",
    "for param in pdq:\n",
    "    for param_seasonal in seasonal_pdq:\n",
    "        try:\n",
    "            mod = sm.tsa.statespace.SARIMAX(series, order=param, seasonal_order=param_seasonal, enforce_invertibility=False)\n",
    "            results = mod.fit()\n",
    "            if results.aic < best_score:\n",
    "                best_score, best_param, best_paramSeasonal = results.aic, param, param_seasonal\n",
    "            print('ARIMA{}x{} - AIC:{}'.format(param, param_seasonal, results.aic))\n",
    "        except:\n",
    "            continue\n",
    "print('The best model is ARIMA{}x{} - AIC:{}'.format(best_param, best_paramSeasonal, best_score))"
   ]
  },
  {
   "cell_type": "code",
   "execution_count": null,
   "id": "955dd61e",
   "metadata": {},
   "outputs": [],
   "source": []
  }
 ],
 "metadata": {
  "kernelspec": {
   "display_name": "Python 3 (ipykernel)",
   "language": "python",
   "name": "python3"
  },
  "language_info": {
   "codemirror_mode": {
    "name": "ipython",
    "version": 3
   },
   "file_extension": ".py",
   "mimetype": "text/x-python",
   "name": "python",
   "nbconvert_exporter": "python",
   "pygments_lexer": "ipython3",
   "version": "3.8.8"
  }
 },
 "nbformat": 4,
 "nbformat_minor": 5
}
