{
 "cells": [
  {
   "cell_type": "markdown",
   "id": "d4036bf9",
   "metadata": {},
   "source": [
    "# Objectifs\n",
    "\n",
    "L'objectif de l'exercice d'aujourd'hui est de vous familiariser avec les modèles ARIMA, en apprenant étape par étape comment ils fonctionnent et comment ajuster un modèle ARIMA sur un ensemble de données en utilisant la bibliothèque *statsmodels*."
   ]
  },
  {
   "cell_type": "markdown",
   "id": "1dc46994",
   "metadata": {},
   "source": [
    "# AutoRegressive Integrated Moving Average (ARIMA)\n",
    "Les modèles ARIMA offrent une autre approche pour la prévision de séries temporelles. Le lissage exponentiel et les modèles ARIMA sont les deux approches les plus utilisées pour la prévision de séries temporelles, et offrent des approches complémentaires au problème. Alors que les modèles de lissage exponentiel sont basés sur une description de la tendance et de la saisonnalité dans les données, les modèles ARIMA visent à décrire les autocorrélations dans les données."
   ]
  },
  {
   "cell_type": "markdown",
   "id": "d81d68bf",
   "metadata": {},
   "source": [
    "Une série temporelle stationnaire est une série dont les propriétés statistiques ne dépendent pas du moment où la série est observée. Ainsi, les séries temporelles avec des tendances, ou avec de la saisonnalité, ne sont pas stationnaires - la tendance et la saisonnalité affecteront la valeur de la série temporelle à différents moments. D'autre part, une série de bruit blanc est stationnaire - peu importe quand vous l'observez, elle devrait avoir le même aspect à n'importe quel moment.\n",
    "\n",
    "Certains cas peuvent être perturbants - une série temporelle avec un comportement cyclique (mais sans tendance ou saisonnalité) est stationnaire. C'est parce que les cycles ne sont pas d'une longueur fixe, donc avant d'observer la série, nous ne pouvons pas être sûrs de l'endroit où se trouveront les pics et les creux des cycles.\n",
    "\n",
    "En général, une série temporelle stationnaire n'aura pas de motifs prévisibles à long terme. Les tracés temporels montreront la série comme étant approximativement horizontale (bien que certains comportements cycliques soient possibles), avec une variance constante."
   ]
  },
  {
   "cell_type": "markdown",
   "id": "e00483a8",
   "metadata": {},
   "source": [
    "Les fonctions d'autocorrélation partielle (PACF) sont utilisées pour mesurer le degré d'association entre les observations aux temps $t$ et $t - k$, $Y_t$ et $Y_{t-k}$, lorsque les effets des autres décalages temporels, $1, \\ldots, k - 1$, sont supprimés. L'utilité des autocorrélations partielles peut être comprise dans l'exemple suivant. Supposons qu'il y ait une autocorrélation significative entre $Y_t$ et $Y_{t-1}$. Cela implique qu'il y a aussi une corrélation significative entre $Y_t$ et $Y_{t-2}$, puisqu'ils sont à un pas de temps l'un de l'autre. Il y a donc une autocorrélation significative entre $Y_t$ et $Y_{t-2}$, parce qu'ils sont tous deux corrélés avec $Y_{t-1}$. Cependant, on ne peut savoir s'il y a une relation indépendante entre $Y_t$ et $Y_{t-2}$ que si l'effet de $Y_{t-1}$ peut être partiellement éliminé. Les autocorrélations partielles calculent les vraies corrélations entre $Y_t$ et $Y_{t-1}$, $\\ldots$, $Y_k$ en utilisant une équation de régression connue sous le nom d'autorégression (AR) :\n",
    "\n",
    "$$\n",
    "Y_t = b_0 + b_1Y_{t-1} + b_2Y_{t-2} + \\ldots + b_kY_{t-k}\n",
    "$$"
   ]
  },
  {
   "cell_type": "markdown",
   "id": "920cee0e",
   "metadata": {},
   "source": [
    "## Importer pandas\n",
    "Pandas est une bibliothèque de manipulation de données en Python. Elle fournit des structures de données et des fonctions nécessaires pour manipuler des données structurées. Elle est construite sur deux bibliothèques Python de base - Matplotlib pour la visualisation de données et NumPy pour les opérations mathématiques.\n",
    "\n",
    "L'une des caractéristiques clés de Pandas est sa capacité à lire et à écrire des données à partir d'une variété de formats, y compris, mais sans s'y limiter, les fichiers CSV, les fichiers texte, les bases de données SQL et les feuilles de calcul Excel. La fonction `read_excel` est spécifiquement utilisée pour lire les fichiers Excel. Elle renvoie un DataFrame."
   ]
  },
  {
   "cell_type": "code",
   "execution_count": null,
   "id": "0b4b1eb3",
   "metadata": {},
   "outputs": [],
   "source": [
    "# Exercice\n",
    "# Importe read_excel de pandas\n"
   ]
  },
  {
   "cell_type": "markdown",
   "id": "da3f6ca8",
   "metadata": {},
   "source": [
    "<details>\n",
    "<summary><b>Cliquez ici pour un indice</b></summary>\n",
    "\n",
    "from p import x\n",
    "\n",
    "</details>"
   ]
  },
  {
   "cell_type": "code",
   "execution_count": null,
   "id": "74ca21c9",
   "metadata": {},
   "outputs": [],
   "source": [
    "# Exercice\n",
    "# Utilisez la fonction read_excel pour charger le fichier \"DowJones.xls\" en mémoire. Utilisez la feuille Data2.\n",
    "# Définissez \"header\" à 0 et parse_dates à True\n",
    "series ="
   ]
  },
  {
   "cell_type": "markdown",
   "id": "5f06b3de",
   "metadata": {},
   "source": [
    "<details>\n",
    "<summary><b>Cliquez ici pour un indice</b></summary>\n",
    "\n",
    "series = function('nom_du_fichier', sheet_name='XYZ', header=0,  parse_dates=True)\n",
    "\n",
    "</details>"
   ]
  },
  {
   "cell_type": "code",
   "execution_count": null,
   "id": "e2aa7e3f",
   "metadata": {},
   "outputs": [],
   "source": [
    "# Exercice\n",
    "# utilisez la fonction hist de pandas pour tracer les donnes de la colonne DowJones."
   ]
  },
  {
   "cell_type": "markdown",
   "id": "f3b7c0d1",
   "metadata": {},
   "source": [
    "<details>\n",
    "<summary><b>Cliquez ici pour un indice</b></summary>\n",
    "\n",
    "dataframe['colonne'].hist(bins=100)\n",
    "\n",
    "</details>"
   ]
  },
  {
   "cell_type": "markdown",
   "id": "89d4719c",
   "metadata": {},
   "source": [
    "## Matplotlib pyplot\n",
    "Pyplot est une collection de fonctions dans la populaire bibliothèque de visualisation Matplotlib en Python. Il fournit une interface similaire à MATLAB pour la création de graphiques et de diagrammes. Pyplot est couramment utilisé pour créer des graphiques linéaires, des graphiques à points, des graphiques à barres, des histogrammes, des graphiques 3D, et bien plus encore.\n",
    "\n",
    "L'une des caractéristiques clés de Pyplot est sa capacité à créer facilement des graphiques avec seulement quelques commandes."
   ]
  },
  {
   "cell_type": "code",
   "execution_count": null,
   "id": "b3d06a33",
   "metadata": {},
   "outputs": [],
   "source": [
    "# Exercice\n",
    "#Importe pyplot de matplotlib\n"
   ]
  },
  {
   "cell_type": "code",
   "execution_count": null,
   "id": "0eef609f",
   "metadata": {},
   "outputs": [],
   "source": [
    "# Exercice\n",
    "# Créez un array DowJones_modified et remplissez-le avec la colonne DowJones du dataframe series et ajoutez 1000\n",
    "# à chaque entrée dans une boucle for. Tracez ce nouveau tableau comme un histogramme"
   ]
  },
  {
   "cell_type": "markdown",
   "id": "cf0a7111",
   "metadata": {},
   "source": [
    "<details>\n",
    "<summary><b>Cliquez ici pour un indice</b></summary>\n",
    "\n",
    "array = []\n",
    "    \n",
    "\n",
    "for i in range(0,df['column1'].shape[0]):\n",
    "    \n",
    "    array.append(df['column1'].iloc[i]+ 1000)\n",
    "    \n",
    "pyplot.hist(array, bins=100)\n",
    "\n",
    "</details>"
   ]
  },
  {
   "cell_type": "code",
   "execution_count": null,
   "id": "2ed01c95",
   "metadata": {},
   "outputs": [],
   "source": [
    "# Exercice\n",
    "# importe de  statsmodels les fonctions plot_acf, plot_pacf"
   ]
  },
  {
   "cell_type": "markdown",
   "id": "1a2afa0b",
   "metadata": {},
   "source": [
    "<details>\n",
    "<summary><b>Cliquez ici pour un indice</b></summary>\n",
    "\n",
    "from statsmodels.graphics.tsaplots import x\n",
    "\n",
    "</details>"
   ]
  },
  {
   "cell_type": "code",
   "execution_count": null,
   "id": "2fd66e20",
   "metadata": {},
   "outputs": [],
   "source": [
    "# Exercice\n",
    "# utilisez la fonction plot de pyplot pour tracer la colonne Dates de la série sur l'axe des x et DowJones sur l'axe des y\n",
    "fig, ax = pyplot.subplots(figsize=(12,10))\n",
    "\n",
    "# pyplot....\n",
    "\n",
    "pyplot.title(\"Données Dow Jones vs temps\")"
   ]
  },
  {
   "cell_type": "markdown",
   "id": "6eb11b43",
   "metadata": {},
   "source": [
    "<details>\n",
    "<summary><b>Cliquez ici pour un indice</b></summary>\n",
    "\n",
    "pyplot.plot(df['column1'],series['column2'])\n",
    "\n",
    "</details>"
   ]
  },
  {
   "cell_type": "markdown",
   "id": "d3ec655f",
   "metadata": {},
   "source": [
    "Le graphique des données du Dow Jones par rapport au temps montre une saisonnalité et n'est donc pas stationnaire."
   ]
  },
  {
   "cell_type": "code",
   "execution_count": null,
   "id": "930273f0",
   "metadata": {},
   "outputs": [],
   "source": [
    "# Tracer l'ACF sur 50 décalages temporels\n",
    "series = read_excel('DowJones.xls', sheet_name='Data2', header=0, index_col=0, parse_dates=True)\n",
    "plot_acf(series, title='fonction d\\'autocorrélation de la série temporelle Dow Jones', lags=50)"
   ]
  },
  {
   "cell_type": "code",
   "execution_count": null,
   "id": "770ae5ec",
   "metadata": {},
   "outputs": [],
   "source": [
    "# Tracer le PACF sur 50 décalages temporels\n",
    "plot_pacf(series, title='Autocorrélations partielles de la série temporelle Dow Jones', lags=50)\n",
    "pyplot.show()"
   ]
  },
  {
   "cell_type": "markdown",
   "id": "5b7fca25",
   "metadata": {},
   "source": [
    "### Message à retenir\n",
    "Le PACF, en conjonction avec l'ACF, a de nombreuses applications ; en particulier, il permet de déterminer si une série temporelle est un bruit blanc, stationnaire ou saisonnière. Les définitions du bruit blanc et de la stationnarité, ainsi que des illustrations connexes, sont fournies ci-dessous. De plus, l'ACF et le PACF peuvent être utiles pour identifier les modèles ARIMA, en particulier les modèles AR et MA purs."
   ]
  },
  {
   "cell_type": "markdown",
   "id": "56058251",
   "metadata": {},
   "source": [
    "# Un modèle de bruit blanc\n",
    "\n",
    "Lors des tests d'adéquation, un modèle de prévision est considéré comme suffisamment adapté à une\n",
    "application particulière si les erreurs de prévision sont purement aléatoires. Les résidus sont alors décrits comme\n",
    "du bruit blanc. Un exemple simple d'un modèle de bruit blanc est donné par :\n",
    "\n",
    "$$ Y_t = c + e_t $$\n",
    "\n",
    "où :\n",
    "- c représente un niveau constant global\n",
    "- $e_t$ est une composante d'erreur aléatoire\n",
    "\n",
    "Théoriquement, tous les coefficients d'autocorrélation pour les séries de nombres aléatoires doivent être nuls.\n",
    "Mais comme nous avons des échantillons finis, chacune des autocorrélations de l'échantillon ne sera pas exactement nulle. Il\n",
    "a été démontré que, si une série temporelle est un bruit blanc, les coefficients d'autocorrélation et les coefficients d'autocorrélation partielle\n",
    "sont approximativement indépendants et normalement distribués avec une moyenne\n",
    "zéro et un écart type $(\\frac{1}{\\sqrt{n}})$, où \\(n\\) est le nombre d'observations dans la série. Par conséquent, il\n",
    "est utile de tracer l'**ACF** et le **PACF** avec une plage $(\\pm \\frac{1.96}{\\sqrt{n}})$, lors de l'analyse des coefficients qui sont\n",
    "significatifs ou pour déterminer si les données sont un bruit blanc. Si des coefficients se situent en dehors de cette plage,\n",
    "les données ne sont probablement pas un bruit blanc."
   ]
  },
  {
   "cell_type": "code",
   "execution_count": null,
   "id": "f710b34e",
   "metadata": {},
   "outputs": [],
   "source": [
    "# on importe les librairies nécessaires\n",
    "from random import gauss\n",
    "from random import seed\n",
    "from pandas import Series"
   ]
  },
  {
   "cell_type": "markdown",
   "id": "2ebde355",
   "metadata": {},
   "source": [
    "Exécutez la cellule ci-dessous pour générer des données pour une série temporelle de bruit blanc."
   ]
  },
  {
   "cell_type": "code",
   "execution_count": null,
   "id": "d6dde60e",
   "metadata": {},
   "outputs": [],
   "source": [
    "# initialiser le générateur de nombres aléatoires\n",
    "seed(1)\n",
    "# créer une série de bruit blanc\n",
    "series = [gauss(0.0, 1.0) for i in range(1000)]\n",
    "\n",
    "# Une fois créée, nous pouvons envelopper la liste dans une série Pandas pour plus de commodité.\n",
    "series = Series(series)\n",
    "\n",
    "# statistiques récapitulatives de la série générée artificiellement\n",
    "print('Statistiques de la série générée artificiellement:')\n",
    "print(series.describe())\n",
    "\n",
    "# tracé de la série générée artificiellement\n",
    "series.plot(title='Tracé temporel d\\'un modèle de bruit blanc')\n",
    "pyplot.show()"
   ]
  },
  {
   "cell_type": "code",
   "execution_count": null,
   "id": "dbd2e267",
   "metadata": {},
   "outputs": [],
   "source": [
    "# Exercice\n",
    "# créez le tracé de l'histogramme de la série générée artificiellement"
   ]
  },
  {
   "cell_type": "markdown",
   "id": "a231138f",
   "metadata": {},
   "source": [
    "<details>\n",
    "<summary><b>Cliquez ici pour le code</b></summary>\n",
    "\n",
    "series.hist()\n",
    "\n",
    "</details>"
   ]
  },
  {
   "cell_type": "code",
   "execution_count": null,
   "id": "a47af7f5",
   "metadata": {},
   "outputs": [],
   "source": [
    "# Exercice\n",
    "# tracez le graphique ACF de la série temporelle du bruit blanc générée artificiellement, avec 50 décalages"
   ]
  },
  {
   "cell_type": "markdown",
   "id": "011a2867",
   "metadata": {},
   "source": [
    "<details>\n",
    "<summary><b>Cliquez ici pour le code</b></summary>\n",
    "\n",
    "plot_acf(series, title='ACF d\\'un modèle de bruit blanc', lags=50)\n",
    "\n",
    "</details>"
   ]
  },
  {
   "cell_type": "code",
   "execution_count": null,
   "id": "43ce01eb",
   "metadata": {},
   "outputs": [],
   "source": [
    "# Exercice\n",
    "# Tracer le PACF de la série temporelle du bruit blanc générée artificiellement, avec 50 décalages"
   ]
  },
  {
   "cell_type": "markdown",
   "id": "72604243",
   "metadata": {},
   "source": [
    "# Suppression de la non-stationnarité : la méthode des différences\n",
    "\n",
    "Il est important de supprimer les tendances, ou **non-stationnarité**, des données de séries temporelles avant la construction du modèle, car ces autocorrélations dominent l'ACF. Une façon de supprimer la non-stationnarité est par la méthode des différences. La série différenciée est définie comme le changement entre chaque observation dans la série temporelle originale :\n",
    "\n",
    "$$Y_t' = Y_t - Y_{t-1}$$\n",
    "\n",
    "Parfois, la prise de premières différences est insuffisante pour supprimer la non-stationnarité. Dans ce cas, les différences de second ordre produisent généralement l'effet désiré :\n",
    "\n",
    "$$Y_t'' = Y_t' - Y_{t-1}'$$"
   ]
  },
  {
   "cell_type": "code",
   "execution_count": null,
   "id": "f76c8689",
   "metadata": {},
   "outputs": [],
   "source": [
    "# Exercice\n",
    "# importez le fichier \"Electricity.xls\" qui a une feuille ELEC, sélectionnez header=0, index_col=0 et , parse_dates=True\n",
    "series = \n",
    "\n",
    "# Tracés temporels, ACF et PACF pour les données originales\n",
    "pyplot.plot(series)\n",
    "pyplot.title('Tracé temporel des données originales')"
   ]
  },
  {
   "cell_type": "code",
   "execution_count": null,
   "id": "af18ee20",
   "metadata": {},
   "outputs": [],
   "source": [
    "# Exercice\n",
    "# tracez l'ACF de la série avec 50 décalages (définissez comme titre 'Tracé ACF des données originales')"
   ]
  },
  {
   "cell_type": "code",
   "execution_count": null,
   "id": "75a6b1cc",
   "metadata": {},
   "outputs": [],
   "source": [
    "# Exercice\n",
    "# tracez le PACF de la série avec 50 décalages (définissez comme titre 'Tracé PACF des données originales')"
   ]
  },
  {
   "cell_type": "markdown",
   "id": "b580c383",
   "metadata": {},
   "source": [
    "Exécutez maintenant la cellule ci-dessous et observez les tracés pour la série différenciée saisonnièrement."
   ]
  },
  {
   "cell_type": "code",
   "execution_count": null,
   "id": "a897c5d7",
   "metadata": {},
   "outputs": [],
   "source": [
    "# Différence saisonnière\n",
    "X = series.values\n",
    "SeasDiff = list()\n",
    "for i in range(12, len(X)):\n",
    "    value = X[i] - X[i - 12]\n",
    "    SeasDiff.append(value)\n",
    "\n",
    "# Tracés temporels, ACF et PACF pour la série différenciée saisonnièrement\n",
    "pyplot.plot(SeasDiff)\n",
    "pyplot.title('Tracé temporel de la série différenciée saisonnièrement')"
   ]
  },
  {
   "cell_type": "code",
   "execution_count": null,
   "id": "41a97625",
   "metadata": {},
   "outputs": [],
   "source": [
    "# Exercice\n",
    "# tracez l'ACF de SeasDiff avec 50 décalages (définissez comme titre 'Tracé ACF de la série différenciée saisonnièrement')"
   ]
  },
  {
   "cell_type": "code",
   "execution_count": null,
   "id": "0389419a",
   "metadata": {},
   "outputs": [],
   "source": [
    "# Exercice\n",
    "# tracez le PACF de SeasDiff avec 50 décalages (définissez comme titre 'Tracé PACF de la série différenciée saisonnièrement')"
   ]
  },
  {
   "cell_type": "markdown",
   "id": "9d8e5533",
   "metadata": {},
   "source": [
    "Exécutez la cellule ci-dessous et regardez les tracés pour la série différenciée saisonnièrement et en première différence."
   ]
  },
  {
   "cell_type": "code",
   "execution_count": null,
   "id": "7bd2e1c0",
   "metadata": {},
   "outputs": [],
   "source": [
    "### Différence saisonnière + première différence\n",
    "Y = SeasDiff\n",
    "SeasFirstDiff = list()\n",
    "for i in range(1, len(Y)):\n",
    "    value = Y[i] - Y[i - 1]\n",
    "    SeasFirstDiff.append(value)\n",
    "pyplot.plot(SeasFirstDiff)\n",
    "pyplot.title('Tracé temporel de la série différenciée saisonnièrement et en première différence')\n",
    "plot_acf(SeasFirstDiff, title='Tracé ACF de la série différenciée saisonnièrement et en première différence', lags=50)\n",
    "plot_pacf(SeasFirstDiff, title='Tracé PACF de la série différenciée saisonnièrement et en première différence', lags=50)\n",
    "pyplot.show()"
   ]
  },
  {
   "cell_type": "markdown",
   "id": "256d8b46",
   "metadata": {},
   "source": [
    "# Modèles d'autorégression (AR)\n",
    "\n",
    "Les modèles qui utilisent l'équation d'autorégression (AR) sont appelés modèles AR. Ils sont\n",
    "classifiés par le nombre de décalages temporels, \\(p\\), utilisés dans l'autorégression. En général, un modèle AR\n",
    "d'ordre \\(p\\), ou modèle AR(\\(p\\)), est écrit comme suit :\n",
    "\n",
    "$$ Y_t = c + \\phi_1 Y_{t-1} + \\phi_2 Y_{t-2} + ... + \\phi_p Y_{t-p} + e_t $$\n",
    "\n",
    "où :\n",
    "- c représente un niveau constant global.\n",
    "- $(\\phi_j)$ sont des paramètres à déterminer.\n",
    "- $(e_t)$ est le terme d'erreur.\n",
    "\n",
    "Il y a des contraintes sur les valeurs admissibles de $(\\phi_j)$ :\n",
    "- Pour $(p = 1)$, $(-1 < \\phi_1 < 1)$.\n",
    "- Pour $(p = 2$), $(-1 < \\phi_2 < 1$), $(\\phi_2 + \\phi_1 < 1$), et $(\\phi_2 - \\phi_1 < 1$).\n",
    "- Pour $(p \\geq 3$), des conditions plus compliquées s'appliquent.\n",
    "\n",
    "Un exemple de modèle AR(1) est :\n",
    "\n",
    "$$ Y_t = 3 + 0.7 Y_{t-1} + e_t $$\n",
    "\n",
    "où $(e_t$) suit une distribution normale de moyenne 0 et de variance 1. \n",
    "\n",
    "Exécutez la cellule ci-dessous pour regarder les tracés d'un exemple de modèle AR(1)."
   ]
  },
  {
   "cell_type": "code",
   "execution_count": null,
   "id": "1734ec57",
   "metadata": {},
   "outputs": [],
   "source": [
    "series = read_excel('DataAR1model.xls', sheet_name='ARdata', usecols = [1],\n",
    "                    header=0)\n",
    "\n",
    "# Tracés temporels, ACF et PACF pour les données originales\n",
    "pyplot.plot(series)\n",
    "pyplot.title('Tracé temporel des données AR1')\n",
    "plot_acf(series, title='Tracé ACF des données AR1', lags=20)\n",
    "plot_pacf(series, title='Tracé PACF des données AR1', lags=20)\n",
    "pyplot.show()"
   ]
  },
  {
   "cell_type": "markdown",
   "id": "516ec93b",
   "metadata": {},
   "source": [
    "Pour un modèle **AR(1)**, typiquement l'**ACF** montre des autocorrélations qui diminuent jusqu'à zéro, tandis qu'il n'y a qu'un seul pic dans le **PACF** au décalage 1. Avec des données empiriques ou de la vie réelle, les effets aléatoires donneront une image plus variée, comme le montre l'exemple de variance plus élevée ci-dessus.\n",
    "\n",
    "L'expression générale du modèle **AR** peut être réécrite en notation de décalage arrière comme suit :\n",
    "\n",
    "$$(1 - \\phi_1 B - ... - \\phi_p B^p)Y_t = c + e_t$$"
   ]
  },
  {
   "cell_type": "markdown",
   "id": "5c723b5c",
   "metadata": {},
   "source": [
    "# Modèles de moyenne mobile (MA)\n",
    "\n",
    "En plus de la régression sur les observations à des décalages temporels précédents, comme dans les modèles AR, nous pouvons également faire une régression sur les termes d'erreur à des décalages temporels précédents. De tels modèles sont appelés modèles de moyenne mobile (MA) (rien à voir avec la moyenne mobile décrite au chapitre 2). Là encore, un modèle MA est classé par le nombre de décalages temporels, q, utilisés dans la régression. Un MA(q) général est écrit comme suit :\n",
    "\n",
    "$ Y_t = c + e_t - \\theta_1 e_{t-1} - \\ldots - \\theta_q e_{t-q} $\n",
    "\n",
    "où :\n",
    "- c est une constante,\n",
    "- $(\\theta_j$) sont des paramètres à déterminer, et\n",
    "- $(e_t$) sont les termes d'erreur.\n",
    "\n",
    "Comme pour les modèles AR, il y a des restrictions sur les valeurs admissibles de \\(\\theta_j\\) :\n",
    "- Pour $(q = 1$), $(-1 < \\theta_1 < 1$).\n",
    "- Pour $(q = 2$), $(-1 < \\theta_2 < 1$), $(\\theta_2 + \\theta_1 < 1$), et $(\\theta_2 - \\theta_1 < 1$).\n",
    "- Pour $(q \\geq 3$), des conditions plus compliquées s'appliquent.\n",
    "\n",
    "Un exemple de modèle MA(1) est :\n",
    "\n",
    "$ Y_t = 10 + e_t - 0.7e_{t-1} $\n",
    "\n",
    "où $(e_t$) suit une distribution normale de moyenne 0 et de variance 1. \n",
    "\n",
    "Exécutez la cellule ci-dessous pour regarder les tracés pour un exemple de modèle MA(1)."
   ]
  },
  {
   "cell_type": "code",
   "execution_count": null,
   "id": "a0f554f1",
   "metadata": {},
   "outputs": [],
   "source": [
    "series = read_excel('DataMA1model.xls', sheet_name='MAdata', usecols = [1],\n",
    "                    header=0)\n",
    "\n",
    "# Tracés temporels, ACF et PACF pour les données originales\n",
    "pyplot.plot(series)\n",
    "pyplot.title('Tracé temporel des données MA1')\n",
    "plot_acf(series, title='Tracé ACF des données MA1', lags=20)\n",
    "plot_pacf(series, title='Tracé PACF des données MA1', lags=20)\n",
    "pyplot.show()"
   ]
  },
  {
   "cell_type": "markdown",
   "id": "a8a60ff2",
   "metadata": {},
   "source": [
    "Pour un modèle **MA(1)**, typiquement l'**ACF** ne montre qu'un seul pic au décalage 1, tandis que le **PACF** montre des autocorrélations partielles qui diminuent jusqu'à zéro. Avec des données empiriques ou de la vie réelle, les effets aléatoires donneront une image légèrement plus variée, comme avec l'exemple de variance plus élevée ci-dessus. Ainsi, on peut voir que le modèle **MA(1)** est l'image miroir du modèle **AR(1)**, en ce qui concerne l'ACF et le PACF.\n",
    "\n",
    "L'expression générale du modèle **MA** peut être réécrite en notation de décalage arrière comme suit :\n",
    "\n",
    "$$Y_t = c + (1 - \\theta_1 B - ... - \\theta_q B^q)e_t$$"
   ]
  },
  {
   "cell_type": "markdown",
   "id": "2ce1e3fe",
   "metadata": {},
   "source": [
    "# Modèles ARIMA\n",
    "Les modèles AR et MA précédemment discutés peuvent être combinés avec la prise de différences pour donner la série de modèles **ARIMA(p, d, q)**, qui ont été discutés en détail en classe ce matin. Les cellules ci-dessous vous montrent un exemple de comment un modèle ARIMA est ajusté sur un ensemble de données décrivant un taux de production de matériaux de construction au fil du temps, en utilisant la méthode **tsa.statespace.SARIMAX** implémentée dans *statsmodel*.\n",
    "\n",
    "Documentation : https://www.statsmodels.org/dev/generated/statsmodels.tsa.statespace.sarimax.SARIMAX.html\n",
    "\n",
    "La fonction SARIMAX prend en entrée le dataframe pandas *df* avec les données, puis deux tuples spécifiant les paramètres *order* et *seasonal_order* pour le modèle. **Nous verrons dans le prochain cours comment choisir des valeurs optimales de ces paramètres**. Aujourd'hui, exécutez simplement les cellules ci-dessous et familiarisez-vous avec le code utilisé pour ajuster le modèle avec des paramètres donnés sur un ensemble de données donné et obtenir des prédictions."
   ]
  },
  {
   "cell_type": "code",
   "execution_count": null,
   "id": "982bb57f",
   "metadata": {},
   "outputs": [],
   "source": [
    "import pandas as pd\n",
    "from pandas import read_excel\n",
    "import matplotlib.pyplot as plt\n",
    "import statsmodels.api as sm\n",
    "plt.style.use('fivethirtyeight')\n",
    "\n",
    "#==================================================================\n",
    "# Chargement de l'ensemble de données\n",
    "df = read_excel('BuildingMaterials.xls', sheet_name='Data', header=0,\n",
    "                index_col=0, parse_dates=True)\n",
    "df.index.freq = 'MS'\n",
    "#=================================================================="
   ]
  },
  {
   "cell_type": "code",
   "execution_count": null,
   "id": "611d3e97",
   "metadata": {},
   "outputs": [],
   "source": [
    "# Ajustement du modèle ARIMA et impression des statistiques associées\n",
    "# ARIMA(0, 1, 1)(0,1,1)12 dans ce cas ;\n",
    "# celui-ci est basé sur le modèle de template MA1\n",
    "mod = sm.tsa.statespace.SARIMAX(df, order=(1,1,1), seasonal_order=(0,1,1,12))\n",
    "results = mod.fit(disp=False)\n",
    "print(results.summary())\n",
    "#=================================================================="
   ]
  },
  {
   "cell_type": "markdown",
   "id": "f8a02164",
   "metadata": {},
   "source": [
    "La cellule ci-dessous montre comment tracer, sur les données originales, la partie de la prévision qui est réellement ajustée aux données originales, pour l'évaluation de la précision."
   ]
  },
  {
   "cell_type": "code",
   "execution_count": null,
   "id": "84c154f1",
   "metadata": {},
   "outputs": [],
   "source": [
    "# impression de la partie des prévisions ajustées aux données originales (pour l'évaluation de la précision)\n",
    "# la date de début doit être fournie ; elle doit donc être un moment dans la série temporelle originale ;\n",
    "# dans ce cas, il s'agit de commencer le 01 janvier 2000\n",
    "pred = results.get_prediction(start=pd.to_datetime('2000-01-01'), dynamic=False)\n",
    "\n",
    "# impression des prévisions à un pas en avant avec l'ensemble de données original ;\n",
    "# donc, le point de départ (année) de l'ensemble de données est nécessaire\n",
    "# afin de construire le tracé de la série originale\n",
    "ax = df['1986':].plot(label='Données originales')\n",
    "pred.predicted_mean.plot(ax=ax, label='Prévision à un pas en avant', alpha=.7)\n",
    "plt.legend()\n",
    "plt.show()"
   ]
  },
  {
   "cell_type": "markdown",
   "id": "86ca5415",
   "metadata": {},
   "source": [
    "La cellule ci-dessous montre comment faire des prédictions 20 étapes à l'avance dans le futur en utilisant le modèle ARIMA ajusté, et les tracer après les données originales."
   ]
  },
  {
   "cell_type": "code",
   "execution_count": null,
   "id": "a1d18b13",
   "metadata": {},
   "outputs": [],
   "source": [
    "# Obtenir une prévision 20 étapes à l'avance dans le futur\n",
    "pred_uc = results.get_forecast(steps=20)\n",
    "\n",
    "# Tracer les prévisions à l'avance\n",
    "ax = df.plot(label='Données originales')\n",
    "pred_uc.predicted_mean.plot(ax=ax, label='Valeurs prévues', title='Tracé de prévision avec intervalle de confiance')\n",
    "plt.legend()\n",
    "plt.show()"
   ]
  },
  {
   "cell_type": "markdown",
   "id": "9c5258ca",
   "metadata": {},
   "source": [
    "Comme exercice, dans la cellule ci-dessous, obtenez les prévisions 100 étapes à l'avance, et tracez-les avec les données originales."
   ]
  },
  {
   "cell_type": "code",
   "execution_count": null,
   "id": "86d7265b",
   "metadata": {},
   "outputs": [],
   "source": [
    "# Obtenir une prévision 100 étapes à l'avance dans le futur\n",
    "pred_uc = \n",
    "\n",
    "# Tracer les prévisions à l'avance\n",
    "ax = df.plot("
   ]
  },
  {
   "cell_type": "markdown",
   "id": "e49c20bd",
   "metadata": {},
   "source": [
    "Enfin, les trois cellules ci-dessous utilisent le modèle ARIMA ajusté pour faire des prédictions, puis comparent les prédictions aux vraies données et évaluent la MSE (Mean Squared Error)."
   ]
  },
  {
   "cell_type": "code",
   "execution_count": null,
   "id": "b9396da6",
   "metadata": {},
   "outputs": [],
   "source": [
    "# Obtenir la prévision\n",
    "y_forecasted = pred.predicted_mean\n",
    "print(y_forecasted)"
   ]
  },
  {
   "cell_type": "code",
   "execution_count": null,
   "id": "cfce73f4",
   "metadata": {},
   "outputs": [],
   "source": [
    "# Récupérer les vraies données du dataframe pandas\n",
    "y_truth = df['2000-01-01':]\n",
    "print(y_truth)"
   ]
  },
  {
   "cell_type": "code",
   "execution_count": null,
   "id": "a3606506",
   "metadata": {},
   "outputs": [],
   "source": [
    "# Calculer l'erreur quadratique moyenne\n",
    "MSE = ((y_forecasted.values - y_truth.values[:,0]) ** 2).mean()\n",
    "print('L\\'erreur quadratique moyenne des prévisions est {}'.format(round(MSE, 2)))"
   ]
  },
  {
   "cell_type": "code",
   "execution_count": null,
   "id": "ed5122b2-0269-470a-9813-eb72906738e4",
   "metadata": {},
   "outputs": [],
   "source": []
  }
 ],
 "metadata": {
  "kernelspec": {
   "display_name": "Python 3 (ipykernel)",
   "language": "python",
   "name": "python3"
  },
  "language_info": {
   "codemirror_mode": {
    "name": "ipython",
    "version": 3
   },
   "file_extension": ".py",
   "mimetype": "text/x-python",
   "name": "python",
   "nbconvert_exporter": "python",
   "pygments_lexer": "ipython3",
   "version": "3.8.17"
  }
 },
 "nbformat": 4,
 "nbformat_minor": 5
}
