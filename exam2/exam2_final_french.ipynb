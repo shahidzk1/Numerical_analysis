{
 "cells": [
  {
   "cell_type": "markdown",
   "id": "577b776a",
   "metadata": {},
   "source": [
    "## Signal d'onde gravitationnelle provenant de trous noirs en train de fusionner\n",
    "\n",
    "Cette série temporelle représente l'amplitude du signal d'onde gravitationnelle généré par une paire de trous noirs spiralant l'un vers l'autre et finissant par fusionner. À mesure que les trous noirs spiralent vers l'intérieur, l'amplitude et la fréquence du signal d'onde gravitationnelle augmentent avec le temps. Ce qui suit décrit la formulation mathématique utilisée pour simuler ce signal :\n",
    "\n",
    "### Description mathématique\n",
    "\n",
    "1. **Variable de temps** :\n",
    "   - $( T = 100 $) : Temps total.\n",
    "   - $( \\Delta t = 0.1 $) : Pas de temps.\n",
    "   - $( t = \\{0, 0.1, 0.2, \\ldots, 99.9\\} $) : Points de temps discrets.\n",
    "\n",
    "2. **Amplitude du signal d'onde gravitationnelle** :\n",
    "   - $( A_0 = 0.01 $) : Amplitude initiale.\n",
    "   - $( \\alpha = 0.0001 $) : Taux de croissance de l'amplitude.\n",
    "   - $( A(t) = A_0 + \\alpha \\cdot t $) : L'amplitude augmente linéairement avec le temps.\n",
    "\n",
    "3. **Fréquence du signal d'onde gravitationnelle** :\n",
    "   - $( f_0 = 0.05 $) : Fréquence initiale.\n",
    "   - $( \\beta = 0.0005 $) : Taux d'augmentation de la fréquence.\n",
    "   - $( f(t) = f_0 + \\beta \\cdot t $) : La fréquence augmente linéairement avec le temps.\n",
    "\n",
    "4. **Signal d'onde gravitationnelle** :\n",
    "   - Le signal est modélisé comme une onde sinusoïdale avec une amplitude et une fréquence variant dans le temps.\n",
    "   - $( S(t) = A(t) \\cdot \\sin(2 \\pi f(t) t) $).\n",
    "   - Du bruit $( N(t) $) est ajouté pour simuler des observations réelles.\n",
    "   - $( N(t) $) est normalement distribué avec un écart type de 0.015.\n",
    "\n",
    "5. **Signal bruité** :\n",
    "   - $( S_{\\text{bruité}}(t) = S(t) + N(t) $).\n",
    "\n",
    "### Implémentation\n",
    "\n",
    "Le code Python suivant génère le signal d'onde gravitationnelle, ajoute du bruit, et sauvegarde les données résultantes dans un fichier Excel."
   ]
  },
  {
   "cell_type": "code",
   "execution_count": null,
   "id": "0d1bc209",
   "metadata": {},
   "outputs": [],
   "source": [
    "# Importer les bibliothèques nécessaires\n",
    "import numpy as np\n",
    "import pandas as pd\n",
    "\n",
    "# Définir les paramètres pour la génération du signal d'onde gravitationnelle\n",
    "amplitude_initiale = 0.01  # Amplitude initiale de l'onde\n",
    "taux_de_croissance_amplitude = 0.0001  # Taux auquel l'amplitude augmente\n",
    "frequence_initiale = 0.05  # Fréquence initiale de l'onde\n",
    "taux_d_augmentation_frequence = 0.0005  # Taux auquel la fréquence augmente\n",
    "T = 100  # Temps total\n",
    "dt = 0.1  # Pas de temps\n",
    "\n",
    "# Générer les points de temps\n",
    "t = np.arange(0, T, dt)\n",
    "\n",
    "# Générer le signal d'onde gravitationnelle avec une amplitude et une fréquence croissantes\n",
    "amplitude = amplitude_initiale + taux_de_croissance_amplitude * t\n",
    "frequence = frequence_initiale + taux_d_augmentation_frequence * t\n",
    "signal = amplitude * np.sin(2 * np.pi * frequence * t)\n",
    "\n",
    "# Ajouter du bruit au signal\n",
    "bruit = np.random.normal(scale=0.015, size=len(t))\n",
    "signal_bruite = signal + bruit\n",
    "\n",
    "# Créer un DataFrame\n",
    "df = pd.DataFrame({'Time': t, 'Signal': signal_bruite})\n",
    "\n",
    "df.to_excel('gravitational_wave.xlsx','data')"
   ]
  },
  {
   "cell_type": "markdown",
   "id": "d3788120",
   "metadata": {},
   "source": [
    "### Importation et visualisation des données\n",
    "Importez le fichier Excel et visualisez les données avec différentes techniques"
   ]
  },
  {
   "cell_type": "code",
   "execution_count": null,
   "id": "63a39543",
   "metadata": {},
   "outputs": [],
   "source": [
    "# Exercice 1 \n",
    "# Téléchargez le fichier Excel gravitational_wave.xlsx en utilisant Pandas dans un objet dataframe"
   ]
  },
  {
   "cell_type": "code",
   "execution_count": null,
   "id": "906ad6a0",
   "metadata": {},
   "outputs": [],
   "source": [
    "# Exercice 2 \n",
    "# Tracez le temps (axe des x) par rapport à la position (axe des y) en utilisant matplotlib pyplot. Ajoutez des étiquettes appropriées.\n",
    "\n",
    "\n",
    "# Tracez les données générées de l'onde gravitationnelle (signal) en fonction du temps."
   ]
  },
  {
   "cell_type": "code",
   "execution_count": null,
   "id": "81f00a5a",
   "metadata": {},
   "outputs": [],
   "source": [
    "# Exercice 3 \n",
    "# Tracez la fonction d'autocorrélation de la série temporelle des données de position (par exemple 50 retards)\n",
    "# Tracez la fonction d'autocorrélation partielle de la série temporelle des données de position (par exemple 50 retards)"
   ]
  },
  {
   "cell_type": "markdown",
   "id": "c6d30695",
   "metadata": {},
   "source": [
    "### Modélisation et prévision\n",
    "Après avoir pu visualiser les données, essayez d'analyser les données de position et de faire des prévisions en utilisant le modèle SARIMAX."
   ]
  },
  {
   "cell_type": "code",
   "execution_count": null,
   "id": "78b422b6",
   "metadata": {},
   "outputs": [],
   "source": [
    "# Exercice 4\n",
    "# importez itertools, et utilisez-le pour générer différentes combinaisons de paramètres pour le modèle SARIMAX\n",
    "\n",
    "\n",
    "# Les paramètres p et q sont donnés et égaux à 2; \n",
    "\n",
    "\n",
    "# Définissez le paramètre d pour être un entier entre 0 et 1\n",
    "\n",
    "\n",
    "# Générez toutes les différentes combinaisons de triplets p, d et q\n",
    "\n",
    "\n",
    "# Générez toutes les différentes combinaisons de triplets saisonniers p, d et q (c'est-à-dire, P, D, Q)\n",
    "# Utilisez une valeur de 10 pour la saisonnalité S"
   ]
  },
  {
   "cell_type": "code",
   "execution_count": null,
   "id": "0aedc6ce",
   "metadata": {},
   "outputs": [],
   "source": [
    "# Exercice 5\n",
    "# Définissez un modèle SARIMAX et identifiez les paramètres optimaux selon le critère AIC\n",
    "import warnings\n",
    "import traceback\n",
    "\n",
    "warnings.filterwarnings(\"ignore\")  # spécifie d'ignorer les messages d'avertissement\n",
    "\n",
    "# Identification du meilleur modèle parmi différentes combinaisons de pdq et de seasonal_pdq"
   ]
  },
  {
   "cell_type": "code",
   "execution_count": null,
   "id": "1e03bedf",
   "metadata": {},
   "outputs": [],
   "source": [
    "# Exercice 6 \n",
    "# Imprimez le meilleur ensemble de paramètres selon le critère AIC"
   ]
  },
  {
   "cell_type": "code",
   "execution_count": null,
   "id": "f118a81b",
   "metadata": {},
   "outputs": [],
   "source": [
    "# Exercice 7 \n",
    "# Ajustez à nouveau le modèle en utilisant les paramètres optimaux, et affichez un résumé des résultats."
   ]
  },
  {
   "cell_type": "code",
   "execution_count": null,
   "id": "beee7d34",
   "metadata": {},
   "outputs": [],
   "source": [
    "# Exercice 8 \n",
    "# Prévoyez les valeurs futures pour 20 étapes\n",
    "\n",
    "\n",
    "\n",
    "# Extrait les valeurs prévues et les intervalles de confiance"
   ]
  },
  {
   "cell_type": "code",
   "execution_count": null,
   "id": "7b61008e",
   "metadata": {},
   "outputs": [],
   "source": [
    "# Exercice 9 \n",
    "# Tracez les résultats, la tendance prédite selon le modèle, et la prévision\n",
    "\n",
    "# Tracez les données originales, c'est-à-dire le temps (axe des x) vs position\n",
    "\n",
    "# Tracez le temps (axe des x) vs prédictions \n",
    "\n",
    "# Tracez l'indice de prévision (axe des x) vs valeurs de prévision"
   ]
  },
  {
   "cell_type": "markdown",
   "id": "7e66c8c6",
   "metadata": {},
   "source": [
    "### Analyse des erreurs\n",
    "Analysez les erreurs des prédictions"
   ]
  },
  {
   "cell_type": "code",
   "execution_count": null,
   "id": "aa590a6f",
   "metadata": {},
   "outputs": [],
   "source": [
    "# Exercice 10 \n",
    "# Calculez la :\n",
    "#   Somme des carrés totaux (SST),\n",
    "#   Somme des carrés des erreurs (SSE),\n",
    "#   Somme des carrés de la régression (SSR),\n",
    "# et ensuite le coefficient de détermination (R²) \n",
    "\n",
    "\n",
    "# Affichez les résultats"
   ]
  },
  {
   "cell_type": "code",
   "execution_count": null,
   "id": "d2fb56ee",
   "metadata": {},
   "outputs": [],
   "source": [
    "# Exercice 11 \n",
    "# Définissez les degrés de liberté (Nombre d'observations et Nombre de prédicteurs dans SARIMAX)\n",
    "\n",
    "\n",
    "# Calculez MST, MSE, MSR, et le score F\n",
    "\n",
    "\n",
    "# Affichez les résultats"
   ]
  },
  {
   "cell_type": "code",
   "execution_count": null,
   "id": "87b0664b",
   "metadata": {},
   "outputs": [],
   "source": [
    "# Exercice 12 \n",
    "# utilisez l'erreur quadratique moyenne pour évaluer la précision de la prévision en calculant l'intervalle de confiance à 95% de probabilité \n",
    "# tracez les données originales, la prédiction et les intervalles de confiance inférieur et supérieur"
   ]
  }
 ],
 "metadata": {
  "kernelspec": {
   "display_name": "Python 3 (ipykernel)",
   "language": "python",
   "name": "python3"
  },
  "language_info": {
   "codemirror_mode": {
    "name": "ipython",
    "version": 3
   },
   "file_extension": ".py",
   "mimetype": "text/x-python",
   "name": "python",
   "nbconvert_exporter": "python",
   "pygments_lexer": "ipython3",
   "version": "3.11.7"
  }
 },
 "nbformat": 4,
 "nbformat_minor": 5
}
