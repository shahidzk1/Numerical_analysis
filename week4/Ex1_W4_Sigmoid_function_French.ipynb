{
 "cells": [
  {
   "cell_type": "markdown",
   "id": "75c00214",
   "metadata": {},
   "source": [
    "# Régression logistique\n",
    "\n",
    "Dans ce TP, vous allez :\n",
    "- explorer la fonction sigmoïde (également connue sous le nom de fonction logistique)\n",
    "- explorer la régression logistique ; qui utilise la fonction sigmoïde"
   ]
  },
  {
   "cell_type": "code",
   "execution_count": null,
   "id": "2a647b58",
   "metadata": {},
   "outputs": [],
   "source": [
    "import numpy as np\n",
    "#%matplotlib widget\n",
    "import matplotlib.pyplot as plt\n",
    "from plt_one_addpt_onclick import plt_one_addpt_onclick\n",
    "from lab_utils_common import draw_vthresh\n",
    "plt.style.use('./deeplearning.mplstyle')"
   ]
  },
  {
   "cell_type": "markdown",
   "id": "57a1f4cc",
   "metadata": {},
   "source": [
    "## Fonction sigmoïde (logistique)\n",
    "Comme vu dans de cours, pour une tâche de classification, nous pouvons commencer par utiliser notre modèle de régression linéaire, $f_{\\mathbf{w},b}(\\mathbf{x}^{(i)}) = \\mathbf{w} \\cdot  \\mathbf{x}^{(i)} + b$, pour prédire $y$ étant donné $x$. \n",
    "- Cependant, nous aimerions que les prédictions de notre modèle de classification soient entre 0 et 1 puisque notre variable de sortie $y$ est soit 0, soit 1. \n",
    "- Cela peut être accompli en utilisant une \"fonction sigmoïde\" qui mappe toutes les valeurs d'entrée à des valeurs entre 0 et 1. \n",
    "\n",
    "\n",
    "Implémentons la fonction sigmoïde et voyons ça par nous-mêmes.\n",
    "\n",
    "## Formule de la fonction sigmoïde\n",
    "\n",
    "La formule d'une fonction sigmoïde est la suivante -  \n",
    "\n",
    "$$g(z) = \\frac{1}{1+e^{-z}}\\tag{1}$$\n",
    "\n",
    "Dans le cas de la régression logistique, z (l'entrée de la fonction sigmoïde), est la sortie d'un modèle de régression linéaire. \n",
    "- Dans le cas d'un seul exemple, $z$ est un scalaire.\n",
    "- dans le cas de plusieurs exemples, $z$ peut être un vecteur composé de $m$ valeurs, une pour chaque exemple. \n",
    "- L'implémentation de la fonction sigmoïde devrait couvrir ces deux formats d'entrée potentiels."
   ]
  },
  {
   "cell_type": "markdown",
   "id": "a406d78b",
   "metadata": {},
   "source": [
    "NumPy a une fonction appelée [`exp()`](https://numpy.org/doc/stable/reference/generated/numpy.exp.html), qui offre un moyen pratique de calculer l'exponentielle ( $e^{z}$) de tous les éléments dans le tableau d'entrée (`z`).\n",
    " \n",
    "Elle fonctionne également avec un seul nombre en entrée, comme le montre l'exemple ci-dessous."
   ]
  },
  {
   "cell_type": "code",
   "execution_count": null,
   "id": "03d28d3d",
   "metadata": {},
   "outputs": [],
   "source": [
    "# L'entrée est un tableau.\n",
    "input_array = np.array([1,2,3])\n",
    "exp_array = np.exp(input_array)\n",
    "\n",
    "print(\"Entrée pour exp:\", input_array)\n",
    "print(\"Sortie de exp:\", exp_array)\n",
    "\n",
    "# L'entrée est un seul nombre\n",
    "input_val = 1  \n",
    "exp_val = np.exp(input_val)\n",
    "\n",
    "print(\"Entrée pour exp:\", input_val)\n",
    "print(\"Sortie de exp:\", exp_val)"
   ]
  },
  {
   "cell_type": "markdown",
   "id": "d3666c5d",
   "metadata": {},
   "source": [
    "Définissez la fonction `sigmoid` en python dans la cellule ci-dessous."
   ]
  },
  {
   "cell_type": "code",
   "execution_count": null,
   "id": "a8268889",
   "metadata": {},
   "outputs": [],
   "source": [
    "def sigmoid(z):\n",
    "    \"\"\"\n",
    "    Calcule la sigmoïde de z\n",
    "\n",
    "    Args:\n",
    "        z (ndarray): Un scalaire, un tableau numpy de n'importe quelle taille.\n",
    "\n",
    "    Returns:\n",
    "        g (ndarray): sigmoid(z), de la même forme que z\n",
    "         \n",
    "    \"\"\"\n",
    "    #utilisez numpy pour définir le nombre d'Euler e\n",
    "\n",
    "    return g"
   ]
  },
  {
   "cell_type": "markdown",
   "id": "45d50e5a",
   "metadata": {},
   "source": [
    "Voyons ce que cette fonction renvoie pour différentes valeurs de `z`."
   ]
  },
  {
   "cell_type": "code",
   "execution_count": null,
   "id": "1f908be4",
   "metadata": {},
   "outputs": [],
   "source": [
    "# Générer un tableau de valeurs régulièrement espacées entre -10 et 10\n",
    "z_tmp = np.arange(-10,11)\n",
    "\n",
    "# Utiliser la fonction implémentée ci-dessus pour obtenir les valeurs de la sigmoïde\n",
    "y = sigmoid(z_tmp)\n",
    "\n",
    "# Code pour afficher les deux tableaux côte à côte\n",
    "np.set_printoptions(precision=3) \n",
    "print(\"Entrée (z), Sortie (sigmoid(z))\")\n",
    "print(np.c_[z_tmp, y])"
   ]
  },
  {
   "cell_type": "markdown",
   "id": "a4c2145b",
   "metadata": {},
   "source": [
    "Si votre implémentation est correcte, alors vous devriez voir\n",
    "Entrée (z), Sortie (sigmoid(z))\n",
    "\n",
    "[[-1.000e+01  4.540e-05]\n",
    "\n",
    " [-9.000e+00  1.234e-04]\n",
    "\n",
    "[-8.000e+00  3.354e-04]\n",
    "\n",
    "[-7.000e+00  9.111e-04]\n",
    "\n",
    "[-6.000e+00  2.473e-03]\n",
    "\n",
    "[-5.000e+00  6.693e-03]\n",
    "\n",
    "[-4.000e+00  1.799e-02]\n",
    "\n",
    "[-3.000e+00  4.743e-02]\n",
    "\n",
    "[-2.000e+00  1.192e-01]\n",
    "\n",
    "[-1.000e+00  2.689e-01]\n",
    "\n",
    "[ 0.000e+00  5.000e-01]\n",
    "\n",
    "[ 1.000e+00  7.311e-01]\n",
    "\n",
    "[ 2.000e+00  8.808e-01]\n",
    "\n",
    "[ 3.000e+00  9.526e-01]\n",
    "\n",
    "[ 4.000e+00  9.820e-01]\n",
    "\n",
    "[ 5.000e+00  9.933e-01]\n",
    "\n",
    "[ 6.000e+00  9.975e-01]\n",
    "\n",
    "[ 7.000e+00  9.991e-01]\n",
    "\n",
    "[ 8.000e+00  9.997e-01]\n",
    "\n",
    "[ 9.000e+00  9.999e-01]\n",
    "\n",
    "[ 1.000e+01  1.000e+00]]"
   ]
  },
  {
   "cell_type": "markdown",
   "id": "99ff5d99",
   "metadata": {},
   "source": [
    "Les valeurs dans la colonne de gauche sont `z`, et les valeurs dans la colonne de droite sont `sigmoid(z)`. Comme vous pouvez le voir, les valeurs d'entrée de la sigmoïde varient de -10 à 10, et les valeurs de sortie varient de 0 à 1. \n",
    "\n",
    "Maintenant, essayons de tracer cette fonction en utilisant la bibliothèque `matplotlib`."
   ]
  },
  {
   "cell_type": "code",
   "execution_count": null,
   "id": "6aa4fd23",
   "metadata": {},
   "outputs": [],
   "source": [
    "# Plot z vs sigmoid(z)\n",
    "fig,ax = plt.subplots(1,1,figsize=(5,3))\n",
    "ax.plot(z_tmp, y, c=\"b\")\n",
    "\n",
    "ax.set_title(\"Fonction Sigmoïde\")\n",
    "ax.set_ylabel('sigmoid(z)')\n",
    "ax.set_xlabel('z')\n",
    "draw_vthresh(ax,0)"
   ]
  },
  {
   "cell_type": "markdown",
   "id": "7e749842",
   "metadata": {},
   "source": [
    "Comme vous pouvez le voir, la fonction sigmoïde tend vers `0` lorsque `z` tend vers des valeurs très négatives  et tend vers `1` lorsque `z` tend vers des valeurs très positives"
   ]
  },
  {
   "cell_type": "markdown",
   "id": "8fbc71c8",
   "metadata": {},
   "source": [
    "## Régression logistique\n",
    "<img align=\"left\" src=\"./images/C1_W3_LogisticRegression_right.png\"     style=\" width:300px; padding: 10px;\">\n",
    "Un modèle de régression logistique applique la sigmoïde au modèle de régression linéaire comme montré ci-dessous :\n",
    "\n",
    "$$ f_{\\mathbf{w},b}(\\mathbf{x}^{(i)}) = g(\\mathbf{w} \\cdot \\mathbf{x}^{(i)} + b ) \\tag{2} $$ \n",
    "\n",
    "  où\n",
    "\n",
    "$$g(z) = \\frac{1}{1+e^{-z}}\\tag{3}$$\n"
   ]
  },
  {
   "cell_type": "markdown",
   "id": "51eac235",
   "metadata": {},
   "source": [
    "Appliquons la régression logistique à l'exemple de classification des tumeurs (moins joyeux que les prix immobiliers, je l'accorde...).  \n",
    "Tout d'abord, chargeons les exemples et les valeurs initiales pour les paramètres."
   ]
  },
  {
   "cell_type": "code",
   "execution_count": null,
   "id": "b4cfd709",
   "metadata": {
    "tags": []
   },
   "outputs": [],
   "source": [
    "x_train = np.array([0., 1, 2, 3, 4, 5])\n",
    "y_train = np.array([0,  0, 0, 1, 1, 1])\n",
    "\n",
    "w_in = np.zeros((1))\n",
    "b_in = 0"
   ]
  },
  {
   "cell_type": "markdown",
   "id": "38434847",
   "metadata": {},
   "source": [
    "Essayez les étapes suivantes :\n",
    "- Cliquez sur 'Exécuter la régression logistique' pour trouver le meilleur modèle de régression logistique pour les données d'entraînement données\n",
    "    - Notez que le modèle résultant correspond assez bien aux données.\n",
    "    - Notez que la ligne orange est '$z$' ou $\\mathbf{w} \\cdot \\mathbf{x}^{(i)} + b$ ci-dessus. Elle ne correspond pas à la ligne dans un modèle de régression linéaire.\n",
    "Améliorez encore ces résultats en appliquant un *seuil*. \n",
    "- Cochez la case 'Basculer le seuil 0.5' pour montrer les prédictions si un seuil est appliqué.\n",
    "    - Ces prédictions semblent bonnes. Les prédictions correspondent aux données\n",
    "    - Maintenant, ajoutez d'autres points de données dans la plage de grande taille de tumeur (proche de 10), et relancez la régression logistique.\n",
    "    - contrairement au modèle de régression linéaire, ce modèle continue de faire des prédictions correctes."
   ]
  },
  {
   "cell_type": "code",
   "execution_count": null,
   "id": "e7214582",
   "metadata": {},
   "outputs": [],
   "source": [
    "plt.close('all') \n",
    "addpt = plt_one_addpt_onclick( x_train,y_train, w_in, b_in, logistic=True)"
   ]
  }
 ],
 "metadata": {
  "kernelspec": {
   "display_name": "Python 3 (ipykernel)",
   "language": "python",
   "name": "python3"
  },
  "language_info": {
   "codemirror_mode": {
    "name": "ipython",
    "version": 3
   },
   "file_extension": ".py",
   "mimetype": "text/x-python",
   "name": "python",
   "nbconvert_exporter": "python",
   "pygments_lexer": "ipython3",
   "version": "3.10.12"
  }
 },
 "nbformat": 4,
 "nbformat_minor": 5
}
