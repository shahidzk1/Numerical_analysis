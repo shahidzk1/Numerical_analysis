{
 "cells": [
  {
   "cell_type": "markdown",
   "id": "19e40149",
   "metadata": {},
   "source": [
    "# Fonction de coût pour la régression logistique\n",
    "\n",
    "## Objectifs\n",
    "Dans ce TP, vous allez :\n",
    "- Étudier l'implémentation et utiliser la fonction de coût pour la régression logistique."
   ]
  },
  {
   "cell_type": "code",
   "execution_count": null,
   "id": "e487d5f2",
   "metadata": {},
   "outputs": [],
   "source": [
    "import numpy as np\n",
    "%matplotlib widget\n",
    "import matplotlib.pyplot as plt\n",
    "from lab_utils_common import  plot_data, sigmoid, dlc\n",
    "plt.style.use('./deeplearning.mplstyle')"
   ]
  },
  {
   "cell_type": "markdown",
   "id": "c1cd1a7f",
   "metadata": {},
   "source": [
    "## Ensemble de données \n",
    "Commençons avec le même ensemble de données que celui utilisé dans le TP dédié à la frontière de décision."
   ]
  },
  {
   "cell_type": "code",
   "execution_count": null,
   "id": "76041abb",
   "metadata": {
    "tags": []
   },
   "outputs": [],
   "source": [
    "X_train = np.array([[0.5, 1.5], [1,1], [1.5, 0.5], [3, 0.5], [2, 2], [1, 2.5]])  #(m,n)\n",
    "y_train = np.array([0, 0, 0, 1, 1, 1])                                           #(m,)"
   ]
  },
  {
   "cell_type": "markdown",
   "id": "3404e858",
   "metadata": {},
   "source": [
    "Nous utiliserons une fonction déjà implémentée pour tracer ces données. Les points de données avec l'étiquette $y=1$ sont représentés par des croix rouges, tandis que les points de données avec l'étiquette $y=0$ sont représentés par des cercles bleus."
   ]
  },
  {
   "cell_type": "code",
   "execution_count": null,
   "id": "9217df7d",
   "metadata": {},
   "outputs": [],
   "source": [
    "fig,ax = plt.subplots(1,1,figsize=(4,4))\n",
    "plot_data(X_train, y_train, ax)\n",
    "\n",
    "# On fixe les deux axes entre 0 et 4\n",
    "ax.axis([0, 4, 0, 3.5])\n",
    "ax.set_ylabel('$x_1$', fontsize=12)\n",
    "ax.set_xlabel('$x_0$', fontsize=12)\n",
    "plt.show()"
   ]
  },
  {
   "cell_type": "markdown",
   "id": "9e9f3b60",
   "metadata": {},
   "source": [
    "## Fonction de coût\n",
    "\n",
    "Dans un TP précédent, vous avez développé la fonction de *perte logistique (logistic loss)*. Rappelez-vous, la perte est définie pour s'appliquer à un seul exemple. Ici, vous combinez les pertes pour former le **coût**, qui inclut tous les exemples.\n",
    "\n",
    "Rappelez-vous que pour la régression logistique, la fonction de coût est de la forme \n",
    "\n",
    "$$ J(\\mathbf{w},b) = \\frac{1}{m} \\sum_{i=0}^{m-1} \\left[ loss(f_{\\mathbf{w},b}(\\mathbf{x}^{(i)}), y^{(i)}) \\right] \\tag{1}$$\n",
    "\n",
    "où\n",
    "* $loss(f_{\\mathbf{w},b}(\\mathbf{x}^{(i)}), y^{(i)})$ est le coût pour un seul point de données, qui est :\n",
    "\n",
    "    $$loss(f_{\\mathbf{w},b}(\\mathbf{x}^{(i)}), y^{(i)}) = -y^{(i)} \\log\\left(f_{\\mathbf{w},b}\\left( \\mathbf{x}^{(i)} \\right) \\right) - \\left( 1 - y^{(i)}\\right) \\log \\left( 1 - f_{\\mathbf{w},b}\\left( \\mathbf{x}^{(i)} \\right) \\right) \\tag{2}$$\n",
    "    \n",
    "* où m est le nombre d'exemples d'entraînement dans l'ensemble de données et :\n",
    "$$\n",
    "\\begin{align}\n",
    "  f_{\\mathbf{w},b}(\\mathbf{x^{(i)}}) &= g(z^{(i)})\\tag{3} \\\\\n",
    "  z^{(i)} &= \\mathbf{w} \\cdot \\mathbf{x}^{(i)}+ b\\tag{4} \\\\\n",
    "  g(z^{(i)}) &= \\frac{1}{1+e^{-z^{(i)}}}\\tag{5} \n",
    "\\end{align}\n",
    "$$\n"
   ]
  },
  {
   "cell_type": "markdown",
   "id": "359fde95",
   "metadata": {},
   "source": [
    "#### Description du code\n",
    "\n",
    "L'algorithme pour `compute_cost_logistic` itère sur tous les exemples en calculant la perte pour chaque exemple et en accumulant le total.\n",
    "\n",
    "Notez que les variables X et y ne sont pas des valeurs scalaires mais des matrices de forme ($m, n$) et ($𝑚$,) respectivement, où  $𝑛$ est le nombre de caractéristiques et $𝑚$ est le nombre d'exemples d'entraînement."
   ]
  },
  {
   "cell_type": "code",
   "execution_count": null,
   "id": "d3311c59",
   "metadata": {},
   "outputs": [],
   "source": [
    "def compute_cost_logistic(X, y, w, b):\n",
    "    \"\"\"\n",
    "    Calcule le coût\n",
    "\n",
    "    Args:\n",
    "      X (ndarray (m,n)): Données, m exemples avec n caractéristiques\n",
    "      y (ndarray (m,)) : valeurs cibles\n",
    "      w (ndarray (n,)) : paramètres du modèle  \n",
    "      b (scalaire)     : paramètre du modèle\n",
    "      \n",
    "    Returns:\n",
    "      coût (scalaire): coût\n",
    "    \"\"\"\n",
    "    #définir une variable pour le nombre d'échantillons\n",
    "\n",
    "    #définir le coût total\n",
    "    \n",
    "    #utiliser une boucle for sur les échantillons\n",
    "    # calculer le z(X) en utilisant le produit scalaire vectorisé de numpy\n",
    "    # calculer le fwb\n",
    "    #calculer la fonction de coût en utilisant la fonction log de numpy\n",
    "    \n",
    "    \n",
    "    \n",
    "    \n",
    "    \n",
    "    return cost\n"
   ]
  },
  {
   "cell_type": "markdown",
   "id": "6c576e40",
   "metadata": {},
   "source": [
    "Vérifiez l'implémentation de la fonction de coût en utilisant la cellule ci-dessous."
   ]
  },
  {
   "cell_type": "code",
   "execution_count": null,
   "id": "72fb128d",
   "metadata": {},
   "outputs": [],
   "source": [
    "w_tmp = np.array([1,1])\n",
    "b_tmp = -3\n",
    "print(compute_cost_logistic(X_train, y_train, w_tmp, b_tmp))"
   ]
  },
  {
   "cell_type": "markdown",
   "id": "777d53cc",
   "metadata": {},
   "source": [
    "**Expected output**: 0.3668667864055175"
   ]
  },
  {
   "cell_type": "markdown",
   "id": "04278a5c",
   "metadata": {},
   "source": [
    "## Exemple\n",
    "Maintenant, voyons ce que donne la fonction de coût pour une valeur différente de $w$. \n",
    "\n",
    "* Dans un TP précédent, vous avez tracé la frontière de décision pour  $b = -3, w_0 = 1, w_1 = 1$. C'est-à-dire que vous aviez `b = -3, w = np.array([1,1])`.\n",
    "\n",
    "* Disons que vous voulez voir si $b = -4, w_0 = 1, w_1 = 1$, ou `b = -4, w = np.array([1,1])` fournit un meilleur modèle.\n",
    "\n",
    "Commençons par tracer la frontière de décision pour ces deux différentes valeurs de $b$ pour voir laquelle s'adapte le mieux aux données.\n",
    "\n",
    "* Pour $b = -3, w_0 = 1, w_1 = 1$, nous tracerons $-3 + x_0+x_1 = 0$ (représenté en bleu)\n",
    "* Pour $b = -4, w_0 = 1, w_1 = 1$, nous tracerons $-4 + x_0+x_1 = 0$ (représenté en magenta)"
   ]
  },
  {
   "cell_type": "code",
   "execution_count": null,
   "id": "c89b3d21",
   "metadata": {},
   "outputs": [],
   "source": [
    "import matplotlib.pyplot as plt\n",
    "\n",
    "\n",
    "# On choisit des valeurs entre 0 et 6\n",
    "x0 = np.arange(0,6)\n",
    "\n",
    "# On affiche les deux frontières de décision\n",
    "x1 = 3 - x0\n",
    "x1_other = 4 - x0\n",
    "\n",
    "fig,ax = plt.subplots(1, 1, figsize=(4,4))\n",
    "\n",
    "# On affiche la frontière de décision\n",
    "ax.plot(x0,x1, c=dlc[\"dlblue\"], label=\"$b$=-3\")\n",
    "ax.plot(x0,x1_other, c=dlc[\"dlmagenta\"], label=\"$b$=-4\")\n",
    "ax.axis([0, 4, 0, 4])\n",
    "\n",
    "\n",
    "# On affiche les données originales\n",
    "plot_data(X_train,y_train,ax)\n",
    "ax.axis([0, 4, 0, 4])\n",
    "ax.set_ylabel('$x_1$', fontsize=12)\n",
    "ax.set_xlabel('$x_0$', fontsize=12)\n",
    "plt.legend(loc=\"upper right\")\n",
    "plt.title(\"Decision Boundary\")\n",
    "plt.show()"
   ]
  },
  {
   "cell_type": "markdown",
   "id": "7417f8de",
   "metadata": {},
   "source": [
    "Vous pouvez voir sur ce graphique que `b = -4, w = np.array([1,1])` est un modèle moins bon pour les données d'entraînement. Voyons si l'implémentation de la fonction de coût reflète cela."
   ]
  },
  {
   "cell_type": "code",
   "execution_count": null,
   "id": "4105a705",
   "metadata": {},
   "outputs": [],
   "source": [
    "w_array1 = np.array([1,1])\n",
    "b_1 = -3\n",
    "w_array2 = np.array([1,1])\n",
    "b_2 = -4\n",
    "\n",
    "print(\"Coût pour b = -3 : \", compute_cost_logistic(X_train, y_train, w_array1, b_1))\n",
    "print(\"Coût pour b = -4 : \", compute_cost_logistic(X_train, y_train, w_array2, b_2))"
   ]
  },
  {
   "cell_type": "markdown",
   "id": "3327db1a",
   "metadata": {},
   "source": [
    "**Résultat attendu**\n",
    "\n",
    "Coût pour b = -3 :  0.3668667864055175\n",
    "\n",
    "Coût pour b = -4 :  0.5036808636748461\n",
    "\n",
    "\n",
    "Vous pouvez voir que la fonction de coût se comporte comme prévu et que le coût pour `b = -4, w = np.array([1,1])` est en effet plus élevé que le coût pour `b = -3, w = np.array([1,1])`"
   ]
  }
 ],
 "metadata": {
  "kernelspec": {
   "display_name": "Python 3 (ipykernel)",
   "language": "python",
   "name": "python3"
  },
  "language_info": {
   "codemirror_mode": {
    "name": "ipython",
    "version": 3
   },
   "file_extension": ".py",
   "mimetype": "text/x-python",
   "name": "python",
   "nbconvert_exporter": "python",
   "pygments_lexer": "ipython3",
   "version": "3.11.7"
  }
 },
 "nbformat": 4,
 "nbformat_minor": 5
}
