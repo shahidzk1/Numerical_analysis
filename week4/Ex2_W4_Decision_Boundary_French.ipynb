{
 "cells": [
  {
   "cell_type": "markdown",
   "id": "ec731117",
   "metadata": {},
   "source": [
    "# Régression logistique, \"frontière de décision\" (Decision Boundary)"
   ]
  },
  {
   "cell_type": "markdown",
   "id": "86fe6af0",
   "metadata": {},
   "source": [
    "## Objectifs\n",
    "Dans ce TP, vous allez : \n",
    "\n",
    "- Tracez la frontière de décision pour un modèle de régression logistique. Cela vous donnera une meilleure idée de ce que le modèle prédit.\n"
   ]
  },
  {
   "cell_type": "code",
   "execution_count": null,
   "id": "6ee320a5",
   "metadata": {},
   "outputs": [],
   "source": [
    "import numpy as np\n",
    "#%matplotlib widget\n",
    "import matplotlib.pyplot as plt\n",
    "from lab_utils_common import plot_data, sigmoid, draw_vthresh\n",
    "plt.style.use('./deeplearning.mplstyle')"
   ]
  },
  {
   "cell_type": "markdown",
   "id": "5dc4035a",
   "metadata": {},
   "source": [
    "## Ensemble de données\n",
    "\n",
    "Supposons que vous ayez l'ensemble de données d'entraînement suivant :\n",
    "- La variable d'entrée `X` est un tableau numpy qui contient 6 exemples d'entraînement, chacun avec deux caractéristiques\n",
    "- La variable de sortie `y` est également un tableau numpy avec 6 exemples, `y` est soit `0`, soit `1`"
   ]
  },
  {
   "cell_type": "code",
   "execution_count": null,
   "id": "9baca38b",
   "metadata": {},
   "outputs": [],
   "source": [
    "X = np.array([[0.5, 1.5], [1,1], [1.5, 0.5], [3, 0.5], [2, 2], [1, 2.5]])\n",
    "y = np.array([0, 0, 0, 1, 1, 1]).reshape(-1,1) "
   ]
  },
  {
   "cell_type": "markdown",
   "id": "182b8eb5",
   "metadata": {},
   "source": [
    "### Plot data \n",
    "\n",
    "Let's use a helper function to plot this data. The data points with label $y=1$ are shown as red crosses, while the data points with label $y=0$ are shown as blue circles. "
   ]
  },
  {
   "cell_type": "markdown",
   "id": "05e59d1e",
   "metadata": {},
   "source": [
    "### Tracer les données\n",
    "\n",
    "Utilisons une fonction (déjà implémentée) pour tracer ces données. Les points de données avec l'étiquette $y=1$ sont représentés par des croix rouges, tandis que les points de données avec l'étiquette $y=0$ sont représentés par des cercles bleus."
   ]
  },
  {
   "cell_type": "code",
   "execution_count": null,
   "id": "89a44af6",
   "metadata": {},
   "outputs": [],
   "source": [
    "fig,ax = plt.subplots(1,1,figsize=(4,4))\n",
    "plot_data(X, y, ax)\n",
    "\n",
    "ax.axis([0, 4, 0, 3.5])\n",
    "ax.set_ylabel('$x_1$')\n",
    "ax.set_xlabel('$x_0$')\n",
    "plt.show()"
   ]
  },
  {
   "cell_type": "markdown",
   "id": "6301c1ff",
   "metadata": {},
   "source": [
    "## Modèle de régression logistique\n",
    "\n",
    "* Supposons que vous souhaitez entraîner un modèle de régression logistique sur ces données qui a la forme\n",
    "\n",
    "  $f(x) = g(w_0x_0+w_1x_1 + b)$\n",
    "  \n",
    "  où $g(z) = \\frac{1}{1+e^{-z}}$, qui est la fonction sigmoïde\n",
    "\n",
    "\n",
    "* Disons que vous avez entraîné le modèle et obtenu les paramètres comme $b = -3, w_0 = 1, w_1 = 1$. C'est-à-dire,\n",
    "\n",
    "  $f(x) = g(x_0+x_1-3)$\n",
    "\n",
    "  (Vous apprendrez comment ajuster ces paramètres aux données plus loin dans le cours)\n",
    "  \n",
    "  \n",
    "Essayons de comprendre ce que ce modèle entraîné prédit en traçant sa frontière de décision."
   ]
  },
  {
   "cell_type": "markdown",
   "id": "84b37642",
   "metadata": {},
   "source": [
    "### Rappel sur la régression logistique et la frontière de décision\n",
    "\n",
    "* Rappelons que pour la régression logistique, le modèle est représenté comme suit :\n",
    "\n",
    "  $$f_{\\mathbf{w},b}(\\mathbf{x}^{(i)}) = g(\\mathbf{w} \\cdot \\mathbf{x}^{(i)} + b) \\tag{1}$$\n",
    "\n",
    "  où $g(z)$ est connu comme la fonction sigmoïde et elle mappe toutes les valeurs d'entrée à des valeurs entre 0 et 1 :\n",
    "\n",
    "  $$g(z) = \\frac{1}{1+e^{-z}}\\tag{2}$$\n",
    "  et $\\mathbf{w} \\cdot \\mathbf{x}$ est le produit scalaire du vecteur :\n",
    "  \n",
    "  $$\\mathbf{w} \\cdot \\mathbf{x} = w_0 x_0 + w_1 x_1$$\n",
    "  \n",
    "  \n",
    " * Nous interprétons la sortie du modèle ($f_{\\mathbf{w},b}(x)$) comme la probabilité que $y=1$ étant donné $\\mathbf{x}$ et paramétré par $\\mathbf{w}$ et $b$.\n",
    "* Par conséquent, pour obtenir une prédiction finale ($y=0$ ou $y=1$) du modèle de régression logistique, nous pouvons utiliser l'heuristique suivante -\n",
    "\n",
    "  si $f_{\\mathbf{w},b}(x) >= 0.5$, prédire $y=1$\n",
    "  \n",
    "  si $f_{\\mathbf{w},b}(x) < 0.5$, prédire $y=0$\n",
    "  \n",
    "  \n",
    "* Traçons la fonction sigmoïde pour voir où $g(z) >= 0.5$"
   ]
  },
  {
   "cell_type": "code",
   "execution_count": null,
   "id": "a73f3496",
   "metadata": {},
   "outputs": [],
   "source": [
    "# Plot sigmoid(z) over a range of values from -10 to 10\n",
    "z = np.arange(-10,11)\n",
    "\n",
    "fig,ax = plt.subplots(1,1,figsize=(5,3))\n",
    "# Plot z vs sigmoid(z)\n",
    "ax.plot(z, sigmoid(z), c=\"b\")\n",
    "\n",
    "ax.set_title(\"Fonction sigmoïde\")\n",
    "ax.set_ylabel('sigmoid(z)')\n",
    "ax.set_xlabel('z')\n",
    "draw_vthresh(ax,0)"
   ]
  },
  {
   "cell_type": "markdown",
   "id": "c6e28a07",
   "metadata": {},
   "source": [
    "* Comme vous pouvez le voir, $g(z) >= 0.5$ pour $z >=0$\n",
    "\n",
    "* Pour un modèle de régression logistique, $z = \\mathbf{w} \\cdot \\mathbf{x} + b$. Par conséquent,\n",
    "\n",
    "  si $\\mathbf{w} \\cdot \\mathbf{x} + b >= 0$, le modèle prédit $y=1$\n",
    "  \n",
    "  si $\\mathbf{w} \\cdot \\mathbf{x} + b < 0$, le modèle prédit $y=0$\n",
    "  \n",
    "  \n",
    "  \n",
    "### Tracer la frontière de décision\n",
    "\n",
    "Maintenant, revenons à notre exemple pour comprendre comment le modèle de régression logistique fait des prédictions.\n",
    "\n",
    "* Notre modèle de régression logistique a la forme\n",
    "\n",
    "  $f(\\mathbf{x}) = g(-3 + x_0+x_1)$\n",
    "\n",
    "\n",
    "* De ce que vous avez appris ci-dessus, vous pouvez voir que ce modèle prédit $y=1$ si $-3 + x_0+x_1 >= 0$\n",
    "\n",
    "Voyons à quoi cela ressemble graphiquement. Nous commencerons par tracer $-3 + x_0+x_1 = 0$, qui est équivalent à $x_1 = 3 - x_0$."
   ]
  },
  {
   "cell_type": "code",
   "execution_count": null,
   "id": "f3c4a990",
   "metadata": {},
   "outputs": [],
   "source": [
    "# On choisit des valeurs entre 0 et 6. \n",
    "x0 = np.arange(0,6)\n",
    "\n",
    "x1 = 3 - x0\n",
    "fig,ax = plt.subplots(1,1,figsize=(5,4))\n",
    "# Plot the decision boundary\n",
    "ax.plot(x0,x1, c=\"b\")\n",
    "ax.axis([0, 4, 0, 3.5])\n",
    "\n",
    "# On remplit la région en dessous de la droite\n",
    "ax.fill_between(x0,x1, alpha=0.2)\n",
    "\n",
    "# On affiche les points\n",
    "plot_data(X,y,ax)\n",
    "ax.set_ylabel(r'$x_1$')\n",
    "ax.set_xlabel(r'$x_0$')\n",
    "plt.show()"
   ]
  },
  {
   "cell_type": "markdown",
   "id": "372306f1",
   "metadata": {},
   "source": [
    "* Dans le graphique ci-dessus, la ligne bleue représente la ligne $x_0 + x_1 - 3 = 0$ et elle devrait intersecter l'axe x1 à 3 (si nous fixons $x_1$ = 3, $x_0$ = 0) et l'axe x0 à 3 (si nous fixons $x_1$ = 0, $x_0$ = 3).\n",
    "\n",
    "\n",
    "* La région ombrée représente $-3 + x_0+x_1 < 0$. La région au-dessus de la ligne est $-3 + x_0+x_1 > 0$.\n",
    "\n",
    "\n",
    "* Tout point dans la région ombrée (sous la ligne) est classé comme $y=0$. Tout point sur ou au-dessus de la ligne est classé comme $y=1$. Cette ligne est connue sous le nom de \"frontière de décision\".\n",
    "\n",
    "Comme nous l'avons vu dans les cours, en utilisant des termes polynomiaux d'ordre supérieur (par exemple : $f(x) = g( x_0^2 + x_1 -1)$, nous pouvons obtenir des frontières non linéaires plus complexes."
   ]
  }
 ],
 "metadata": {
  "kernelspec": {
   "display_name": "Python 3 (ipykernel)",
   "language": "python",
   "name": "python3"
  },
  "language_info": {
   "codemirror_mode": {
    "name": "ipython",
    "version": 3
   },
   "file_extension": ".py",
   "mimetype": "text/x-python",
   "name": "python",
   "nbconvert_exporter": "python",
   "pygments_lexer": "ipython3",
   "version": "3.11.7"
  }
 },
 "nbformat": 4,
 "nbformat_minor": 5
}
