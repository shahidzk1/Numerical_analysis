{
 "cells": [
  {
   "cell_type": "markdown",
   "metadata": {},
   "source": [
    "# Surapprentissage (Overfitting) "
   ]
  },
  {
   "cell_type": "markdown",
   "id": "2b448a62",
   "metadata": {},
   "source": [
    "## Objectifs\n",
    "Dans ce TP, vous allez explorer :\n",
    "- les situations où le surapprentissage peut se produire\n",
    "- certaines des solutions"
   ]
  },
  {
   "cell_type": "code",
   "execution_count": null,
   "metadata": {},
   "outputs": [],
   "source": [
    "%matplotlib widget\n",
    "import matplotlib.pyplot as plt\n",
    "from ipywidgets import Output\n",
    "from plt_overfit import overfit_example, output\n",
    "plt.style.use('./deeplearning.mplstyle')"
   ]
  },
  {
   "cell_type": "markdown",
   "id": "7345b85d",
   "metadata": {},
   "source": [
    "## Surapprentissage\n",
    "Le cours de la semaine a décrit des situations où le surapprentissage peut survenir. Exécutez la cellule ci-dessous pour générer un graphique qui vous permettra d'explorer le surapprentissage. Il y a d'autres instructions en dessous de la cellule."
   ]
  },
  {
   "cell_type": "code",
   "execution_count": null,
   "metadata": {},
   "outputs": [],
   "source": [
    "plt.close(\"all\")\n",
    "display(output)\n",
    "ofit = overfit_example(False)"
   ]
  },
  {
   "cell_type": "markdown",
   "id": "4399a93d",
   "metadata": {},
   "source": [
    "Dans le graphique ci-dessus, vous pouvez :\n",
    "- basculer entre les exemples de Régression et de Catégorisation\n",
    "- ajouter des données\n",
    "- sélectionner le degré du modèle\n",
    "- ajuster le modèle aux données\n",
    "\n",
    "Voici quelques choses que vous devriez essayer :\n",
    "- Ajustez les données avec un degré = 1 ; Notez le 'sous-ajustement'.\n",
    "- Ajustez les données avec un degré = 6 ; Notez le 'surajustement'\n",
    "- réglez le degré pour obtenir le 'meilleur ajustement'\n",
    "- ajoutez des données :\n",
    "    - des exemples extrêmes peuvent augmenter le surajustement (en supposant qu'ils sont des valeurs aberrantes).\n",
    "    - des exemples nominaux peuvent réduire le surajustement\n",
    "- basculez entre `Régression` et `Catégorisation` pour essayer les deux exemples.\n",
    "\n",
    "Pour réinitialiser le graphique, réexécutez la cellule. Cliquez lentement pour permettre au graphique de se mettre à jour avant de recevoir le prochain clic.\n",
    "\n",
    "Notes sur les implémentations :\n",
    "- les courbes 'idéales' représentent le modèle générateur auquel du bruit a été ajouté pour obtenir l'ensemble de données\n",
    "- 'fit' n'utilise pas la descente de gradient pure pour améliorer la vitesse. Ces méthodes peuvent être utilisées sur des ensembles de données plus petits."
   ]
  },
  {
   "cell_type": "markdown",
   "id": "2d946781",
   "metadata": {},
   "source": [
    "## Félicitations !\n",
    "Vous avez développé une certaine intuition sur les causes et les solutions du surapprentissage. Dans le prochain TP, vous explorerez une solution couramment utilisée, la Régularisation."
   ]
  },
  {
   "cell_type": "markdown",
   "id": "cabfbd2e",
   "metadata": {},
   "source": []
  }
 ],
 "metadata": {
  "kernelspec": {
   "display_name": "Python 3",
   "language": "python",
   "name": "python3"
  },
  "language_info": {
   "codemirror_mode": {
    "name": "ipython",
    "version": 3
   },
   "file_extension": ".py",
   "mimetype": "text/x-python",
   "name": "python",
   "nbconvert_exporter": "python",
   "pygments_lexer": "ipython3",
   "version": "3.11.7"
  }
 },
 "nbformat": 4,
 "nbformat_minor": 5
}
