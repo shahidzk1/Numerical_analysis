{
 "cells": [
  {
   "cell_type": "markdown",
   "id": "a011f034-af4f-4007-a8e2-c10db19c7dc6",
   "metadata": {},
   "source": [
    "# Goals\n",
    "\n",
    "Last week we introduced the ARIMA series of models. The goal of this notebook is to show you how to find the best values for the model parameters using the *Akaike information criterion* (AIC).  "
   ]
  },
  {
   "cell_type": "markdown",
   "id": "3b85b5ce-2135-4f92-a28f-74a1ace030bb",
   "metadata": {},
   "source": [
    "# Reminder: ARIMA models and SARIMAX\n",
    "AR and MA models can be combined with taking differences to give the **ARIMA(p, d, q)** series of models. Last week, we introduced the **tsa.statespace.SARIMAX* method implemented in *statsmodel*: https://www.statsmodels.org/dev/generated/statsmodels.tsa.statespace.sarimax.SARIMAX.html\n",
    "\n",
    "The SARIMAX dunction takes as input the pandas dataframe *df* with the data, and then two tuples specifying the *order* and the *seasonal_order* parameters for the model. "
   ]
  },
  {
   "cell_type": "code",
   "execution_count": 1,
   "id": "ed5122b2-0269-470a-9813-eb72906738e4",
   "metadata": {},
   "outputs": [],
   "source": [
    "import pandas as pd\n",
    "from pandas import read_excel\n",
    "import matplotlib.pyplot as plt\n",
    "import statsmodels.api as sm"
   ]
  },
  {
   "cell_type": "code",
   "execution_count": 2,
   "id": "8a0fdcc5-1117-4892-9056-9b417f1d4943",
   "metadata": {},
   "outputs": [
    {
     "name": "stdout",
     "output_type": "stream",
     "text": [
      "                                     SARIMAX Results                                      \n",
      "==========================================================================================\n",
      "Dep. Variable:                         Production   No. Observations:                  265\n",
      "Model:             SARIMAX(1, 1, 1)x(0, 1, 1, 12)   Log Likelihood               -1030.968\n",
      "Date:                            Mon, 13 May 2024   AIC                           2069.936\n",
      "Time:                                    11:45:49   BIC                           2084.054\n",
      "Sample:                                09-01-1986   HQIC                          2075.617\n",
      "                                     - 09-01-2008                                         \n",
      "Covariance Type:                              opg                                         \n",
      "==============================================================================\n",
      "                 coef    std err          z      P>|z|      [0.025      0.975]\n",
      "------------------------------------------------------------------------------\n",
      "ar.L1         -0.1172      0.134     -0.877      0.380      -0.379       0.145\n",
      "ma.L1         -0.3691      0.120     -3.084      0.002      -0.604      -0.135\n",
      "ma.S.L12      -0.8045      0.048    -16.936      0.000      -0.898      -0.711\n",
      "sigma2       199.1032     16.276     12.233      0.000     167.204     231.003\n",
      "===================================================================================\n",
      "Ljung-Box (L1) (Q):                   0.03   Jarque-Bera (JB):                 3.59\n",
      "Prob(Q):                              0.86   Prob(JB):                         0.17\n",
      "Heteroskedasticity (H):               0.49   Skew:                            -0.22\n",
      "Prob(H) (two-sided):                  0.00   Kurtosis:                         3.38\n",
      "===================================================================================\n",
      "\n",
      "Warnings:\n",
      "[1] Covariance matrix calculated using the outer product of gradients (complex-step).\n"
     ]
    },
    {
     "name": "stderr",
     "output_type": "stream",
     "text": [
      "/var/folders/y6/x6g0z9xj0zl2s94zlqjt2prw0000gn/T/ipykernel_12747/2637999420.py:4: UserWarning: Could not infer format, so each element will be parsed individually, falling back to `dateutil`. To ensure parsing is consistent and as-expected, please specify a format.\n",
      "  series = read_excel('BuildingMaterials.xls', sheet_name='Data', header=0, index_col=0, parse_dates=True)\n"
     ]
    }
   ],
   "source": [
    "series = read_excel('BuildingMaterials.xls', sheet_name='Data', header=0, index_col=0, parse_dates=True)\n",
    "series.index.freq = 'MS'\n",
    "\n",
    "mod = sm.tsa.statespace.SARIMAX(series, order=(1,1,1), seasonal_order=(0,1,1,12))\n",
    "results = mod.fit(disp=False)\n",
    "print(results.summary())"
   ]
  },
  {
   "cell_type": "markdown",
   "id": "11a7b267-7d5d-4da7-b2b8-8e20ab5fffa6",
   "metadata": {},
   "source": [
    "The cell below uses the *itertools* python library to create all possible combinations of *p*, *d* and *q* triplets: https://docs.python.org/3/library/itertools.html\n",
    "\n",
    "Using *itertools* is preferable than just creating the triples manually with for loops, as it's written to be fast and memory-efficient. "
   ]
  },
  {
   "cell_type": "code",
   "execution_count": 8,
   "id": "bd9cde11-c9fa-4b2e-877c-205b47792ff4",
   "metadata": {},
   "outputs": [],
   "source": [
    "import itertools\n",
    "\n",
    "#Define the p, d and q parameters to take any value between 0 and 1\n",
    "p = d = q = range(0, 2)\n",
    "\n",
    "# Generate all different combinations of p, d and q triplets\n",
    "pdq = list(itertools.product(p, d, q))\n",
    "\n",
    "# Generate all different combinations of seasonal p, d and q triplets (i.e., P, D, Q)\n",
    "seasonal_pdq = [(x[0], x[1], x[2], 12) for x in list(itertools.product(p, d, q))]"
   ]
  },
  {
   "cell_type": "markdown",
   "id": "c2dccd79-8b65-4360-aa6d-6ee21efb772f",
   "metadata": {},
   "source": [
    "Here below, an example of how to select the best model parameters by retrieving directly the AIC score from the SARIMAX fit results."
   ]
  },
  {
   "cell_type": "code",
   "execution_count": 7,
   "id": "2d72e169-6014-4539-8e8e-ebd9cb03c1e9",
   "metadata": {},
   "outputs": [
    {
     "name": "stdout",
     "output_type": "stream",
     "text": [
      "ARIMA(0, 0, 0)x(0, 0, 0, 12) - AIC:3718.8589858085606\n",
      "ARIMA(0, 0, 0)x(0, 0, 1, 12) - AIC:3407.987314430595\n",
      "ARIMA(0, 0, 0)x(0, 1, 0, 12) - AIC:2463.755234631169\n",
      "ARIMA(0, 0, 0)x(0, 1, 1, 12) - AIC:2456.249081845319\n",
      "ARIMA(0, 0, 0)x(1, 0, 0, 12) - AIC:2633.9315173431496\n",
      "ARIMA(0, 0, 0)x(1, 0, 1, 12) - AIC:2625.5089242544527\n",
      "ARIMA(0, 0, 0)x(1, 1, 0, 12) - AIC:2460.088181568989\n",
      "ARIMA(0, 0, 0)x(1, 1, 1, 12) - AIC:2448.1526057045826\n",
      "ARIMA(0, 0, 1)x(0, 0, 0, 12) - AIC:3420.3934063820543\n",
      "ARIMA(0, 0, 1)x(0, 0, 1, 12) - AIC:3136.4889686695988\n",
      "ARIMA(0, 0, 1)x(0, 1, 0, 12) - AIC:2328.702839352657\n",
      "ARIMA(0, 0, 1)x(0, 1, 1, 12) - AIC:2330.6840807059393\n",
      "ARIMA(0, 0, 1)x(1, 0, 0, 12) - AIC:2487.3682882170615\n",
      "ARIMA(0, 0, 1)x(1, 0, 1, 12) - AIC:2489.9482419659416\n",
      "ARIMA(0, 0, 1)x(1, 1, 0, 12) - AIC:2330.690978775181\n",
      "ARIMA(0, 0, 1)x(1, 1, 1, 12) - AIC:2326.822308502616\n",
      "ARIMA(0, 1, 0)x(0, 0, 0, 12) - AIC:2714.7674515796884\n",
      "ARIMA(0, 1, 0)x(0, 0, 1, 12) - AIC:2529.9678612143025\n",
      "ARIMA(0, 1, 0)x(0, 1, 0, 12) - AIC:2186.2568695199616\n",
      "ARIMA(0, 1, 0)x(0, 1, 1, 12) - AIC:2119.353565521189\n",
      "ARIMA(0, 1, 0)x(1, 0, 0, 12) - AIC:2299.0184857196145\n",
      "ARIMA(0, 1, 0)x(1, 0, 1, 12) - AIC:2242.919163572964\n",
      "ARIMA(0, 1, 0)x(1, 1, 0, 12) - AIC:2161.975961606705\n",
      "ARIMA(0, 1, 0)x(1, 1, 1, 12) - AIC:2112.682237597597\n",
      "ARIMA(0, 1, 1)x(0, 0, 0, 12) - AIC:2612.3929117912385\n",
      "ARIMA(0, 1, 1)x(0, 0, 1, 12) - AIC:2443.35131224789\n",
      "ARIMA(0, 1, 1)x(0, 1, 0, 12) - AIC:2136.3742188510632\n",
      "ARIMA(0, 1, 1)x(0, 1, 1, 12) - AIC:2069.0391298971485\n",
      "ARIMA(0, 1, 1)x(1, 0, 0, 12) - AIC:2246.3086463159284\n",
      "ARIMA(0, 1, 1)x(1, 0, 1, 12) - AIC:2189.3564203528517\n",
      "ARIMA(0, 1, 1)x(1, 1, 0, 12) - AIC:2112.6531148887193\n",
      "ARIMA(0, 1, 1)x(1, 1, 1, 12) - AIC:2062.4968772167613\n",
      "ARIMA(1, 0, 0)x(0, 0, 0, 12) - AIC:2729.474279148363\n",
      "ARIMA(1, 0, 0)x(0, 0, 1, 12) - AIC:2544.0451097693312\n",
      "ARIMA(1, 0, 0)x(0, 1, 0, 12) - AIC:2176.4554463220466\n",
      "ARIMA(1, 0, 0)x(0, 1, 1, 12) - AIC:2124.0163117078873\n",
      "ARIMA(1, 0, 0)x(1, 0, 0, 12) - AIC:2300.631126188494\n",
      "ARIMA(1, 0, 0)x(1, 0, 1, 12) - AIC:2250.088232566234\n",
      "ARIMA(1, 0, 0)x(1, 1, 0, 12) - AIC:2157.8956748343603\n",
      "ARIMA(1, 0, 0)x(1, 1, 1, 12) - AIC:2117.419618040457\n",
      "ARIMA(1, 0, 1)x(0, 0, 0, 12) - AIC:2628.453627228184\n",
      "ARIMA(1, 0, 1)x(0, 0, 1, 12) - AIC:2459.3014418267235\n",
      "ARIMA(1, 0, 1)x(0, 1, 0, 12) - AIC:2142.238234020354\n",
      "ARIMA(1, 0, 1)x(0, 1, 1, 12) - AIC:2077.862647539586\n",
      "ARIMA(1, 0, 1)x(1, 0, 0, 12) - AIC:2257.8152138571068\n",
      "ARIMA(1, 0, 1)x(1, 0, 1, 12) - AIC:2202.3497467438883\n",
      "ARIMA(1, 0, 1)x(1, 1, 0, 12) - AIC:2120.111215126851\n",
      "ARIMA(1, 0, 1)x(1, 1, 1, 12) - AIC:2071.4401839546454\n",
      "ARIMA(1, 1, 0)x(0, 0, 0, 12) - AIC:2689.5900220070903\n",
      "ARIMA(1, 1, 0)x(0, 0, 1, 12) - AIC:2500.18641888313\n",
      "ARIMA(1, 1, 0)x(0, 1, 0, 12) - AIC:2140.292712766635\n",
      "ARIMA(1, 1, 0)x(0, 1, 1, 12) - AIC:2078.3584738030168\n",
      "ARIMA(1, 1, 0)x(1, 0, 0, 12) - AIC:2254.5076421604263\n",
      "ARIMA(1, 1, 0)x(1, 0, 1, 12) - AIC:2201.0407116072784\n",
      "ARIMA(1, 1, 0)x(1, 1, 0, 12) - AIC:2117.115952196001\n",
      "ARIMA(1, 1, 0)x(1, 1, 1, 12) - AIC:2071.1567427959426\n",
      "ARIMA(1, 1, 1)x(0, 0, 0, 12) - AIC:2612.5728471106386\n",
      "ARIMA(1, 1, 1)x(0, 0, 1, 12) - AIC:2443.339109558197\n",
      "ARIMA(1, 1, 1)x(0, 1, 0, 12) - AIC:2136.389628494303\n",
      "ARIMA(1, 1, 1)x(0, 1, 1, 12) - AIC:2069.935962166126\n",
      "ARIMA(1, 1, 1)x(1, 0, 0, 12) - AIC:2247.471686963051\n",
      "ARIMA(1, 1, 1)x(1, 0, 1, 12) - AIC:2210.4606642946046\n",
      "ARIMA(1, 1, 1)x(1, 1, 0, 12) - AIC:2112.6155000297003\n",
      "ARIMA(1, 1, 1)x(1, 1, 1, 12) - AIC:2063.4153516712117\n"
     ]
    }
   ],
   "source": [
    "import warnings\n",
    "warnings.filterwarnings(\"ignore\") # specify to ignore warning messages\n",
    "\n",
    "# Indentification of best model from different combinations of pdq and seasonal_pdq\n",
    "best_score, best_param, best_paramSeasonal = float(\"inf\"), None, None\n",
    "for param in pdq:\n",
    "    for param_seasonal in seasonal_pdq:\n",
    "        try:\n",
    "            mod = sm.tsa.statespace.SARIMAX(series, order=param, seasonal_order=param_seasonal, enforce_invertibility=False)\n",
    "            results = mod.fit(disp=False)\n",
    "            if results.aic < best_score:\n",
    "                best_score, best_param, best_paramSeasonal = results.aic, param, param_seasonal\n",
    "            print('ARIMA{}x{} - AIC:{}'.format(param, param_seasonal, results.aic))\n",
    "        except:\n",
    "            continue # if fit fails, just continue to the next parameters combionation"
   ]
  },
  {
   "cell_type": "markdown",
   "id": "7f681ea2-90d0-44a1-abe9-9f7a40edff9e",
   "metadata": {},
   "source": [
    "Let's now print the best set of parameters according to the AIC."
   ]
  },
  {
   "cell_type": "code",
   "execution_count": 9,
   "id": "2bd671ea-5e27-4fe5-b12a-d9f2b5d3e2fe",
   "metadata": {},
   "outputs": [
    {
     "name": "stdout",
     "output_type": "stream",
     "text": [
      "The best model is ARIMA(0, 1, 1)x(1, 1, 1, 12) - AIC:2062.4968772167613\n"
     ]
    }
   ],
   "source": [
    "print('The best model is ARIMA{}x{} - AIC:{}'.format(best_param, best_paramSeasonal, best_score))"
   ]
  },
  {
   "cell_type": "code",
   "execution_count": null,
   "id": "6ac166fa-ff37-4a2a-a231-74b58ed1fc8f",
   "metadata": {},
   "outputs": [],
   "source": []
  }
 ],
 "metadata": {
  "kernelspec": {
   "display_name": "Python 3 (ipykernel)",
   "language": "python",
   "name": "python3"
  },
  "language_info": {
   "codemirror_mode": {
    "name": "ipython",
    "version": 3
   },
   "file_extension": ".py",
   "mimetype": "text/x-python",
   "name": "python",
   "nbconvert_exporter": "python",
   "pygments_lexer": "ipython3",
   "version": "3.8.17"
  }
 },
 "nbformat": 4,
 "nbformat_minor": 5
}
