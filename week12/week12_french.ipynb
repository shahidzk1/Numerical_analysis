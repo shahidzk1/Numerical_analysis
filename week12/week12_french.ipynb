{
 "cells": [
  {
   "cell_type": "markdown",
   "metadata": {},
   "source": [
    "# Objectifs\n",
    "\n",
    "Ce notebook comporte trois sections principales, la première est un rappel sur les modèles ARIMA, la deuxième traite de l'analyse de Fourier et la dernière est l'analyse spectrale. Les sections 1 et 3 ne contiennent pas d'exercices tandis que la section 2 contient quelques exercices."
   ]
  },
  {
   "cell_type": "markdown",
   "metadata": {},
   "source": [
    "# Section 1:\n",
    "## Rappel : Modèles ARIMA et SARIMAX\n",
    "Les modèles AR et MA peuvent être combinés avec des différences pour donner la série de modèles **ARIMA(p, d, q)**. La semaine dernière, nous avons introduit la méthode **tsa.statespace.SARIMAX** mise en œuvre dans *statsmodel* : https://www.statsmodels.org/dev/generated/statsmodels.tsa.statespace.sarimax.SARIMAX.html\n",
    "\n",
    "La fonction SARIMAX prend en entrée le dataframe pandas *df* avec les données, puis deux tuples spécifiant les paramètres *order* et *seasonal_order* pour le modèle."
   ]
  },
  {
   "cell_type": "code",
   "execution_count": null,
   "metadata": {},
   "outputs": [],
   "source": [
    "import pandas as pd\n",
    "from pandas import read_excel\n",
    "import matplotlib.pyplot as plt\n",
    "import statsmodels.api as sm"
   ]
  },
  {
   "cell_type": "code",
   "execution_count": null,
   "metadata": {},
   "outputs": [],
   "source": [
    "series = read_excel('BuildingMaterials.xls', sheet_name='Data', header=0, index_col=0, parse_dates=True)\n",
    "series.index.freq = 'MS'\n",
    "\n",
    "mod = sm.tsa.statespace.SARIMAX(series, order=(1,1,1), seasonal_order=(0,1,1,12))\n",
    "results = mod.fit(disp=False)\n",
    "print(results.summary())"
   ]
  },
  {
   "cell_type": "markdown",
   "metadata": {},
   "source": [
    "La cellule ci-dessous utilise la bibliothèque python *itertools* pour créer toutes les combinaisons possibles de triplets *p*, *d* et *q* : https://docs.python.org/3/library/itertools.html\n",
    "\n",
    "L'utilisation d'*itertools* est préférable à la création manuelle des triples avec des boucles for, car elle est conçue pour être rapide et efficace en termes de mémoire."
   ]
  },
  {
   "cell_type": "code",
   "execution_count": null,
   "metadata": {},
   "outputs": [],
   "source": [
    "import itertools\n",
    "\n",
    "# Définir les paramètres p, d et q pour prendre n'importe quelle valeur entre 0 et 1\n",
    "p = d = q = range(0, 2)\n",
    "\n",
    "# Générer toutes les différentes combinaisons de triplets p, d et q\n",
    "pdq = list(itertools.product(p, d, q))\n",
    "\n",
    "# Générer toutes les différentes combinaisons de triplets saisonniers p, d et q (c'est-à-dire, P, D, Q)\n",
    "seasonal_pdq = [(x[0], x[1], x[2], 12) for x in list(itertools.product(p, d, q))]"
   ]
  },
  {
   "cell_type": "markdown",
   "metadata": {},
   "source": [
    "Voici ci-dessous un exemple de comment sélectionner les meilleurs paramètres de modèle en récupérant directement le score AIC des résultats de l'ajustement SARIMAX."
   ]
  },
  {
   "cell_type": "code",
   "execution_count": null,
   "metadata": {},
   "outputs": [],
   "source": [
    "import warnings\n",
    "warnings.filterwarnings(\"ignore\") # spécifie d'ignorer les messages d'avertissement\n",
    "\n",
    "# Identification du meilleur modèle parmi différentes combinaisons de pdq et de seasonal_pdq\n",
    "meilleur_score, meilleur_param, meilleur_paramSaisonnal = float(\"inf\"), None, None\n",
    "for param in pdq:\n",
    "    for param_saisonnal in seasonal_pdq:\n",
    "        try:\n",
    "            mod = sm.tsa.statespace.SARIMAX(serie, order=param, seasonal_order=param_saisonnal, enforce_invertibility=False)\n",
    "            results = mod.fit(disp=False)\n",
    "            if results.aic < meilleur_score:\n",
    "                meilleur_score, meilleur_param, meilleur_paramSaisonnal = results.aic, param, param_saisonnal\n",
    "            print('ARIMA{}x{} - AIC:{}'.format(param, param_saisonnal, results.aic))\n",
    "        except:\n",
    "            continue # si l'ajustement échoue, continuez simplement à la prochaine combinaison de paramètres"
   ]
  },
  {
   "cell_type": "markdown",
   "metadata": {},
   "source": [
    "Affichons maintenant le meilleur ensemble de paramètres selon l'AIC."
   ]
  },
  {
   "cell_type": "code",
   "execution_count": null,
   "metadata": {},
   "outputs": [],
   "source": [
    "from IPython.display import display, HTML\n",
    "display(HTML(\"<style>.container { width:100% !important; }</style>\"))"
   ]
  },
  {
   "cell_type": "code",
   "execution_count": null,
   "metadata": {},
   "outputs": [],
   "source": [
    "print('Le meilleur modèle est ARIMA{}x{} - AIC:{}'.format(meilleur_param, meilleur_paramSaisonnal, meilleur_score))"
   ]
  },
  {
   "cell_type": "markdown",
   "metadata": {},
   "source": [
    "\n",
    "\n",
    "# Section 2\n",
    "## Harmonic analysis and the Fourier transform"
   ]
  },
  {
   "cell_type": "markdown",
   "metadata": {},
   "source": [
    "Il existe deux types de situations dans lesquelles il est particulièrement utile de considérer une série temporelle d'observations comme une somme de sinusoides :\n",
    "\n",
    "- Lorsqu'on sait, sur la base de considérations physiques, que le grand signal est vraiment très précisément exprimé comme une somme de quelques sinusoides de fréquence connue. Les marées sont un exemple parfait ; les forces astronomiques se produisent à des fréquences très bien définies et bien connues, donc l'océan répond à ces fréquences.\n",
    "- Dans la situation opposée, lorsqu'il y a peu ou pas de périodicité perceptible ou d'autre organisation, et lorsqu'un enregistrement d'une période de temps ressemble en caractère, mais totalement différent en spécificités, à celui d'une autre période de temps. Un exemple est la mesure de presque n'importe quelle variable dans un flux turbulent.\n",
    "\n",
    "Dans le premier de ces cas, on pourrait analyser la série temporelle en utilisant une procédure de moindres carrés pour trouver l'amplitude et la phase de chacune des sinusoides connues.\n",
    "\n",
    "Dans le deuxième cas, on veut savoir comment l'énergie est répartie entre une gamme de fréquences. Pour cela, la transformation de Fourier est sur mesure. Il vaut la peine de prendre un peu de temps pour comprendre ce que c'est et comment ça fonctionne. Nous nous concentrerons sur la transformée discrète et son inverse ; ce sont ce que nous utilisons en pratique pour l'analyse des données. Les concepts se généralisent facilement aux fonctions continues.\n",
    "\n",
    "Nous adopterons un point de vue d'algèbre linéaire, et commencerons par une série temporelle triviale : une variable $y$ échantillonnée à seulement deux moments, $t_0$ et $t_1$. La variable peut être tracée comme un vecteur - un point - dans un espace 2-D, avec un axe pour $y_0 = y(t_0)$ et un second pour $y_1 = y(t_1)$. Souvenez-vous, ce n'est pas un espace physique, c'est un espace d'information ; il faut deux informations indépendantes pour spécifier entièrement $y$. Les axes sont perpendiculaires.\n",
    "\n",
    "Cette spécification de $y$ n'est pas unique ; le même vecteur pourrait être exprimé comme la somme de composantes le long d'axes tournés d'un certain angle par rapport aux originaux. En tournant de 45 degrés CCW, le premier axe devient $(\\sqrt{2}/2) [1, 1]\\; $ et une réflexion subséquente fait du second axe $(\\sqrt{2}/2) [1, -1]\\; $, où nous exprimons les vecteurs unitaires des nouveaux axes en termes des vecteurs unitaires des anciens.\n",
    "\n",
    "Laissons ce premier axe être la première ligne d'une matrice, $M$, et la seconde être la dernière ligne. Alors si $y'$ est $y$ exprimé en termes des axes tournés, nous avons $y' = My\\,$. $M$ est orthonormale - son inverse est sa transposée - donc $y = M^{T}y'\\:$. Remarquez que $y$ et $y'$ décrivent le même vecteur, mais en termes de sa projection sur différents ensembles de vecteurs unitaires. Le premier axe de $y'$ est proportionnel à la moyenne de $y$ et le second axe est proportionnel à la différence, $y_0 - y_1 $ ."
   ]
  },
  {
   "cell_type": "markdown",
   "metadata": {},
   "source": [
    "Généralisons maintenant cela. Au lieu de deux temps, il peut y en avoir 3, 4, ou n'importe quel nombre fini. Au-delà de 3, nous ne pouvons plus utiliser l'analogie visuelle de la cartographie de chaque temps à une dimension spatiale, mais les mathématiques restent les mêmes. Si nous avons $N$ points de données, nous pouvons toujours exprimer ces $N$ informations en les projetant sur $N$ axes linéairement indépendants (orthogonaux). Parce qu'ils sont orthogonaux, cette projection est identique à un ajustement des moindres carrés du vecteur $y$ au nouvel ensemble d'axes.\n",
    "\n",
    "Revenons au cas $N=2\\:$ : avec 2 points dans l'enregistrement, si nous imaginons que l'enregistrement est prolongé en répétant la même paire de points encore et encore, nous avons deux périodicités possibles : zéro cycle, ou 1 cycle complet dans la longueur d'enregistrement originale. En utilisant l'espacement des échantillons comme unité de temps, les fréquences sont $\\omega_0 = 2 \\pi \\cdot 0/N\\:$ et $\\omega_1 = 2 \\pi \\cdot 1/N\\:$ radians par unité de temps. La matrice $M$ a alors des entrées $M_{nk} = \\frac{\\sqrt{2}}{2}\\cos{(2 \\pi n k/2)} \\; $ .\n",
    "\n",
    "Pour $N > 2$, devrions-nous continuer ce modèle en utilisant des cosinus ? Nous pourrions, ce qui donnerait une transformée en cosinus ; mais nous pouvons faire mieux en notant que, sauf pour la fréquence zéro et la fréquence $N/2$ cycles par longueur d'enregistrement (en gardant $N$ pair par la suite pour simplifier), il est plus logique de continuer à sélectionner des fréquences avec un nombre entier de cycles par longueur d'enregistrement, et de laisser chaque fréquence avoir une composante en cosinus et une en sinus, donc une amplitude et une phase. Cela donne la transformée de Fourier discrète."
   ]
  },
  {
   "cell_type": "markdown",
   "metadata": {},
   "source": [
    "## Transformée de Fourier Discrète"
   ]
  },
  {
   "cell_type": "markdown",
   "metadata": {},
   "source": [
    "La Transformée de Fourier Discrète et son inverse sont généralement implémentées en utilisant des exponentielles complexes. La version fournie par numpy (https://docs.scipy.org/doc/numpy/reference/routines.fft.html) est typique. Supposons que vous ayez une série de $N$ points, $a_n$. Un exemple typique serait une série temporelle, disons la hauteur de la surface de la mer, ou les vecteurs de courant d'une bouée, échantillonnés régulièrement à intervalles horaires. Alors $\\Delta t = 1$ heure, donc si $N = 240$ la longueur de la série serait de $L = 10$ jours ou 240 heures. Le $n$ième temps est $t_n = n \\Delta t$.\n",
    "\n",
    "Les fréquences de Fourier sont un nombre entier de cycles par longueur d'enregistrement : $0, 1, 2...N-1$ cycles par $N \\Delta t$, ou $0, 1/(N \\Delta t), 2/(N \\Delta t), ... (N-1)/(N \\Delta t)$ cycles par unité de temps (où $\\Delta t$ est l'unité de temps). Définissons la fréquence $k$ comme $f_k = k/(N \\Delta t)$ cycles par unité de temps. Alors la DFT mappe la série temporelle sur les amplitudes et phases de fréquence constituantes, $A_k$ comme ceci :\n",
    "\n",
    "$$A_k = \\sum_{n=0}^{N-1} a_n \\exp(-i 2 \\pi f_k t_n)$$\n",
    "\n",
    "avec la relation inverse :\n",
    "\n",
    "$$a_n = \\frac{1}{N} \\sum_{k=0}^{N-1} A_k \\exp(i 2 \\pi f_k t_n)$$\n",
    "\n",
    "Remarquez la quasi-symétrie : les expressions diffèrent par le signe de l'argument de l'exponentielle, et par la normalisation $1/N$ de l'inverse.\n",
    "\n",
    "Pour relier ces expressions aux formes dans le lien de documentation numpy, évaluez le produit dans l'argument :\n",
    "$$f_k t_n = (\\frac{k}{N \\Delta t})(n \\Delta t) = \\frac{k n}{N}$$\n",
    "\n",
    "La DFT peut être vue comme la projection - le produit intérieur ou point - du vecteur de la série temporelle sur chacun des vecteurs représentant une exponentielle complexe d'amplitude unitaire à une fréquence de Fourier."
   ]
  },
  {
   "cell_type": "markdown",
   "metadata": {},
   "source": [
    "### Variance : Théorème de Parseval"
   ]
  },
  {
   "cell_type": "markdown",
   "metadata": {},
   "source": [
    "Étant donné la conservation de l'information impliquée dans la TF et son inverse, et l'orthogonalité du nouvel ensemble de vecteurs de base sur lesquels la TF projette les données originales, nous arrivons à un théorème important. Dans sa forme discrète, il stipule que la somme des carrés des échantillons du signal est égale à la somme des amplitudes au carré dans sa TF, multipliée par un facteur de normalisation qui dépend de la façon dont la TF a été définie. Pour la définition utilisée ici, nous avons $$\\Sigma |a_k|^2 = \\frac{1}{N} \\Sigma |A_k|^2$$\n",
    "\n",
    "Cela signifie que la variance peut être divisée en contributions indépendantes de chaque point de données, ou elle peut être divisée en contributions indépendantes de chaque fréquence de Fourier dans la TF. Ce dernier conduit au concept de *spectre* que nous explorerons dans deux notebooks ultérieurs. D'abord, nous devons bien comprendre comment la DFT fonctionne et ce qu'elle fait."
   ]
  },
  {
   "cell_type": "markdown",
   "metadata": {},
   "source": [
    "### Aliasing"
   ]
  },
  {
   "cell_type": "markdown",
   "metadata": {},
   "source": [
    "Ajouter n'importe quel multiple entier de $2 \\pi i$ à l'argument de l'exponentielle dans la DFT ou son inverse n'a aucun effet.\n",
    "\n",
    "$$\\exp\\left(-i 2 \\pi \\frac{(k + NM) n}{N}\\right) = \n",
    "   \\exp\\left(-i 2 \\pi (\\frac{k n}{N} + n M)\\right) = \n",
    "   \\exp\\left(-i 2 \\pi (\\frac{k n}{N})\\right)$$\n",
    "   \n",
    "Par conséquent, $A_{k + MN}$ = $A_k$ pour tout entier $M$."
   ]
  },
  {
   "cell_type": "markdown",
   "metadata": {},
   "source": [
    "### La fréquence Nyquist"
   ]
  },
  {
   "cell_type": "markdown",
   "metadata": {},
   "source": [
    "La fréquence la plus élevée qui peut être résolue est celle avec deux échantillons par cycle : le pic de la sinusoïde, et la vallée. C'est la fréquence de Nyquist, $f_N = 1 / (2 \\Delta t)$ cycles par unité de temps ; la période est l'inverse, $2 \\Delta t$."
   ]
  },
  {
   "cell_type": "markdown",
   "metadata": {},
   "source": [
    "### Fréquences négatives, ou fréquences supérieures à Nyquist"
   ]
  },
  {
   "cell_type": "markdown",
   "metadata": {},
   "source": [
    "Si la fréquence la plus élevée que nous pouvons résoudre est la fréquence de Nyquist, cela laisse près de la moitié des fréquences de Fourier trop élevées pour être échantillonnées correctement, n'est-ce pas ? Pas exactement. Ces fréquences de Fourier supérieures à la fréquence de Nyquist sont équivalentes à des fréquences *négatives* inférieures à la fréquence de Nyquist :\n",
    "\n",
    "$$\\exp\\left(-i 2 \\pi \\frac{(N - k) n}{N}\\right) = \n",
    "   \\exp\\left(-i 2 \\pi (\\frac{-k n}{N} + n)\\right) = \n",
    "   \\exp\\left(-i 2 \\pi (\\frac{-k n}{N})\\right) = \n",
    "   \\exp\\left(i 2 \\pi (\\frac{k n}{N})\\right)$$\n",
    "   \n",
    "Par conséquent, $A_{N - k}$ = $A_{-k}$. La fréquence de Fourier la plus élevée, par exemple, $f_{N-1} = f_{-1}$ qui est juste un cycle par longueur d'enregistrement.\n",
    "\n",
    "Quelle est la signification des fréquences négatives ? Cela dépend si la série temporelle originale est réelle, comme la hauteur de la surface de la mer, ou complexe, comme la vitesse du courant horizontal, avec les composantes est et nord combinées en un nombre complexe, $u + i v$.\n",
    "\n",
    "Si elle est réelle, $A_{-k}$ = $A_k^*$. Les fréquences négatives n'apportent aucune nouvelle information.\n",
    "\n",
    "Si elle est complexe, alors les fréquences positives correspondent à un vecteur tournant dans le sens contraire des aiguilles d'une montre, et les fréquences négatives correspondent à un vecteur tournant dans le sens des aiguilles d'une montre."
   ]
  },
  {
   "cell_type": "markdown",
   "metadata": {},
   "source": [
    "## Exemples de DFT"
   ]
  },
  {
   "cell_type": "markdown",
   "metadata": {},
   "source": [
    "Examinons des exemples de la transformée de Fourier appliquée à des séries temporelles simples. Nous allons préparer les choses avec quelques imports et les valeurs par défaut de matplotlib :"
   ]
  },
  {
   "cell_type": "code",
   "execution_count": null,
   "metadata": {},
   "outputs": [],
   "source": [
    "%matplotlib notebook \n",
    "\n",
    "import numpy as np\n",
    "from numpy.fft import fft, ifft, fftshift, fftfreq\n",
    "import matplotlib as mpl\n",
    "import matplotlib.pyplot as plt\n",
    "\n",
    "plt.rc('lines', markersize=10, markeredgewidth=1.5)\n",
    "plt.rc('figure', dpi=80, max_open_warning=False)\n",
    "plt.rc('savefig', dpi=80)"
   ]
  },
  {
   "cell_type": "markdown",
   "metadata": {},
   "source": [
    "Maintenant, nous créons une fonction pour tracer la série temporelle originale et sa transformation :"
   ]
  },
  {
   "cell_type": "code",
   "execution_count": null,
   "metadata": {},
   "outputs": [],
   "source": [
    "def show_transform(x, y):\n",
    "    \"\"\"\n",
    "    Trace y(x) et sa transformation.\n",
    "    \n",
    "    y peut être réel ou complexe.\n",
    "    \"\"\"\n",
    "    x = np.asarray(x)\n",
    "    y = np.asarray(y)\n",
    "    fy = fftshift(fft(y))\n",
    "    freqs = fftshift(fftfreq(len(x), d=(x[1] - x[0])))    \n",
    "    fig, axs = plt.subplots(nrows=2, constrained_layout=True)\n",
    "\n",
    "    for ax in axs:\n",
    "        ax.margins(x=0.05, y=0.1)\n",
    "        ax.grid(True)\n",
    "        ax.locator_params(symmetric=True)\n",
    "        # (La ligne ci-dessus ne semble pas fonctionner comme prévu...)\n",
    "            \n",
    "    ax = axs[0]\n",
    "    if y.dtype.kind == 'c':\n",
    "        ax.plot(x, y.real, 'r+', x, y.imag, 'bx')\n",
    "    else:\n",
    "        ax.plot(x, y, 'k.')\n",
    "    ax.set_xlabel(\"Temps\")\n",
    "    \n",
    "    ax = axs[1]\n",
    "    ax.plot(freqs, np.abs(fy), 'ko', mfc='none', label='amp')\n",
    "    ax.plot(freqs, fy.real, 'r+', label='réel')\n",
    "    ax.plot(freqs, fy.imag, 'bx', label='imaginaire')\n",
    "\n",
    "    ax.set_xlabel(\"Fréquence, cycles par unité de temps\")\n",
    "    ax.legend(loc=\"meilleur\", \n",
    "                  numpoints=1,\n",
    "                  fontsize='petit')\n",
    "    \n",
    "\n",
    "    return fig, axs"
   ]
  },
  {
   "cell_type": "markdown",
   "metadata": {},
   "source": [
    "### Transformation d'une sinusoïde"
   ]
  },
  {
   "cell_type": "markdown",
   "metadata": {},
   "source": [
    "Ensuite, nous créons une fonction pour générer une série temporelle avec une seule sinusoïde, et pour tracer sa série temporelle :"
   ]
  },
  {
   "cell_type": "code",
   "execution_count": null,
   "metadata": {},
   "outputs": [],
   "source": [
    "# Cette fonction génère un signal sinusoïdal\n",
    "# (ou un signal exponentiel complexe en fonction du paramètre de rotation)\n",
    "# avec un nombre spécifié de points, de cycles par enregistrement, de décalage de phase et d'intervalle de temps d'échantillonnage.\n",
    "def sinusoid_pts(npts = 16,\n",
    "             cycles = 3, # cycles par enregistrement\n",
    "             phase = 0, # décalage de phase en cycles\n",
    "             dt = 1, # intervalle de temps d'échantillonnage\n",
    "             rotation=None # 'positive' ou 'négative' pour l'exponentielle complexe\n",
    "             ):\n",
    "    f = cycles / (npts * dt)\n",
    "    x1 = np.arange(npts, dtype=float) * dt\n",
    "    phi = 2 * np.pi * (f * x1 - phase)\n",
    "    if rotation is None:\n",
    "        y1 = np.cos(phi)\n",
    "    elif rotation == 'positive':\n",
    "        y1 = np.exp(1j * phi)\n",
    "    else:\n",
    "        y1 = np.exp(-1j * phi)\n",
    "        \n",
    "    return x1, y1\n",
    "\n",
    "# appelle la fonction sinusoid_pts et la fonction show_transform\n",
    "def sinusoid(*args, **kw):\n",
    "    x1, y1 = sinusoid_pts(*args, **kw)\n",
    "    fig, axs = show_transform(x1, y1)\n",
    "    return fig, axs"
   ]
  },
  {
   "cell_type": "markdown",
   "metadata": {},
   "source": [
    "Commençons avec les paramètres par défaut, 3 cycles dans un court enregistrement :"
   ]
  },
  {
   "cell_type": "code",
   "execution_count": null,
   "metadata": {},
   "outputs": [],
   "source": [
    "# Commencer avec la configuration par défaut de la fonction sinusoid_pts\n",
    "npts = 16\n",
    "sinusoid(npts=npts, cycles=3)"
   ]
  },
  {
   "cell_type": "markdown",
   "metadata": {},
   "source": [
    "Que se passe-t-il si la fréquence du signal est supérieure à la fréquence de Nyquist ?"
   ]
  },
  {
   "cell_type": "code",
   "execution_count": null,
   "metadata": {},
   "outputs": [],
   "source": [
    "npts = 32\n",
    "cycles = npts - 3\n",
    "fig, axs = sinusoid(npts=npts, cycles=cycles)\n",
    "dt = 0.05  \n",
    "# Résoudre la courbe aliasée\n",
    "# npts = 320\n",
    "x, y = sinusoid_pts(npts=npts/dt, cycles=cycles, dt=dt)\n",
    "axs[0].plot(x, y, 'r')"
   ]
  },
  {
   "cell_type": "markdown",
   "metadata": {},
   "source": [
    "Remarquez que nous avons bien une simple courbe cosinus avec 3 cycles dans l'enregistrement de longueur 32 points. La transformation n'a pas de partie imaginaire, et la partie réelle est symétrique par rapport à la fréquence zéro, comme prévu. Parce que nous avons choisi un nombre entier de cycles par longueur d'enregistrement, qui est l'une des fréquences de Fourier, il n'y a qu'une seule fréquence positive avec une amplitude non nulle, et c'est bien sûr la troisième au-dessus de zéro.\n",
    "\n",
    "Essayez maintenant de lui donner un décalage de phase de 0,25 cycle :"
   ]
  },
  {
   "cell_type": "code",
   "execution_count": null,
   "metadata": {},
   "outputs": [],
   "source": [
    "# Exercice\n",
    "# appelez la fonction sinusoid et donnez-lui seulement l'argument phase = 0.25"
   ]
  },
  {
   "cell_type": "markdown",
   "metadata": {},
   "source": [
    "<details>\n",
    "<summary><b>Cliquez ici pour voir l'indice<b></summary>\n",
    "\n",
    "fonction(phase=0.25)\n",
    "\n",
    "</details>"
   ]
  },
  {
   "cell_type": "markdown",
   "metadata": {},
   "source": [
    "Cela a transformé la courbe d'un cosinus en un sinus. Maintenant, la transformation a une partie *réelle* nulle. Sa partie imaginaire est antisymétrique par rapport à la fréquence zéro, et n'est non nulle que pour 3 cycles par longueur d'enregistrement, comme prévu.\n",
    "\n",
    "Que se passe-t-il si la série temporelle est un cosinus, mais a un nombre non entier de cycles par longueur d'enregistrement ?"
   ]
  },
  {
   "cell_type": "code",
   "execution_count": null,
   "metadata": {},
   "outputs": [],
   "source": [
    "# Exercice\n",
    "# appelez la fonction sinusoid et donnez-lui seulement l'argument cycles = 3.5"
   ]
  },
  {
   "cell_type": "markdown",
   "metadata": {},
   "source": [
    "<details>\n",
    "<summary><b>Cliquez ici pour voir l'indice<b></summary>\n",
    "\n",
    "fonction(cycles=3.5)\n",
    "\n",
    "</details>"
   ]
  },
  {
   "cell_type": "markdown",
   "metadata": {},
   "source": [
    "Les amplitudes les plus grandes sont à 3 et 4 cycles par longueur d'enregistrement, comme prévu, mais maintenant il y a des amplitudes réelles et imaginaires non nulles à *toutes* les fréquences. C'est le phénomène de *fuite*, et il est fondamental pour la transformée de Fourier et pour toutes les techniques d'analyse de données basées sur celle-ci."
   ]
  },
  {
   "cell_type": "code",
   "execution_count": null,
   "metadata": {},
   "outputs": [],
   "source": [
    "# Exercice\n",
    "# appelez la fonction sinusoid et donnez-lui seulement l'argument cycles = 3.2"
   ]
  },
  {
   "cell_type": "markdown",
   "metadata": {},
   "source": [
    "Maintenant, le signal est plus proche d'une fréquence de Fourier, et l'amplitude la plus grande est à cette fréquence la plus proche, 3 cycles par longueur d'enregistrement. La distribution des parties réelles et imaginaires de l'amplitude est plus compliquée que dans l'exemple précédent, mais montre toujours la symétrie attendue : $H_n = H^*_{-n} \\:$.\n",
    "\n",
    "Essayez une entrée complexe, une exponentielle complexe à 3 cycles par longueur d'enregistrement tournant dans le sens contraire des aiguilles d'une montre :"
   ]
  },
  {
   "cell_type": "code",
   "execution_count": null,
   "metadata": {},
   "outputs": [],
   "source": [
    "# Exercice\n",
    "# appelez la fonction sinusoid et donnez-lui seulement l'argument rotation = 'positive'"
   ]
  },
  {
   "cell_type": "markdown",
   "metadata": {},
   "source": [
    "Et en tournant dans le sens des aiguilles d'une montre :"
   ]
  },
  {
   "cell_type": "code",
   "execution_count": null,
   "metadata": {},
   "outputs": [],
   "source": [
    "# Exercice\n",
    "# appelez la fonction sinusoid et donnez-lui seulement l'argument rotation = 'négative'"
   ]
  },
  {
   "cell_type": "markdown",
   "metadata": {},
   "source": [
    "Remarquez la relation de phase attendue entre les parties réelles et imaginaires de l'entrée, et l'isolement de la transformée de Fourier à une seule amplitude non nulle, à une fréquence positive pour une rotation dans le sens contraire des aiguilles d'une montre, et à une fréquence négative pour une rotation dans le sens des aiguilles d'une montre."
   ]
  },
  {
   "cell_type": "markdown",
   "metadata": {},
   "source": [
    "### Transformation d'une impulsion"
   ]
  },
  {
   "cell_type": "markdown",
   "metadata": {},
   "source": [
    "Nous avons vu que la TF d'une sinusoïde est fortement pointue - c'est-à-dire qu'elle est localisée dans l'espace des fréquences, même si une certaine énergie est répartie par fuite. Dans le cas idéal, où la sinusoïde échantillonnée a un nombre entier de cycles par longueur d'enregistrement, la TF est un seul pic (ou deux pics, si nous traitons séparément les fréquences positives et négatives). Que se passe-t-il lorsque le signal est pointu (hautement localisé) dans le *domaine du temps* ? Examinons la TF d'une impulsion de largeur et de position variables :"
   ]
  },
  {
   "cell_type": "code",
   "execution_count": null,
   "metadata": {},
   "outputs": [],
   "source": [
    "def pulse(npts = 32, uplims=None, dt=1):\n",
    "    \"\"\"\n",
    "    Génère et affiche un signal d'impulsion et sa transformation.\n",
    "    \"\"\"\n",
    "    x1 = np.arange(npts, dtype=float) * dt\n",
    "    y1 = np.zeros_like(x1)\n",
    "    if uplims is None:\n",
    "        upslice = slice(0, npts // 2)\n",
    "    else:\n",
    "        upslice = slice(*uplims)\n",
    "    y1[upslice] = 1    \n",
    "    show_transform(x1, y1)"
   ]
  },
  {
   "cell_type": "markdown",
   "metadata": {},
   "source": [
    "Essayez une impulsion à l'origine - un seul point non nul :"
   ]
  },
  {
   "cell_type": "code",
   "execution_count": null,
   "metadata": {},
   "outputs": [],
   "source": [
    "pulse(uplims=[0, 1])"
   ]
  },
  {
   "cell_type": "markdown",
   "metadata": {},
   "source": [
    "Déplacez le point relevé vers la droite :"
   ]
  },
  {
   "cell_type": "code",
   "execution_count": null,
   "metadata": {},
   "outputs": [],
   "source": [
    "# Exercice\n",
    "# Appelez la fonction pulse mais donnez les uplims comme 1 et 2"
   ]
  },
  {
   "cell_type": "markdown",
   "metadata": {},
   "source": [
    "Remarquez que bien que les transformations de ces deux signaux très similaires semblent assez différentes, elles ne diffèrent en réalité que par la phase ; dans les deux cas, l'amplitude complexe est uniforme avec la fréquence. *La localisation la plus extrême dans le domaine du temps produit l'uniformité la plus complète dans le domaine de la fréquence.*\n",
    "\n",
    "Essayez maintenant une impulsion plus large :"
   ]
  },
  {
   "cell_type": "code",
   "execution_count": null,
   "metadata": {},
   "outputs": [],
   "source": [
    "# Exercice\n",
    "# Appelez la fonction pulse mais donnez les uplims comme 0 et 4"
   ]
  },
  {
   "cell_type": "code",
   "execution_count": null,
   "metadata": {},
   "outputs": [],
   "source": [
    "# Exercice\n",
    "# Appelez la fonction pulse mais donnez les uplims comme 0 et 8"
   ]
  },
  {
   "cell_type": "code",
   "execution_count": null,
   "metadata": {},
   "outputs": [],
   "source": [
    "# Exercice\n",
    "# Appelez la fonction pulse mais donnez les uplims comme 0 et 16"
   ]
  },
  {
   "cell_type": "markdown",
   "metadata": {},
   "source": [
    "Avec une impulsion plus large - moins localisée dans l'espace - la plage de fréquences avec une grande amplitude se rétrécit."
   ]
  },
  {
   "cell_type": "markdown",
   "metadata": {},
   "source": [
    "### Transformation du bruit"
   ]
  },
  {
   "cell_type": "markdown",
   "metadata": {},
   "source": [
    "Nous avons noté au début que la TF est particulièrement utile pour analyser les séries temporelles de type bruit, sans périodicité évidente. Dans de tels cas, nous sommes généralement intéressés à connaître le caractère spectral des données, souvent décrit par analogie avec le spectre visuel. Une série temporelle blanche est une série avec une variance approximativement uniforme par unité de fréquence ; un spectre rouge est pondéré vers les basses fréquences ; et un spectre bleu est pondéré vers les hautes fréquences."
   ]
  },
  {
   "cell_type": "code",
   "execution_count": null,
   "metadata": {},
   "outputs": [],
   "source": [
    "def noise(npts = 32, color='w', dt=1, repeatable=True):\n",
    "    \"\"\"\n",
    "    Génère et affiche un signal de bruit et sa transformation.\n",
    "    \n",
    "    La couleur peut être 'r', 'w', ou 'b'.\n",
    "\n",
    "    Pour expérimenter avec différents ensembles de nombres pseudo-aléatoires,\n",
    "    définissez *repeatable* sur *False*.\n",
    "    \"\"\"\n",
    "    if repeatable:\n",
    "        np.random.seed(0)\n",
    "    x1 = np.arange(npts, dtype=float) * dt\n",
    "    y1 = np.random.randn(npts + 1)\n",
    "    if color == 'w':\n",
    "        y1 = y1[:npts]\n",
    "    elif color == 'r':\n",
    "        y1 = y1.cumsum()[:npts]\n",
    "    elif color == 'b':\n",
    "        y1 = np.diff(y1)\n",
    "    y1 -= y1.mean()    \n",
    "    show_transform(x1, y1)"
   ]
  },
  {
   "cell_type": "markdown",
   "metadata": {},
   "source": [
    "Pour chacun des suivants, changez l'argument `repeatable` à `'False'` et exécutez la cellule à plusieurs reprises pour voir comment les résultats changent avec chaque réalisation du processus aléatoire."
   ]
  },
  {
   "cell_type": "code",
   "execution_count": null,
   "metadata": {},
   "outputs": [],
   "source": [
    "noise(color='r', repeatable=True)"
   ]
  },
  {
   "cell_type": "code",
   "execution_count": null,
   "metadata": {},
   "outputs": [],
   "source": [
    "# Exercice\n",
    "# Appelez la fonction noise mais donnez la couleur comme 'w' et réglable doit être défini sur True"
   ]
  },
  {
   "cell_type": "code",
   "execution_count": null,
   "metadata": {},
   "outputs": [],
   "source": [
    "# Exercice\n",
    "# Appelez la fonction noise mais donnez la couleur comme 'b'"
   ]
  },
  {
   "cell_type": "markdown",
   "metadata": {},
   "source": [
    "Dans les trois exemples ci-dessus, passant du rouge au blanc au bleu, vous pouvez voir le changement dans les distributions d'amplitude, de l'accent sur les basses fréquences, à l'uniforme, à l'accent sur les hautes fréquences. Comme nous travaillons avec des échantillons aléatoires, les valeurs de la TF sont également aléatoires."
   ]
  },
  {
   "cell_type": "markdown",
   "metadata": {},
   "source": [
    "### Transformation d'une tendance"
   ]
  },
  {
   "cell_type": "code",
   "execution_count": null,
   "metadata": {},
   "outputs": [],
   "source": [
    "def trend(npts = 32, dt=1):\n",
    "    \"\"\"\n",
    "    Génère et affiche une tendance linéaire et sa transformation.\n",
    "    \"\"\"\n",
    "    x1 = np.arange(npts, dtype=float) * dt\n",
    "    y1 = np.arange(npts, dtype=float)\n",
    "    y1 -= y1.mean()\n",
    "    \n",
    "    show_transform(x1, y1)"
   ]
  },
  {
   "cell_type": "code",
   "execution_count": null,
   "metadata": {},
   "outputs": [],
   "source": [
    "trend()"
   ]
  },
  {
   "cell_type": "markdown",
   "metadata": {},
   "source": [
    "## Transformation inverse"
   ]
  },
  {
   "cell_type": "markdown",
   "metadata": {},
   "source": [
    "Mis à part l'erreur de troncature en virgule flottante, la TF inverse annule l'action de la TF. Cependant, nous pouvons mettre une étape au milieu pour atténuer ou supprimer l'énergie à certaines fréquences, filtrant ainsi le signal. Nous illustrerons cela ici en utilisant une coupure basse fréquence nette. L'impulsion sera le premier cobaye. L'effet de la coupure nette sera plus clair avec une série temporelle plus longue, d'où le choix de 256 points."
   ]
  },
  {
   "cell_type": "code",
   "execution_count": null,
   "metadata": {},
   "outputs": [],
   "source": [
    "def pulse_signal(npts = 256, uplims=None, dt=1):\n",
    "    \"\"\"\n",
    "    Génère et renvoie un signal d'impulsion.\n",
    "    \"\"\"\n",
    "    x1 = np.arange(npts, dtype=float) * dt\n",
    "    y1 = np.zeros_like(x1)\n",
    "    if uplims is None:\n",
    "        upslice = slice(0, npts // 2)\n",
    "    else:\n",
    "        upslice = slice(*uplims)\n",
    "    y1[upslice] = 1    \n",
    "    return x1, y1"
   ]
  },
  {
   "cell_type": "code",
   "execution_count": null,
   "metadata": {},
   "outputs": [],
   "source": [
    "def reconstruct(y, cutoff=None):\n",
    "    \"\"\"\n",
    "    Reconstruit une série temporelle via l'ifft de sa fft, éventuellement en supprimant\n",
    "    les fréquences à et au-dessus d'un seuil.\n",
    "\n",
    "    cutoff est la fréquence la plus basse en cycles entiers par longueur d'enregistrement\n",
    "    qui doit être omise dans la reconstruction.\n",
    "    \"\"\"\n",
    "    y = np.asarray(y)\n",
    "    npts = len(y)\n",
    "    fy = fft(y)\n",
    "    if cutoff is not None:\n",
    "        if cutoff > 1:\n",
    "            fy[cutoff:-(cutoff-1)] = 0\n",
    "        else:\n",
    "            raise ValueError(\"cutoff doit être supérieur à 1\")\n",
    "    yr = ifft(fy)\n",
    "    if y.dtype.kind == 'c':\n",
    "        return yr\n",
    "    return yr.real"
   ]
  },
  {
   "cell_type": "code",
   "execution_count": null,
   "metadata": {},
   "outputs": [],
   "source": [
    "def show_pulse_reconstruction(cutoffs, **kw):\n",
    "    \"\"\"\n",
    "    cutoffs doit être une liste de fréquences de coupure en cycles par longueur d'enregistrement\n",
    "    \"\"\"\n",
    "    x, y = pulse_signal(**kw)\n",
    "    yrs = np.zeros((len(x), len(cutoffs)), dtype=float)\n",
    "    for i, cutoff in enumerate(cutoffs): \n",
    "        yrs[:, i] = reconstruct(y, cutoff=cutoff)\n",
    "    fig, ax = plt.subplots()\n",
    "    line0 = ax.plot(x, y, color='k', lw=3)\n",
    "    lines = ax.plot(x, yrs)\n",
    "    linelist = line0 + lines\n",
    "    labels = [\"orig\"]\n",
    "    labels += [\"%s\" % c for c in cutoffs]\n",
    "    ax.legend(linelist, labels)\n",
    "    ax.grid(True)\n",
    "    ax.set_xlabel('Temps')\n",
    "    ax.set_title('Séries de Fourier tronquées')"
   ]
  },
  {
   "cell_type": "code",
   "execution_count": null,
   "metadata": {},
   "outputs": [],
   "source": [
    "show_pulse_reconstruction([3, 5, 10, 20])"
   ]
  },
  {
   "cell_type": "markdown",
   "metadata": {},
   "source": [
    "Remarquez que la reconstruction s'améliore à mesure que nous déplaçons la coupure vers des fréquences plus élevées, mais elle oscille toujours autour de sa cible. Y a-t-il une meilleure façon de filtrer en utilisant la FFT et l'IFFT ?\n",
    "\n",
    "Au lieu d'utiliser une coupure nette, essayons de diminuer progressivement jusqu'à zéro."
   ]
  },
  {
   "cell_type": "code",
   "execution_count": null,
   "metadata": {},
   "outputs": [],
   "source": [
    "def reconstruct2(y, cutoff=None, taperfrac=0.25):\n",
    "    \"\"\"\n",
    "    Reconstruit une série temporelle via l'ifft de sa fft, éventuellement en supprimant\n",
    "    les fréquences à et au-dessus d'un seuil.\n",
    "\n",
    "    cutoff est à peu près à mi-chemin de la pente de la diminution.\n",
    "    \"\"\"\n",
    "    y = np.asarray(y)\n",
    "    npts = len(y)\n",
    "    fy = fft(y)\n",
    "    if cutoff is not None:\n",
    "        if cutoff > 1:\n",
    "            w = np.ones((npts,), dtype=float)\n",
    "            ntaper = int(round(taperfrac * cutoff))\n",
    "            ntaper = min(cutoff - 2, ntaper)\n",
    "            w[cutoff + ntaper:-(cutoff + ntaper - 1)] = 0\n",
    "            w[cutoff - ntaper:cutoff + ntaper + 1] = np.linspace(1, 0, num=2 * ntaper + 1)\n",
    "            w[-cutoff - ntaper:-cutoff + ntaper + 1] = np.linspace(0, 1, num=2 * ntaper + 1)\n",
    "        else:\n",
    "            raise ValueError(\"cutoff doit être supérieur à 1\")\n",
    "    yr = ifft(fy * w)\n",
    "    if y.dtype.kind == 'c':\n",
    "        return yr, w\n",
    "    return yr.real, w"
   ]
  },
  {
   "cell_type": "code",
   "execution_count": null,
   "metadata": {},
   "outputs": [],
   "source": [
    "def show_pulse_reconstruction2(cutoffs, taperfrac=0.25, **kw):\n",
    "    \"\"\"\n",
    "    cutoffs doit être une liste de fréquences de coupure en cycles par longueur d'enregistrement\n",
    "    \"\"\"\n",
    "    x, y = pulse_signal(**kw)\n",
    "    yrs = np.zeros((len(x), len(cutoffs)), dtype=float)\n",
    "    for i, cutoff in enumerate(cutoffs): \n",
    "        yrs[:, i] = reconstruct2(y, cutoff=cutoff, taperfrac=taperfrac)[0]\n",
    "    fig, ax = plt.subplots()\n",
    "    line0 = ax.plot(x, y, color='k', lw=3)\n",
    "    lines = ax.plot(x, yrs)\n",
    "    linelist = line0 + lines\n",
    "    labels = [\"orig\"]\n",
    "    labels += [\"%s\" % c for c in cutoffs]\n",
    "    ax.legend(linelist, labels)\n",
    "    ax.grid(True)\n",
    "    ax.set_xlabel('Temps')\n",
    "    ax.set_title('Séries de Fourier atténuées')"
   ]
  },
  {
   "cell_type": "code",
   "execution_count": null,
   "metadata": {},
   "outputs": [],
   "source": [
    "show_pulse_reconstruction2([3, 5, 10, 20])"
   ]
  },
  {
   "cell_type": "code",
   "execution_count": null,
   "metadata": {},
   "outputs": [],
   "source": [
    "show_pulse_reconstruction2([3, 5, 10, 20], taperfrac=0.75)"
   ]
  },
  {
   "cell_type": "markdown",
   "metadata": {},
   "source": [
    "Nous avons utilisé un atténuation très grossière, mais elle aide toujours à supprimer les oscillations."
   ]
  },
  {
   "cell_type": "markdown",
   "metadata": {},
   "source": [
    "# Section 3\n",
    "## Analyse spectrale\n",
    "Nous avons l'habitude de penser à la lumière en termes de son contenu en couleur, et au son, surtout à la musique, en termes de son contenu en fréquence. Nous faisons de même avec les séries temporelles géophysiques - nous les décrivons, les décomposons ou les filtrons en fonction de la fréquence. Plus généralement, cela peut être étendu aux dimensions spatiales. Le spectre des vagues de gravité de surface de l'océan peut être décrit en termes de longueur d'onde ou de nombre d'onde, bien que cela introduise la complication supplémentaire que le nombre d'onde est un vecteur alors que la fréquence est un scalaire. Dans tous les cas, nous travaillons avec la façon dont l'énergie est répartie entre les composantes périodiques, et tant que nous ne considérons qu'une seule variable, nous nous soucions de l'énergie ou de l'amplitude, mais pas de la phase. C'est un point central : l'autospectre, qui est le sujet de ce cahier, *élimine les informations sur la phase*.\n",
    "\n",
    "Note : dans tout ce qui suit, nous faisons des tracés rapides à la manière d'un script, sans chercher à ajouter les agréments habituels tels que les étiquettes d'axes et les légendes. Ces tracés sont destinés à votre expérimentation, et non comme des exemples de produits que l'on utiliserait pour d'autres fins que ces fins pédagogiques. Les échelles de temps sont en jours, les fréquences sont en cycles par jour, étant donné des données horaires. La densité spectrale de puissance est en amplitude carrée par cycle par jour."
   ]
  },
  {
   "cell_type": "code",
   "execution_count": null,
   "metadata": {},
   "outputs": [],
   "source": [
    "%matplotlib inline \n",
    "# substituez notebook par inline ci-dessus pour obtenir des graphiques interactifs\n",
    "# graphiques en ligne\n",
    "\n",
    "import numpy as np\n",
    "import matplotlib.pyplot as plt\n",
    "\n",
    "import scipy.stats as ss\n",
    "\n",
    "plt.rcParams['figure.dpi'] = 90"
   ]
  },
  {
   "cell_type": "code",
   "execution_count": null,
   "metadata": {},
   "outputs": [],
   "source": [
    "def datafaker(nt, dt=1, freqs=None, color='w',\n",
    "              amp=1, \n",
    "              complex=True,\n",
    "              repeatable=True):\n",
    "    \"\"\"\n",
    "    Génère de fausses données avec des sinusoides optionnels (tous de\n",
    "    la même amplitude) et avec du bruit rouge, blanc ou bleu\n",
    "    d'amplitude arbitraire.\n",
    "    \n",
    "    *nt* : nombre de points\n",
    "    *dt* : incrément de temps en unités de temps arbitraires\n",
    "    *freqs* : None, ou une séquence de fréquences en\n",
    "        cycles par unité de temps. \n",
    "    *color* : 'r', 'w', 'b'\n",
    "    *amp* : amplitude du bruit rouge, blanc ou bleu\n",
    "    *complex* : True, False\n",
    "    *repeatable* : True, False\n",
    "\n",
    "    Retourne t, x\n",
    "    \"\"\"\n",
    "    if repeatable:\n",
    "        np.random.seed(1)    \n",
    "    noise = np.random.randn(nt + 1) + 1j * np.random.randn(nt + 1)\n",
    "    \n",
    "    if color == 'r':\n",
    "        noise = np.cumsum(noise) / 10 \n",
    "        noise -= noise.mean()\n",
    "    elif color == 'b':\n",
    "        noise = np.diff(noise)\n",
    "    noise = noise[:nt]\n",
    "    x = amp * noise\n",
    "\n",
    "    t = np.arange(nt, dtype=float) * dt\n",
    "    \n",
    "    for f in freqs:\n",
    "        sinusoid = np.exp(2 * np.pi * 1j * f * t)\n",
    "        x += sinusoid\n",
    "    if not complex:\n",
    "        x = np.real(x)\n",
    "        \n",
    "    return t, x"
   ]
  },
  {
   "cell_type": "markdown",
   "metadata": {},
   "source": [
    "Essayons des données horaires, réelles (au lieu de complexes), avec une forte marée semi-diurne plus du bruit rouge."
   ]
  },
  {
   "cell_type": "code",
   "execution_count": null,
   "metadata": {},
   "outputs": [],
   "source": [
    "nt = 240\n",
    "\n",
    "dt = 1/24 # 1 heure\n",
    "tides = [24/12.42, 24/12]\n",
    "\n",
    "t, h = datafaker(nt, dt=dt, freqs=tides, amp=1, \n",
    "                 color='r',\n",
    "                 complex=False)\n",
    "fig, ax = plt.subplots()\n",
    "ax.plot(t, h)\n",
    "ax.set_xlabel('days');"
   ]
  },
  {
   "cell_type": "markdown",
   "metadata": {},
   "source": [
    "Le point de départ de l'autospectre est la transformée de Fourier discrète. Les amplitudes au carré - en éliminant la phase - donnent un périodogramme brut. Nous commençons avec une série réelle, donc nous n'avons pas besoin des fréquences positives et négatives. Nous pourrions utiliser `np.fft.rfft` qui ne calcule que les fréquences positives, mais comme nous travaillerons avec des entrées complexes plus tard, nous utiliserons plutôt `np.fft.fft` pour tout, et sacrifierons un peu d'efficacité."
   ]
  },
  {
   "cell_type": "code",
   "execution_count": null,
   "metadata": {},
   "outputs": [],
   "source": [
    "def spectrum1(h, dt=1):\n",
    "    \"\"\"\n",
    "    Première tentative d'estimation spectrale : très brute.\n",
    "    \n",
    "    Renvoie les fréquences, le spectre de puissance, et\n",
    "    la densité spectrale de puissance.\n",
    "    Seules les fréquences positives entre (et non incluses)\n",
    "    zéro et le Nyquist sont renvoyées.\n",
    "    \"\"\"\n",
    "    nt = len(h)\n",
    "    npositive = nt//2\n",
    "    pslice = slice(1, npositive)\n",
    "    freqs = np.fft.fftfreq(nt, d=dt)[pslice] \n",
    "    ft = np.fft.fft(h)[pslice]\n",
    "    psraw = np.abs(ft) ** 2\n",
    "    # Double pour tenir compte de l'énergie dans les fréquences négatives.\n",
    "    psraw *= 2\n",
    "    # Normalisation pour le spectre de puissance\n",
    "    psraw /= nt**2\n",
    "    # Convertir le spectre de puissance en densité spectrale de puissance\n",
    "    psdraw = psraw * dt * nt  # nt * dt est la durée de l'enregistrement\n",
    "    return freqs, psraw, psdraw"
   ]
  },
  {
   "cell_type": "code",
   "execution_count": null,
   "metadata": {},
   "outputs": [],
   "source": [
    "# Choisissez deux longueurs de données en nombre d'échantillons. Ces dernières seront utilisées\n",
    "# tout au long des exemples suivants. Elles doivent être assez grandes\n",
    "# pour que les exemples fonctionnent bien.\n",
    "n1 = 2400\n",
    "n2 = 24000\n",
    "\n",
    "dfkw = dict(dt=dt, freqs=tides, amp=1, color='r', complex=False)\n",
    "\n",
    "t, h1 = datafaker(n1, **dfkw)\n",
    "freqs1, ps1, psd1 = spectrum1(h1, dt=dt)\n",
    "\n",
    "t, h2 = datafaker(n2, **dfkw)\n",
    "freqs2, ps2, psd2 = spectrum1(h2, dt=dt)\n",
    "\n",
    "fig, axs = plt.subplots(ncols=2, sharex=True)\n",
    "axs[0].loglog(freqs1, psd1, 'r',\n",
    "              freqs2, psd2, 'b', alpha=0.5)\n",
    "axs[1].loglog(freqs1, ps1, 'r', \n",
    "              freqs2, ps2, 'b', alpha=0.5)\n",
    "axs[0].set_title('Densité spectrale de puissance')\n",
    "axs[1].set_title('Spectre de puissance')\n",
    "axs[1].axis('tight')"
   ]
  },
  {
   "cell_type": "markdown",
   "metadata": {},
   "source": [
    "Étant donné une série temporelle de $N$ points, $h_j$, et les $N$ coefficients de la Transformée de Fourier correspondants, $H_k$, alors le théorème de Parseval peut être écrit comme suit\n",
    "$$\\frac{1}{N}\\sum_j |h_j|^2 = \\frac{1}{N^2} \\sum_k |H_k|^2.$$\n",
    "C'est pourquoi, dans `spectrum1`, nous divisons chaque $|H_k|^2$ par $N^2$ pour obtenir le Spectre de Puissance (PS) --- de sorte que la valeur du PS à chaque fréquence sera la contribution de cette fréquence à la variance totale de la série temporelle.\n",
    "\n",
    "Vérifiez cela pour notre exemple ; notez que `spectrum1` écarte la moyenne, en accord avec l'utilisation de la méthode `var` de la série temporelle. Cependant, il écarte également le Nyquist, nous perdons donc un tout petit peu de la variance."
   ]
  },
  {
   "cell_type": "code",
   "execution_count": null,
   "metadata": {},
   "outputs": [],
   "source": [
    "print('PS sum:   %.2f, %.2f' % (ps1.sum(), ps2.sum()))\n",
    "print('Variance: %.2f, %.2f' % (h1.var(), h2.var()))\n",
    "print('Differences: %g, %g' % (h1.var() - ps1.sum(),\n",
    "                               h2.var() - ps2.sum()))"
   ]
  },
  {
   "cell_type": "markdown",
   "metadata": {},
   "source": [
    "Remarquez que pour les pics de marée, le PS préserve l'amplitude tandis que le PSD préserve l'intégrale, mais pas l'amplitude. Pour le bruit de fond, leurs rôles sont inversés : le niveau spectral est préservé par le PSD, mais pas par le PS.\n",
    "\n",
    "Pour obtenir des nombres stables dans les calculs ci-dessus, il faut des séries temporelles suffisamment longues, d'où le choix de 2400 et 24000 heures.\n",
    "\n",
    "Maintenant, pourquoi obtenons-nous une intégrale PSD sur la bande de marée d'environ 1, et des valeurs maximales de PS de 0,5 ? Rappelez-vous que notre fausse marée est générée avec deux sinusoides d'amplitude unitaire. La variance contribuée par chacun est de 0,5, d'où la valeur maximale du PS. En intégrant sur la bande de marée, nous avons la somme des deux variances, donc 1."
   ]
  }
 ],
 "metadata": {
  "anaconda-cloud": {},
  "kernelspec": {
   "display_name": "Python 3 (ipykernel)",
   "language": "python",
   "name": "python3"
  },
  "language_info": {
   "codemirror_mode": {
    "name": "ipython",
    "version": 3
   },
   "file_extension": ".py",
   "mimetype": "text/x-python",
   "name": "python",
   "nbconvert_exporter": "python",
   "pygments_lexer": "ipython3",
   "version": "3.8.17"
  }
 },
 "nbformat": 4,
 "nbformat_minor": 4
}
