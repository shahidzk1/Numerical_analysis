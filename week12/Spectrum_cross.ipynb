{
 "cells": [
  {
   "cell_type": "markdown",
   "metadata": {},
   "source": [
    "# Spectral analysis part II"
   ]
  },
  {
   "cell_type": "markdown",
   "metadata": {},
   "source": [
    "So far we have looked at spectra for a single time series of a scalar or a vector.  Often, however, we want to look at the relationship between two different time series.  In the time domain, this can be done with a lagged covariance or correlation; in the frequency domain, these map to the the cross spectrum and the coherence."
   ]
  },
  {
   "cell_type": "code",
   "execution_count": null,
   "metadata": {},
   "outputs": [],
   "source": [
    "%matplotlib notebook\n",
    "\n",
    "import numpy as np\n",
    "import matplotlib.pyplot as plt\n",
    "\n",
    "import scipy.stats as ss\n",
    "from scipy import signal\n",
    "\n",
    "from pycurrents.num import spectra\n",
    "\n",
    "plt.rcParams['figure.dpi'] = 80"
   ]
  },
  {
   "cell_type": "markdown",
   "metadata": {},
   "source": [
    "We can re-use the `datafaker` from the previous notebook."
   ]
  },
  {
   "cell_type": "code",
   "execution_count": null,
   "metadata": {},
   "outputs": [],
   "source": [
    "def datafaker(nt, dt=1, freqs=None, color='w',\n",
    "              amp=1, \n",
    "              complex=True,\n",
    "              repeatable=True):\n",
    "    \"\"\"\n",
    "    Generate fake data with optional sinusoids (all the\n",
    "    same amplitude) and with red, white, or blue noise\n",
    "    of arbitrary amplitude.\n",
    "    \n",
    "    *nt* : number of points\n",
    "    *dt* : time increment in arbitrary time units\n",
    "    *freqs* : None, or a sequence of frequencies in\n",
    "        cycles per unit time. \n",
    "    *color* : 'r', 'w', 'b'\n",
    "    *amp* : amplitude of red, white, or blue noise\n",
    "    *complex* : True, False\n",
    "    *repeatable* : True, False\n",
    "\n",
    "    Returns t, x\n",
    "    \"\"\"\n",
    "    if repeatable:\n",
    "        np.random.seed(1)    \n",
    "    noise = np.random.randn(nt + 1) + 1j * np.random.randn(nt + 1)\n",
    "    \n",
    "    if color == 'r':\n",
    "        noise = np.cumsum(noise) / 10 \n",
    "        noise -= noise.mean()\n",
    "    elif color == 'b':\n",
    "        noise = np.diff(noise)\n",
    "    noise = noise[:nt]\n",
    "    x = amp * noise\n",
    "\n",
    "    t = np.arange(nt, dtype=float) * dt\n",
    "    \n",
    "    for f in freqs:\n",
    "        sinusoid = np.exp(2 * np.pi * 1j * f * t)\n",
    "        x += sinusoid\n",
    "    if not complex:\n",
    "        x = np.real(x)\n",
    "        \n",
    "    return t, x"
   ]
  },
  {
   "cell_type": "markdown",
   "metadata": {},
   "source": [
    "Let's simulate a pair of related time series.  They will have a random component (white noise) and a tide. We will chop `n_shift` off the start of the first replicate and off the end of the second, so the second will *lag* the first. To visualize this, let the time of each point in the series prior to chopping be an integer, 0-9.  Chopping `n_shift =2` points off the start of the first and off the end of the second leaves:\n",
    "```\n",
    "    2 3 4 5 6 7 8 9\n",
    "    0 1 2 3 4 5 6 7\n",
    "```\n",
    "Now, going from left to right (forward in time) we encounter a given number first in the first series, and two intervals later in the second; the second lags the first by 2 points.\n",
    "\n",
    "To help distinguish between them, we will give the second curve a larger amplitude in the function below. "
   ]
  },
  {
   "cell_type": "code",
   "execution_count": null,
   "metadata": {},
   "outputs": [],
   "source": [
    "def two_series(n_shift, nt, dt=1, freqs=None,\n",
    "              amp=1, \n",
    "              complex=True,\n",
    "              repeatable=True):\n",
    "    if repeatable:\n",
    "        np.random.seed(100)\n",
    "    # shared random part    \n",
    "    noise = 1.5 * amp * np.random.randn(nt + n_shift)\n",
    "    # shared harmonic behavior\n",
    "    t0, s0 = datafaker(nt + n_shift, dt=dt, freqs=freqs,\n",
    "                       amp=0, complex=complex)\n",
    "    t = t0[:-n_shift]\n",
    "    s1 = s0[n_shift:] + noise[n_shift:] + amp * np.random.randn(nt)\n",
    "    s2 = s0[:-n_shift] + noise[:-n_shift] + amp * np.random.randn(nt)\n",
    "\n",
    "    s1 -= s1.mean()\n",
    "    s2 -= s2.mean()\n",
    "    return t, s1, s2 * 1.5"
   ]
  },
  {
   "cell_type": "markdown",
   "metadata": {},
   "source": [
    "First, consider a pair of series with no noise and a single frequency."
   ]
  },
  {
   "cell_type": "code",
   "execution_count": null,
   "metadata": {},
   "outputs": [],
   "source": [
    "t, x1, x2 = two_series(8, 100, dt=1/4, freqs=[1/12], amp=0, \n",
    "                       complex=False)\n",
    "fig, ax = plt.subplots()\n",
    "ax.plot(t, x1, label='series 1')\n",
    "ax.plot(t, x2, label='series 2')\n",
    "ax.set_xlabel('hours')\n",
    "ax.set_ylabel('height (meters)')\n",
    "ax.set_title('Series 2 lags series 1')\n",
    "ax.legend()"
   ]
  },
  {
   "cell_type": "markdown",
   "metadata": {},
   "source": [
    "Each extremum in 2 occurs 2 hours after the similar extremum in 1.\n",
    "\n",
    "Now let's make a longer series including noise and two semidiurnal tidal constituents."
   ]
  },
  {
   "cell_type": "code",
   "execution_count": null,
   "metadata": {},
   "outputs": [],
   "source": [
    "t, x1, x2 = two_series(3, 600, freqs=[1/12.42, 1/12],\n",
    "                       amp=0.5,\n",
    "                       complex=False,\n",
    "                       repeatable=False)"
   ]
  },
  {
   "cell_type": "markdown",
   "metadata": {},
   "source": [
    "We will want to plot the covariance of two zero-mean series, $x$ and $y$, as a function of lag, $u$.  It can be defined as\n",
    "$$ C_{xy}(u) = \\frac{1}{N}\\sum_m x(m)\\, y(m+u) = \\frac{1}{N}\\sum_m x(m-u)\\, y(m) $$\n",
    "where we understand m as being taken over the negative to positive range for which the shifted arrays overlap. $N$ is the number of points in $x$ and $y$.  Notice that this is the estimator with a built-in taper to zero at large lag (small overlap).\n",
    "\n",
    "Looking at the first form above we see that if $u$ is positive, $x$ at a given time, $m$, is being multiplied by $y$ at a later time, $m+u$, so $m$ is the amount by which $y$ lags $x$.\n",
    "\n",
    "The convolution operation, indicated by the asterisk, is similar, but one of the series is reversed.  Numpy `convolve(x, y)` is defined as\n",
    "$$ (x * y)[u] = \\sum_m x(m)\\, y(u - m) $$\n",
    "so to use it to calculate the covariance we need to swap the order of the arguments, reverse the second one, and divide by $N$; in other words, with mixed notation,\n",
    "$$C_{xy}(u) = \\frac{1}{N}(y * x[::-1]).$$\n"
   ]
  },
  {
   "cell_type": "code",
   "execution_count": null,
   "metadata": {},
   "outputs": [],
   "source": [
    "crosscov12 = signal.fftconvolve(x2, x1[::-1], mode='full') / len(t)\n",
    "lags = np.arange(-len(t)+1, len(t))\n",
    "\n",
    "fig, axs = plt.subplots(2)\n",
    "fig.subplots_adjust(hspace=0.3)\n",
    "axs[0].plot(t, x1, label='x1')\n",
    "axs[0].plot(t, x2, label='x2')\n",
    "axs[0].set_xlabel('hours')\n",
    "axs[0].legend(loc='upper center', ncol=2)\n",
    "\n",
    "axs[1].plot(lags, crosscov12)\n",
    "axs[1].set_xlabel('lag of x2 relative to x1');"
   ]
  },
  {
   "cell_type": "markdown",
   "metadata": {},
   "source": [
    "In the top plot above, the blue curve is the first series, and it's peaks occur 3 hours before the orange peaks, so it *leads* in time, as intended.  The peak covariance is at a *positive* *lag* of 3 hours, consistent with x2 *lagging* x1."
   ]
  },
  {
   "cell_type": "markdown",
   "metadata": {},
   "source": [
    "Now switch to the frequency domain.  We will look at the spectrum of each time series individually, and then at the squared coherence and phase to see the relationship between the series as a function of frequency."
   ]
  },
  {
   "cell_type": "markdown",
   "metadata": {},
   "source": [
    "The cross spectrum (cross-spectral density; product per unit frequency) is \n",
    "$$S_{xy}(f) = \\frac{\\Delta t}{N}X^*(f)Y(f) = L_{xy}(f) - iQ{xy}(f)$$\n",
    "where $X(f)$, $Y(f)$ are the Fourier transforms of $x$ and $y$, and the asterisk indicates the complex conjugate.\n",
    "The real and imaginary parts, $L$ and $Q$, are the co-spectrum and quadrature spectrum.\n",
    "The cross spectrum can be expressed more usefully in polar form.\n",
    "$$S_{xy}(f) = A_{xy}(f) \\exp(i\\phi_{xy}(f))$$\n",
    "The squared coherency is then a normalized amplitude, with $\\phi$ the coherence phase.\n",
    "$$\\gamma_{xy}^2(f) = \\frac{A_{xy}^2(f)}{A_{xx}(f)A_{yy}(f)}$$\n",
    "\n",
    "Note the similarity between squared coherency in the frequency domain and squared correlation coefficient in the time domain."
   ]
  },
  {
   "cell_type": "markdown",
   "metadata": {},
   "source": [
    "A smoothing or segment-averaging step is *essential* for the calculation of coherence.  If the cross-spectrum has not been smoothed or ensemble-averaged, the coherence will be unity.  Experiment with the `nsmooth` parameter in the following to see how the various spectral estimates depend on it.  Try odd-numbered values from 1 through 13.  "
   ]
  },
  {
   "cell_type": "code",
   "execution_count": null,
   "metadata": {},
   "outputs": [],
   "source": [
    "nsmooth=7\n",
    "spec = spectra.spectrum(x1, x2, dt=1/24, nfft=None, \n",
    "                        smooth=nsmooth, window='quadratic')\n",
    "print(spec.keys())"
   ]
  },
  {
   "cell_type": "markdown",
   "metadata": {},
   "source": [
    "To calculate the 95% confidence level for squared coherence we may use the formula below, based on (134) in Mark's notes, which is taken from Emery and Thompson (2004).  It is using the fact that `nsmooth` is twice the raw number of degrees of freedom.  If we were using segment-averaging, the number of degrees of freedom would be twice the number of effectively independent segments, taking into account the overlap."
   ]
  },
  {
   "cell_type": "code",
   "execution_count": null,
   "metadata": {},
   "outputs": [],
   "source": [
    "# squared coherence confidence level\n",
    "if nsmooth <= 1:\n",
    "    c95 = np.nan\n",
    "else:    \n",
    "    c95 = 1 - 0.05 ** (1 / (nsmooth - 1))"
   ]
  },
  {
   "cell_type": "code",
   "execution_count": null,
   "metadata": {},
   "outputs": [],
   "source": [
    "fig, axs = plt.subplots(nrows=3, sharex=True)\n",
    "ax = axs[0]\n",
    "ax.loglog(spec.freqs, spec.psd_x, 'b',\n",
    "          spec.freqs, spec.psd_y, 'r')\n",
    "ax.set_ylabel('PSD')\n",
    "ax = axs[1]\n",
    "ax.semilogx(spec.freqs, spec.cohsq)\n",
    "ax.set_ylabel('coh$^2$')\n",
    "ax.set_ylim(0, 1)\n",
    "ax.axhline(c95, color='pink')\n",
    "ax = axs[2]\n",
    "ax.semilogx(spec.freqs, np.rad2deg(spec.phase), 'o')\n",
    "ax.set_ylim(-180, 180)\n",
    "ax.set_ylabel('phase')\n",
    "ax.set_xlim(spec.freqs[nsmooth], spec.freqs[-nsmooth])\n",
    "ax.set_yticks([-90, 0, 90])\n",
    "ax.set_xlabel('CPD')"
   ]
  },
  {
   "cell_type": "markdown",
   "metadata": {},
   "source": [
    "Here we see the strong coherence at the tidal peak, with a phase of 90 degrees, consistent with the 3-hour lag.  Coherence is noisy elsewhere, but we can discern a pattern of phase increasing with frequency.  This is consistent with a constant time lag; the higher the frequency, the greater the phase shift for a given time lag.  To see this phase shift more clearly, use a linear frequency scale."
   ]
  },
  {
   "cell_type": "code",
   "execution_count": null,
   "metadata": {},
   "outputs": [],
   "source": [
    "fig, axs = plt.subplots(nrows=3, sharex=True)\n",
    "ax = axs[0]\n",
    "ax.semilogy(spec.freqs, spec.psd_x, 'b',\n",
    "          spec.freqs, spec.psd_y, 'r')\n",
    "ax.set_ylabel('PSD')\n",
    "ax = axs[1]\n",
    "ax.plot(spec.freqs, spec.cohsq)\n",
    "ax.set_ylabel('coh$^2$')\n",
    "ax.set_ylim(0, 1)\n",
    "ax.axhline(c95, color='pink')\n",
    "ax = axs[2]\n",
    "ax.plot(spec.freqs, np.rad2deg(spec.phase), 'o')\n",
    "ax.set_ylim(-180, 180)\n",
    "ax.set_ylabel('phase')\n",
    "ax.set_xlim(spec.freqs[nsmooth], spec.freqs[-nsmooth])\n",
    "ax.set_yticks([-90, 0, 90])\n",
    "ax.set_xlabel('CPD')"
   ]
  },
  {
   "cell_type": "markdown",
   "metadata": {},
   "source": [
    "Above, we see that the phase shift is linear in the frequency.  This linear relationship results from the time shift between the two series, and it extends over the entire frequency range because the white noise signal that we added to both series spans the entire frequency range.\n",
    "\n",
    "Note that the coherence phase gives the lag of the first series relative to the second, which is the opposite of the sign convention we used for the lagged correlation."
   ]
  },
  {
   "cell_type": "code",
   "execution_count": null,
   "metadata": {},
   "outputs": [],
   "source": []
  }
 ],
 "metadata": {
  "anaconda-cloud": {},
  "kernelspec": {
   "display_name": "Python [conda env:test]",
   "language": "python",
   "name": "conda-env-test-py"
  },
  "language_info": {
   "codemirror_mode": {
    "name": "ipython",
    "version": 3
   },
   "file_extension": ".py",
   "mimetype": "text/x-python",
   "name": "python",
   "nbconvert_exporter": "python",
   "pygments_lexer": "ipython3",
   "version": "3.5.2"
  }
 },
 "nbformat": 4,
 "nbformat_minor": 1
}
