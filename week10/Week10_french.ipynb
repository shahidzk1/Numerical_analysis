{
 "cells": [
  {
   "cell_type": "markdown",
   "id": "9c9e834d",
   "metadata": {},
   "source": [
    "# Objectifs\n",
    "\n",
    "L'objectif de l'exercice d'aujourd'hui est de vous familiariser avec les modèles de régression linéaire multivariables pour la prévision, et avec les concepts du *coefficient $R^2$* et du *ratio F* pour le test de Fisher, ou *F-test*. Lisez attentivement et comprenez les deux exemples au début du notebook, puis implémentez vous-même le modèle de régression et calculez les estimateurs statistiques pertinents en suivant les instructions dans chaque cellule qui suit."
   ]
  },
  {
   "cell_type": "markdown",
   "id": "9ae385d0",
   "metadata": {},
   "source": [
    "# Modèles de prévision basés sur la régression\n",
    "\n",
    "Les modèles de prévision basés sur la régression sont des exemples de modèles explicatifs construits en supposant qu'il existe une relation possible entre la variable à prévoir et un certain nombre de variables indépendantes.\n",
    "\n",
    "Le terme **régression** fait référence à un certain type de modèle statistique qui tente de décrire la relation d'une variable, appelée **variable dépendante** (généralement notée par Y), et un certain nombre d'autres variables X₁, X₂, ..., Xₖ, appelées **variables explicatives** ou **indépendantes**. Nous ne considérerons que le cas d'une erreur additive, représentée par e, où la relation peut être écrite comme suit :\n",
    "\n",
    "$$ Y = f(X₁, ..., Xₖ; b₀, b₁, ..., bₚ) + e $$\n",
    "\n",
    "Ici :\n",
    "- \\(f\\) est une fonction donnée connue sous le nom de **fonction de régression**.\n",
    "- La fonction dépend de paramètres ou de coefficients, notés \\(b₀, b₁, ..., bₚ\\).\n",
    "- Les valeurs des paramètres ne sont pas connues et doivent être estimées.\n",
    "- Le nombre de paramètres de régression \\(r = p + 1\\) n'est pas nécessairement le même que \\(k\\).\n",
    "- Il y a un élément incertain supplémentaire dans la relation, représenté par la variable aléatoire \\(e\\).\n",
    "- La distribution de probabilité de \\(e\\) est généralement spécifiée, souvent supposée être normale (N(0, σ²)), mais avec la variance $(\\sigma²)$ inconnue.\n",
    "\n",
    "Les deux cellules ci-dessous vous montrent un exemple de régression linéaire multivariable pour certaines données bancaires contenues dans le fichier ``Bank.xls``, où vous prédisez les valeurs de la variable dépendante 'DEOM' à partir des trois variables indépendantes 'AAA', 'Tto4', 'D3to4'."
   ]
  },
  {
   "cell_type": "code",
   "execution_count": null,
   "id": "91f3e8e3",
   "metadata": {},
   "outputs": [],
   "source": [
    "from pandas import read_excel\n",
    "from statsmodels.formula.api import ols\n",
    "series = read_excel('Bank.xls',\n",
    "                    sheet_name='Data2', header=0,\n",
    "                     dtype=float)\n",
    "\n",
    "# Lecture des variables de base\n",
    "DEOM = series.DEOM\n",
    "AAA = series.AAA\n",
    "Tto4 = series.Tto4\n",
    "D3to4 = series.D3to4\n",
    "\n",
    "# Modèle(s) de régression\n",
    "formula = 'DEOM ~ AAA + Tto4 + D3to4'\n",
    "\n",
    "# Moindres carrés ordinaires (OLS)\n",
    "results = ols(formula, data=series).fit()\n",
    "print(results.summary())\n",
    "\n",
    "# Ici, le tableau principal est le premier,\n",
    "# où les principales statistiques sont le R-carré (ligne 1)\n",
    "# et la valeur P ; c'est-à-dire, Prob (statistique F)"
   ]
  },
  {
   "cell_type": "code",
   "execution_count": null,
   "id": "4ba7abb2",
   "metadata": {},
   "outputs": [],
   "source": [
    "from statsmodels.tsa.api import Holt\n",
    "import matplotlib.pyplot as plt\n",
    "import numpy as np\n",
    "\n",
    "series = read_excel('Bank.xls',\n",
    "                    sheet_name='Data2', header=0,\n",
    "                      dtype=float)\n",
    "\n",
    "# Lecture des variables de base\n",
    "DEOM = series.DEOM\n",
    "AAA = series.AAA\n",
    "Tto4 = series.Tto4\n",
    "D3to4 = series.D3to4\n",
    "\n",
    "# Prévision pour AAA en utilisant la méthode linéaire de Holt\n",
    "fit1 = Holt(AAA).fit(optimized=True)\n",
    "fcast1 = fit1.forecast(6).rename(\"Additive 2 damped trend\")\n",
    "fit1.fittedvalues.plot(color='red')\n",
    "fcast1.plot(color='red', legend=True)\n",
    "AAA.plot(color='black', legend=True)\n",
    "plt.title('Prévision de AAA avec la méthode linéaire de Holt')\n",
    "plt.show()\n",
    "\n",
    "# Prévision pour Tto4 en utilisant la méthode linéaire de Holt\n",
    "fit2 = Holt(Tto4).fit(optimized=True)\n",
    "fcast2 = fit2.forecast(6).rename(\"Additive 2 damped trend\")\n",
    "fit2.fittedvalues.plot(color='red')\n",
    "fcast2.plot(color='red', legend=True)\n",
    "Tto4.plot(color='black', legend=True)\n",
    "plt.title('Prévision de 3to4 avec la méthode linéaire de Holt')\n",
    "plt.show()\n",
    "\n",
    "# Prévision pour D3to4 en utilisant la méthode linéaire de Holt\n",
    "fit3 = Holt(D3to4).fit(smoothing_level=0.8, smoothing_trend=0.2, optimized=False)\n",
    "#fit3 = Holt(D3to4).fit(optimized=True)\n",
    "fcast3 = fit3.forecast(6).rename(\"Additive 2 damped trend\")\n",
    "fit3.fittedvalues.plot(color='red')\n",
    "fcast3.plot(color='red', legend=True)\n",
    "D3to4.plot(color='black', legend=True)\n",
    "plt.title('Prévision de D3to4 avec la méthode linéaire de Holt')\n",
    "plt.show()\n",
    "\n",
    "# Construction de la prévision basée sur la régression pour la variable principale, DEOM\n",
    "# Modèle(s) de régression\n",
    "formula = 'DEOM ~ AAA + Tto4 + D3to4'\n",
    "\n",
    "# ols génère des statistiques et les paramètres b0, b1, etc., du modèle\n",
    "results = ols(formula, data=series).fit()\n",
    "print(results.summary())\n",
    "b0 = results.params.Intercept\n",
    "b1 = results.params.AAA\n",
    "b2 = results.params.Tto4\n",
    "b3 = results.params.D3to4\n",
    "\n",
    "# Mettre les valeurs ajustées des prévisions de AAA, Tto4, et D3to4 dans des tableaux\n",
    "a1 = np.array(fit1.fittedvalues)\n",
    "a2 = np.array(fit2.fittedvalues)\n",
    "a3 = np.array(fit3.fittedvalues)\n",
    "\n",
    "# Construction de la partie ajustée de la prévision de DEOM\n",
    "F=a1\n",
    "for i in range(53):\n",
    "    F[i] = b0 + a1[i]*b1 + a2[i]*b2 + a3[i]*b3\n",
    "\n",
    "# Mettre les valeurs des prévisions de AAA, Tto4, et D3to4 dans des tableaux\n",
    "v1=np.array(fcast1)\n",
    "v2=np.array(fcast2)\n",
    "v3=np.array(fcast3)\n",
    "\n",
    "# Construction des 6 valeurs de la prévision à l'avance\n",
    "E=v1\n",
    "for i in range(6):\n",
    "    E[i] = b0 + v1[i]*b1 + v2[i]*b2 + v3[i]*b3\n",
    "\n",
    "\n",
    "# Joindre les valeurs ajustées de la prévision et les points à l'avance\n",
    "K=np.append(F, E)\n",
    "\n",
    "# Lecture de la série temporelle DEOM originale pour toutes les 59 périodes\n",
    "DEOMfull0 = read_excel('Bank.xls',\n",
    "                       sheet_name='Data4', header=0,\n",
    "                     dtype=float)\n",
    "\n",
    "\n",
    "DEOMfull = DEOMfull0.DEOMfull\n",
    "\n",
    "# Tracer les graphiques de K et DEOMfull avec des légendes associées.\n",
    "from matplotlib.legend_handler import HandlerLine2D\n",
    "line1, = plt.plot(K, color='red', label='Valeurs de prévision')\n",
    "line2, = plt.plot(DEOMfull, color='black', label='Données originales')\n",
    "plt.legend(handler_map={line1: HandlerLine2D(numpoints=4)})\n",
    "plt.title('Prévision de régression DEOM')\n",
    "plt.show()"
   ]
  },
  {
   "cell_type": "markdown",
   "id": "51ce3ff7",
   "metadata": {},
   "source": [
    "Complétez la cellule ci-dessus pour charger à nouveau la feuille 'Data2' du fichier 'Bank.xls' dans un dataframe pandas appelé 'series_2'.\n",
    "\n",
    "Ensuite, chargez la variable dépendante 'DEOM_2', et les variables indépendantes 'AAA_2', 'Tto4_2', 'D3to4_2'.\n",
    "\n",
    "Enfin, construisez et ajustez un modèle de régression pour prévoir la variable principale 'DEOM' comme vous l'avez vu dans l'exemple précédent, en imprimant le résumé des résultats à l'écran.\n",
    "\n",
    "Le but de cette partie de l'exercice est que vous le fassiez vous-même à partir de zéro."
   ]
  },
  {
   "cell_type": "code",
   "execution_count": null,
   "id": "bef7b007-1937-4a98-bf73-3cd2d86ac26b",
   "metadata": {},
   "outputs": [],
   "source": [
    "series_2 = \n",
    "           \n",
    "DEOM_2 = \n",
    "AAA_2 = \n",
    "Tto4_2 = \n",
    "D3to4_2 = \n",
    "\n",
    "#Modèle(s) de régression\n",
    "\n"
   ]
  },
  {
   "cell_type": "markdown",
   "id": "e532544b",
   "metadata": {},
   "source": [
    "Avec $Y$ représentant les valeurs observées, $\\hat{Y}$ les estimations de $Y$ à partir de la régression (linéaire) et $\\overline{Y}$ la moyenne des valeurs observées, rappelons :\n",
    "\n",
    "**Somme totale des carrés, corrigée par la moyenne (SST)** :\n",
    "$$\n",
    "SST = \\sum_{i=1}^{n} (Y_i-\\overline{Y})^2\n",
    "$$\n",
    "\n",
    "**Somme des carrés de la régression (SSR)** :\n",
    "$$\n",
    "SSR = \\sum_{i=1}^{n} (\\hat{Y}_i-\\overline{Y})^2\n",
    "$$\n",
    "\n",
    "**Somme des carrés résiduels, ou d'erreur (SSE)** :\n",
    "$$\n",
    "SSE = \\sum_{i=1}^{n} (Y_i-\\hat{Y}_i)^2\n",
    "$$"
   ]
  },
  {
   "cell_type": "markdown",
   "id": "e546f2aa",
   "metadata": {},
   "source": [
    "Dans la cellule ci-dessous, calculez les estimations de 'DEOM' à partir de la régression linéaire ($\\overline{Y}$ dans les formules ci-dessus) dans le tableau ``estimates``. Vous pouvez utiliser la méthode ``predict`` de statsmodel (<a href=\"https://www.statsmodels.org/devel/examples/notebooks/generated/predict.html\">documentation</a>) ou les calculer manuellement comme pour F dans l'exemple précédent.\n",
    "\n",
    "Comme exercice, vous pouvez utiliser les deux méthodes puis comparer les résultats pour vous assurer qu'ils correspondent."
   ]
  },
  {
   "cell_type": "code",
   "execution_count": null,
   "id": "f891befb-9027-4c0e-9024-4035362ae61b",
   "metadata": {},
   "outputs": [],
   "source": [
    "estimates = "
   ]
  },
  {
   "cell_type": "markdown",
   "id": "5e3fa70f",
   "metadata": {},
   "source": [
    "En utilisant le tableau ``estimates``, dans la cellule ci-dessous, calculez les SST, SSR, SSE pour les données de la banque que vous avez précédemment chargé."
   ]
  },
  {
   "cell_type": "code",
   "execution_count": null,
   "id": "70937274-5144-4420-b436-10aa01c5e230",
   "metadata": {},
   "outputs": [],
   "source": [
    "SST = \n",
    "SSR = \n",
    "SSE = \n",
    "print(SST, SSR, SSE)"
   ]
  },
  {
   "cell_type": "markdown",
   "id": "33d7a063",
   "metadata": {},
   "source": [
    "Rappelez-vous que le **carré du coefficient de corrélation multiple** est défini comme : \n",
    "\n",
    "$R^2 = \\frac{SSR}{SST} =1 - \\frac{SSE}{SST}$\n",
    "\n",
    "Calculez-le ci-dessous, et comparez-le avec la valeur retournée lorsque vous avez affiché à l'écran les résultats de la régression (vous pouvez également le récupérer en utilisant la méthode <a href=\"https://www.statsmodels.org/dev/generated/statsmodels.regression.linear_model.RegressionResults.rsquared.html\">rsquared</a> dans statsmodel). Vous devriez obtenir le même résultat."
   ]
  },
  {
   "cell_type": "code",
   "execution_count": null,
   "id": "3e4228ee-6446-4938-a6de-ab44493e1e08",
   "metadata": {},
   "outputs": [],
   "source": [
    "R2 = "
   ]
  },
  {
   "cell_type": "markdown",
   "id": "b4f66cfd",
   "metadata": {},
   "source": [
    "Rappelez-vous que les **carrés moyens** sont définis, respectivement, comme suit :\n",
    "\n",
    "**Total (MST)** : $$ MST = \\frac{1}{n-1} \\sum_{i=1}^{n} (Y_i-\\overline{Y})^2 $$\n",
    "\n",
    "**Expliqué (MSR)** : $$ MSR = \\frac{1}{k} \\sum_{i=1}^{n} (\\hat{Y}_i-\\overline{Y})^2 $$\n",
    "\n",
    "**Inexpliqué (MSE)** : $$ MSE =\\frac{1}{n-k-1} \\sum_{i=1}^{n} (Y_i-\\hat{Y}_i)^2 $$\n",
    "\n",
    "où $n$ est le nombre d'observations, et $k$ est le nombre de coefficients dans la régression.\n",
    "\n",
    "Calculez-les dans la cellule ci-dessous."
   ]
  },
  {
   "cell_type": "code",
   "execution_count": null,
   "id": "4b4eacbc-8d0d-4709-9e9d-34ddf9cac844",
   "metadata": {},
   "outputs": [],
   "source": [
    "k = 3\n",
    "n = len(DEOM_2)\n",
    "MST = \n",
    "MSR = \n",
    "MSE = \n",
    "print(MST, MSR, MSE)"
   ]
  },
  {
   "cell_type": "markdown",
   "id": "60c7303c",
   "metadata": {},
   "source": [
    "Maintenant, calculez la valeur du ratio F pour le **test F de signification globale** (F-test of overall significance) :\n",
    "\n",
    "$F = \\frac{MSR}{MSE}$\n",
    "\n",
    "et comparez-la avec la valeur imprimée dans le résumé des résultats de l'ajustement de la régression. Vous devriez obtenir la même valeur."
   ]
  },
  {
   "cell_type": "code",
   "execution_count": null,
   "id": "a309d6a7-35d6-47f4-8a09-5e86ea8607d0",
   "metadata": {},
   "outputs": [],
   "source": [
    "F = \n",
    "print(F)"
   ]
  }
 ],
 "metadata": {
  "kernelspec": {
   "display_name": "Python 3 (ipykernel)",
   "language": "python",
   "name": "python3"
  },
  "language_info": {
   "codemirror_mode": {
    "name": "ipython",
    "version": 3
   },
   "file_extension": ".py",
   "mimetype": "text/x-python",
   "name": "python",
   "nbconvert_exporter": "python",
   "pygments_lexer": "ipython3",
   "version": "3.11.7"
  }
 },
 "nbformat": 4,
 "nbformat_minor": 5
}
