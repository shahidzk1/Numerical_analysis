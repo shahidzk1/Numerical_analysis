{
 "cells": [
  {
   "cell_type": "markdown",
   "id": "e8c5d187",
   "metadata": {
    "jp-MarkdownHeadingCollapsed": true
   },
   "source": [
    "# Goals\n",
    "\n",
    "The goal of today's exercise is to make you familiarize with multi-variable linear regression models for forecasting, amd with the concepts of the *$R^2$ coefficient* and of the *F ratio* for the Fisher test, or *F-test*. Read carefully and understand the two examples at the beginning of the notebook, and then implement yourself the regression model and compute the relevant statistical estimators following the instructions in each cell that follows."
   ]
  },
  {
   "cell_type": "markdown",
   "id": "28e13607",
   "metadata": {},
   "source": [
    "# Forecasting Models Based on Regression\n",
    "\n",
    "Forecasting models based on regression are examples of explanatory models constructed under the assumption that there is a possible relationship between the variable to be forecast and a number of independent variables.\n",
    "\n",
    "The term **regression** refers to a certain type of statistical model that attempts to describe the relationship of one variable, called the **dependent variable** (usually denoted by Y), and a number of other variables X₁, X₂, ..., Xₖ, called the **explanatory** or **independent variables**. We shall only consider the case of an additive error, represented by e, where the relationship can be written as:\n",
    "\n",
    "$$ Y = f(X₁, ..., Xₖ; b₀, b₁, ..., bₚ) + e $$\n",
    "\n",
    "Here:\n",
    "- \\(f\\) is a given function known as the **regression function**.\n",
    "- The function depends on parameters or coefficients, denoted by \\(b₀, b₁, ..., bₚ\\).\n",
    "- The parameters' values are not known and need to be estimated.\n",
    "- The number of regression parameters \\(r = p + 1\\) is not necessarily the same as \\(k\\).\n",
    "- There is an additional uncertain element in the relationship, represented by the random variable \\(e\\).\n",
    "- The probability distribution of \\(e\\) is usually specified, often assumed to be normal (N(0, σ²)), but with the variance $(\\sigma²)$ unknown.\n",
    "\n",
    "The two cells below show you an example of multi-variable linear regression for some bank data contained in the ``Bank.xls`` spreadsheet, where you predict the values of the dependent variable 'DEOM' from the three independent variables 'AAA', 'Tto4', 'D3to4'."
   ]
  },
  {
   "cell_type": "code",
   "execution_count": null,
   "id": "5da4da94",
   "metadata": {},
   "outputs": [],
   "source": [
    "from pandas import read_excel\n",
    "from statsmodels.formula.api import ols\n",
    "series = read_excel('Bank.xls',\n",
    "                    sheet_name='Data2', header=0,\n",
    "                     dtype=float)\n",
    "\n",
    "#reading the basic variables\n",
    "DEOM = series.DEOM\n",
    "AAA = series.AAA\n",
    "Tto4 = series.Tto4\n",
    "D3to4 = series.D3to4\n",
    "\n",
    "#Regression model(s)\n",
    "formula = 'DEOM ~ AAA + Tto4 + D3to4'\n",
    "\n",
    "#Ordinary Least Squares (OLS)\n",
    "results = ols(formula, data=series).fit()\n",
    "print(results.summary())\n",
    "\n",
    "# Here the main table is the first one,\n",
    "# where the main statistics are the R-squared (line 1)\n",
    "# and the P-value; i.e., Prob (F-statistic)"
   ]
  },
  {
   "cell_type": "code",
   "execution_count": null,
   "id": "2442bd9c",
   "metadata": {},
   "outputs": [],
   "source": [
    "from statsmodels.tsa.api import Holt\n",
    "import matplotlib.pyplot as plt\n",
    "import numpy as np\n",
    "\n",
    "series = read_excel('Bank.xls',\n",
    "                    sheet_name='Data2', header=0,\n",
    "                      dtype=float)\n",
    "\n",
    "# Reading the basic variables\n",
    "DEOM = series.DEOM\n",
    "AAA = series.AAA\n",
    "Tto4 = series.Tto4\n",
    "D3to4 = series.D3to4\n",
    "\n",
    "# Forecasting for AAA using Holt's linear method\n",
    "fit1 = Holt(AAA).fit(optimized=True)\n",
    "fcast1 = fit1.forecast(6).rename(\"Additive 2 damped trend\")\n",
    "fit1.fittedvalues.plot(color='red')\n",
    "fcast1.plot(color='red', legend=True)\n",
    "AAA.plot(color='black', legend=True)\n",
    "plt.title('Forecast of AAA with Holt linear method')\n",
    "plt.show()\n",
    "\n",
    "# Forecasting for Tto4 using Holt's linear method\n",
    "fit2 = Holt(Tto4).fit(optimized=True)\n",
    "fcast2 = fit2.forecast(6).rename(\"Additive 2 damped trend\")\n",
    "fit2.fittedvalues.plot(color='red')\n",
    "fcast2.plot(color='red', legend=True)\n",
    "Tto4.plot(color='black', legend=True)\n",
    "plt.title('Forecast of 3to4 with Holt linear method')\n",
    "plt.show()\n",
    "\n",
    "# Forecasting for D3to4 using Holt's linear method\n",
    "fit3 = Holt(D3to4).fit(smoothing_level=0.8, smoothing_trend=0.2, optimized=False)\n",
    "#fit3 = Holt(D3to4).fit(optimized=True)\n",
    "fcast3 = fit3.forecast(6).rename(\"Additive 2 damped trend\")\n",
    "fit3.fittedvalues.plot(color='red')\n",
    "fcast3.plot(color='red', legend=True)\n",
    "D3to4.plot(color='black', legend=True)\n",
    "plt.title('Forecast of D3to4 with Holt linear method')\n",
    "plt.show()\n",
    "\n",
    "# Building the regression based forecast for main variable, DEOM\n",
    "# Regression model(s)\n",
    "formula = 'DEOM ~ AAA + Tto4 + D3to4'\n",
    "\n",
    "# ols generate statistics and the parameters b0, b1, etc., of the model\n",
    "results = ols(formula, data=series).fit()\n",
    "print(results.summary())\n",
    "b0 = results.params.Intercept\n",
    "b1 = results.params.AAA\n",
    "b2 = results.params.Tto4\n",
    "b3 = results.params.D3to4\n",
    "\n",
    "# putting the fitted values of the forecasts of AAA, Tto4, and D3to4 in arrays\n",
    "a1 = np.array(fit1.fittedvalues)\n",
    "a2 = np.array(fit2.fittedvalues)\n",
    "a3 = np.array(fit3.fittedvalues)\n",
    "\n",
    "# Building the fitted part of the forecast of DEOM\n",
    "F=a1\n",
    "for i in range(53):\n",
    "    F[i] = b0 + a1[i]*b1 + a2[i]*b2 + a3[i]*b3\n",
    "\n",
    "# putting the values of the forecasts of AAA, Tto4, and D3to4 in arrays\n",
    "v1=np.array(fcast1)\n",
    "v2=np.array(fcast2)\n",
    "v3=np.array(fcast3)\n",
    "\n",
    "# Building the 6 values of the forecast ahead\n",
    "E=v1\n",
    "for i in range(6):\n",
    "    E[i] = b0 + v1[i]*b1 + v2[i]*b2 + v3[i]*b3\n",
    "\n",
    "\n",
    "# Joining the fitted values of the forecast and the points ahead\n",
    "K=np.append(F, E)\n",
    "\n",
    "# Reading the original DEOM time series for all the 59 periods\n",
    "DEOMfull0 = read_excel('Bank.xls',\n",
    "                       sheet_name='Data4', header=0,\n",
    "                     dtype=float)\n",
    "\n",
    "\n",
    "DEOMfull = DEOMfull0.DEOMfull\n",
    "\n",
    "# Plotting the graphs of K and DEOMfull with legends\n",
    "from matplotlib.legend_handler import HandlerLine2D\n",
    "line1, = plt.plot(K, color='red', label='Forecast values')\n",
    "line2, = plt.plot(DEOMfull, color='black', label='Original data')\n",
    "plt.legend(handler_map={line1: HandlerLine2D(numpoints=4)})\n",
    "plt.title('DEOM regression forecast')\n",
    "plt.show()"
   ]
  },
  {
   "cell_type": "markdown",
   "id": "4d788640-b4a7-47a4-a891-6ab4f2278c51",
   "metadata": {},
   "source": [
    "Complete the cell above to load once again the 'Data2' sheet in the 'Bank.xls' file, into a pandas dataframe called 'series_2'. Then, load the dependent variable 'DEOM_2', and the independent variables 'AAA_2', 'Tto4_2', 'D3to4_2'. Finally, build and fit a regression model to forecast the main vadiable 'DEOM' as you have seen in the previous example, printing the summary of results to screen. The goal of this part of the exercise is that you do it yourself from scratch."
   ]
  },
  {
   "cell_type": "code",
   "execution_count": null,
   "id": "bef7b007-1937-4a98-bf73-3cd2d86ac26b",
   "metadata": {},
   "outputs": [],
   "source": [
    "series_2 = \n",
    "           \n",
    "DEOM_2 = \n",
    "AAA_2 = \n",
    "Tto4_2 = \n",
    "D3to4_2 = \n",
    "\n",
    "#Regression model(s)\n",
    "\n"
   ]
  },
  {
   "cell_type": "markdown",
   "id": "b99d3b05-3d4d-4fc4-a3fc-38e6cb9bfc82",
   "metadata": {},
   "source": [
    "With $Y$ representing the  observed values, $\\hat{Y}$ the estimates of $Y$ from the (linear) regression and $\\overline{Y}$ the mean of the obbserved values, recall:\n",
    "\n",
    "**Total sum of squares, mean-corrected (SST)**:\n",
    "$$\n",
    "SST = \\sum_{i=1}^{n} (Y_i-\\overline{Y})^2\n",
    "$$\n",
    "\n",
    "**Regression sum of squares (SSR)**:\n",
    "$$\n",
    "SSR = \\sum_{i=1}^{n} (\\hat{Y}_i-\\overline{Y})^2\n",
    "$$\n",
    "\n",
    "**Resiudal, or error sum of squares (SSE)**:\n",
    "$$\n",
    "SSE = \\sum_{i=1}^{n} (Y_i-\\hat{Y}_i)^2\n",
    "$$"
   ]
  },
  {
   "cell_type": "markdown",
   "id": "51b668ea-6d9d-475c-bb59-2252c76f1849",
   "metadata": {},
   "source": [
    "In the cell below, compute the estimates of 'DEOM' from the linear regression ($\\overline{Y}$ in the forumlas above) into the ``estimates`` array. You can use the ``predict`` method of statsmodel (<a href=\"https://www.statsmodels.org/devel/examples/notebooks/generated/predict.html\">documentation</a>) of compute them manually as done for F in the previous example. As an exercise, you can use both methods and then compare the results to make sure they match"
   ]
  },
  {
   "cell_type": "code",
   "execution_count": null,
   "id": "f891befb-9027-4c0e-9024-4035362ae61b",
   "metadata": {},
   "outputs": [],
   "source": [
    "estimates = "
   ]
  },
  {
   "cell_type": "markdown",
   "id": "0a85cac0-a47f-4a11-a2d2-47c04db4be02",
   "metadata": {},
   "source": [
    "Using the ``estimates`` array, in the cell below, compute the SST, SSR, SSE for the bank data you have previously loaded."
   ]
  },
  {
   "cell_type": "code",
   "execution_count": null,
   "id": "70937274-5144-4420-b436-10aa01c5e230",
   "metadata": {},
   "outputs": [],
   "source": [
    "SST = \n",
    "SSR = \n",
    "SSE = \n",
    "print(SST, SSR, SSE)"
   ]
  },
  {
   "cell_type": "markdown",
   "id": "15ccb679-f9dd-4cf1-8adb-cad19bb9ebcd",
   "metadata": {},
   "source": [
    "Recall that the **square of the multiple correlation coefficient** is defined as: \n",
    "\n",
    "$R^2 = \\frac{SSR}{SST} =1 - \\frac{SSE}{SST}$\n",
    "\n",
    "Compute it below, and compare it with the value returned when you have printed to screen the results of the regression (you can also retrieve it using the <a href=\"https://www.statsmodels.org/dev/generated/statsmodels.regression.linear_model.RegressionResults.rsquared.html\">rsquared</a> method in statsmodel). You should obtain the same result."
   ]
  },
  {
   "cell_type": "code",
   "execution_count": null,
   "id": "3e4228ee-6446-4938-a6de-ab44493e1e08",
   "metadata": {},
   "outputs": [],
   "source": [
    "R2 = "
   ]
  },
  {
   "cell_type": "markdown",
   "id": "91fcbc8b-a339-49d6-b1a6-188cb6cfd783",
   "metadata": {},
   "source": [
    "Recall that the **mean squares** are defined, respectively, as:\n",
    "\n",
    "**Total (MST)**: $$ SST = \\frac{1}{n-1} \\sum_{i=1}^{n} (Y_i-\\overline{Y})^2 $$\n",
    "\n",
    "**Explained (MSR)**: $$ SSR = \\frac{1}{k} \\sum_{i=1}^{n} (\\hat{Y}_i-\\overline{Y})^2 $$\n",
    "\n",
    "**Unexplained (MSE)**: $$ SSE =\\frac{1}{n-k-1} \\sum_{i=1}^{n} (Y_i-\\hat{Y}_i)^2 $$\n",
    "\n",
    "where $n$ is the number of observations, and $k$ is the number of coefficients in the regression. Compute them in the cell below. You have an example for the MSE computation in the second cell."
   ]
  },
  {
   "cell_type": "code",
   "execution_count": null,
   "id": "4b4eacbc-8d0d-4709-9e9d-34ddf9cac844",
   "metadata": {},
   "outputs": [],
   "source": [
    "k = 3\n",
    "n = len(DEOM_2)\n",
    "MST = \n",
    "MSR = \n",
    "MSE = \n",
    "print(MST, MSR, MSE)"
   ]
  },
  {
   "cell_type": "markdown",
   "id": "36e639e1-9117-4451-af95-e2b769859a70",
   "metadata": {},
   "source": [
    "Now compute the value for the F ratio value for the **F-test of overall significance**:\n",
    "\n",
    "$F = \\frac{MSR}{MSE}$\n",
    "\n",
    "and compare it with the value printed in the summary of the regression fit results. You should obtain the same value."
   ]
  },
  {
   "cell_type": "code",
   "execution_count": null,
   "id": "a309d6a7-35d6-47f4-8a09-5e86ea8607d0",
   "metadata": {},
   "outputs": [],
   "source": [
    "F = \n",
    "print(F)"
   ]
  }
 ],
 "metadata": {
  "kernelspec": {
   "display_name": "Python 3 (ipykernel)",
   "language": "python",
   "name": "python3"
  },
  "language_info": {
   "codemirror_mode": {
    "name": "ipython",
    "version": 3
   },
   "file_extension": ".py",
   "mimetype": "text/x-python",
   "name": "python",
   "nbconvert_exporter": "python",
   "pygments_lexer": "ipython3",
   "version": "3.8.17"
  }
 },
 "nbformat": 4,
 "nbformat_minor": 5
}
