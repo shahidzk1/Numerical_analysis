{
 "cells": [
  {
   "cell_type": "markdown",
   "id": "0ec62dd1",
   "metadata": {},
   "source": [
    "# Time Series\n",
    "A time series model is one that attempts to relate the value of a variable(s) at one time point with values of the variable(s) at previous time points, for example,\n",
    "$$GNP_{t+1} = f (GNP_t ,GNP_{t−1},GNP_{t−2},...)+ \\text{Error}.$$\n",
    "Here, $t$ denotes the time. Thus “simple” time series models, like the one above, are “black-box”.\n",
    "More complex time series models are explanatory in that they try to relate the value of the variable of interest not simply with its previous values but also with previous values of other “explanatory” variables.\n"
   ]
  },
  {
   "cell_type": "code",
   "execution_count": null,
   "id": "b7ade1f7",
   "metadata": {},
   "outputs": [],
   "source": [
    "#Importing required libraries\n",
    "from pandas import read_excel\n",
    "from matplotlib import pyplot as plt\n",
    "import numpy as np\n",
    "import pandas as pd"
   ]
  },
  {
   "cell_type": "markdown",
   "id": "bedced38",
   "metadata": {},
   "source": [
    "Australian monthly electricity production, displays a clear trend and\n",
    "seasonality. The code cell below loads the datasets into a pandas dataframe, and plots it."
   ]
  },
  {
   "cell_type": "code",
   "execution_count": null,
   "id": "a909837e",
   "metadata": {},
   "outputs": [],
   "source": [
    "fig, ax = plt.subplots(figsize=(12,10))\n",
    "series = read_excel('Electricity.xls', sheet_name='Data', header=0, index_col=0, parse_dates=True)\n",
    "series.plot(ax=ax)\n",
    "plt.show()"
   ]
  },
  {
   "cell_type": "markdown",
   "id": "4fb9f558-5543-4616-8cf3-f2a59896c9bc",
   "metadata": {},
   "source": [
    "Here below, seasonal graphs are produced and plotted for the same dataset."
   ]
  },
  {
   "cell_type": "code",
   "execution_count": null,
   "id": "c77206e3",
   "metadata": {},
   "outputs": [],
   "source": [
    "# to show the seasonality trend\n",
    "series = read_excel('Electricity.xls', sheet_name='SeasData', header=0, index_col=0, parse_dates=True)\n",
    "x = np.array([0,1,2,3,4,5,6,7,8,9,10,11])\n",
    "months = ['Jan','Feb','Mar','Apr', 'May', 'Jun', 'Jul', 'Aug', 'Sep', 'Oct', 'Nov', 'Dec']\n",
    "fig, ax = plt.subplots(figsize=(12,10))\n",
    "for column in series.columns:\n",
    "    plt.plot(x, series[column])\n",
    "\n",
    "plt.xticks(x, months)\n",
    "years = [1957,1958, 1960, 1961, 1963, 1968]\n",
    "plt.legend(years)\n",
    "\n",
    "plt.show()"
   ]
  },
  {
   "cell_type": "markdown",
   "id": "392772ac",
   "metadata": {},
   "source": [
    "The following bricks production data in Australia does not show a clear trend"
   ]
  },
  {
   "cell_type": "markdown",
   "id": "9a88cfa2-96e6-48b7-803f-f67bf6249d9f",
   "metadata": {},
   "source": [
    "In the cell below, following the previous example, load the dataset contained in the 'ClayBricks.xls' file with sheet BRICKSQ into a pandas dataframe, and plot it, to visually look for trends and variations. The data corresponds to the Australian clay brick production."
   ]
  },
  {
   "cell_type": "code",
   "execution_count": null,
   "id": "c17d9776",
   "metadata": {},
   "outputs": [],
   "source": [
    "fig, ax = plt.subplots(figsize=(12,10))\n",
    "# add your code here\n",
    "series = read_excel()"
   ]
  },
  {
   "cell_type": "markdown",
   "id": "82ab8e22",
   "metadata": {},
   "source": [
    "Australian clay brick production contains occasional large fluctuations which\n",
    "are difficult to explain, and hence predict, without knowing the underlying causes. In the cell below, obtain and plot the seasonal graphs. "
   ]
  },
  {
   "cell_type": "code",
   "execution_count": null,
   "id": "f1f683fd",
   "metadata": {},
   "outputs": [],
   "source": [
    "# add your code here\n",
    "\n",
    "\n"
   ]
  },
  {
   "cell_type": "markdown",
   "id": "5890f5ce",
   "metadata": {},
   "source": [
    "# Correlation\n",
    "$Cov_{XY} = \\frac{1}{n-1} \\sum_{i=1}^{n} (X_i - \\bar{X})(Y_i - \\bar{Y})$\n",
    "\n",
    "$Cov_{XY}$ represents the covariance between X and Y.\n",
    "n is the number of observations.\n",
    "$X_i$ and $Y_i$ are the individual observations of X and Y, respectively.\n",
    "$\\bar{X}$ and $\\bar{Y}$ are the means of X and Y, respectively.\n",
    "The sum is taken over all n observations."
   ]
  },
  {
   "cell_type": "markdown",
   "id": "35d4b50e",
   "metadata": {},
   "source": [
    "Pearson's correlation coefficient is defined as $r_{XY} = \\frac{Cov_{XY}}{S_X S_Y} = \\frac{\\sum_{i=1}^{n}(X_i - \\bar{X})(Y_i - \\bar{Y})}{\\sqrt{\\sum_{i=1}^{n}(X_i - \\bar{X})^2} \\sqrt{\\sum_{i=1}^{n}(Y_i - \\bar{Y})^2}}$, where n is the number of observations.\n",
    "$X_i$ and $Y_i$ are the individual observations of X and Y, respectively.\n",
    "$\\bar{X}$ and $\\bar{Y}$ are the means of X and Y, respectively.\n",
    "$S_X$ and $S_Y$ are the standard deviations of X and Y, respectively.\n",
    "The sum is taken over all n observations.\n"
   ]
  },
  {
   "cell_type": "markdown",
   "id": "4fe7265b-0c0e-4b35-b8d1-d06f1ebc96bd",
   "metadata": {},
   "source": [
    "Here below, some bank data with four features, labeled as DEOM, AAA, Tto4, D3to4 is loaded, and the variable-by variable correlation plots and coefficent produced."
   ]
  },
  {
   "cell_type": "code",
   "execution_count": null,
   "id": "5e6f6026",
   "metadata": {},
   "outputs": [],
   "source": [
    "# Covariance matrix\n",
    "series = read_excel('Bank.xls', sheet_name='Data3', header=0,\n",
    "                     dtype=float)\n",
    "\n",
    "#Plotting the scatter plots of each variable against the other one\n",
    "pd.plotting.scatter_matrix(series, figsize=(8, 8))\n",
    "plt.show()\n",
    "\n",
    "# Correlation matrix for all the variables, 2 by 2\n",
    "CorrelationMatrix = series.corr()\n",
    "print(CorrelationMatrix)"
   ]
  },
  {
   "cell_type": "markdown",
   "id": "834b1719-f5eb-4d9c-b4f5-c72e937af5f1",
   "metadata": {},
   "source": [
    "Here below, automobile data of 19 Japanese cars is loaded, and the correlation between mileage and price is computed."
   ]
  },
  {
   "cell_type": "code",
   "execution_count": null,
   "id": "03ec7d5b",
   "metadata": {},
   "outputs": [],
   "source": [
    "# Correlation calculation\n",
    "series1 = read_excel('JapaneseCars.xls', sheet_name='Data', header=0,\n",
    "                      dtype=float)\n",
    "correlval=np.corrcoef(series1['Mileage'], series1['Price'])\n",
    "correlval=correlval[1,0]\n",
    "print(correlval)"
   ]
  },
  {
   "cell_type": "markdown",
   "id": "8b32352e-e7cb-471a-a738-9e0c65a3062a",
   "metadata": {},
   "source": [
    "Now, compute manually using numpy the same Pearson's correlation coefficient. To obtain a numpy array from a column of a pandas dataframe, you can for example do `mileage_array = series1['Mileage'].to_numpy()`"
   ]
  },
  {
   "cell_type": "code",
   "execution_count": null,
   "id": "8b055f0d",
   "metadata": {},
   "outputs": [],
   "source": [
    "# add your code here"
   ]
  },
  {
   "cell_type": "markdown",
   "id": "2e6a08ba-22e5-44e7-b884-c13a22e53e2c",
   "metadata": {},
   "source": [
    "Here below, following the example discussed in the slides this morning, compute instead Spearman's correlation coefficient. You can use for insance scipy's or panda's built-in functions for that."
   ]
  },
  {
   "cell_type": "code",
   "execution_count": null,
   "id": "40f1a301-17ff-40c0-b6cd-4ca1eadbc434",
   "metadata": {},
   "outputs": [],
   "source": [
    "# add your code here"
   ]
  },
  {
   "cell_type": "markdown",
   "id": "31c5f370-a5ea-4846-ad4d-56217280178f",
   "metadata": {},
   "source": [
    "Below, seasonal plots and the autocorrelation function (ACF) plot are shown for a cement production dataset."
   ]
  },
  {
   "cell_type": "code",
   "execution_count": null,
   "id": "0fd8a190",
   "metadata": {},
   "outputs": [],
   "source": [
    "from pandas.plotting import autocorrelation_plot\n",
    "from statsmodels.graphics.tsaplots import plot_acf\n",
    "series1 = read_excel('CementProduction.xls', sheet_name='Data', header=0,\n",
    "              index_col=0, parse_dates=True)\n",
    "series2 = read_excel('CementProduction.xls', sheet_name='SeasonalData', header=0,\n",
    "                    index_col=0, parse_dates=True)\n",
    "fig, ax = plt.subplots(figsize=(12,10))\n",
    "series2.plot(title='Seasonal plots building materials time series', ax=ax)\n",
    "plt.show()\n",
    "\n",
    "fig, ax = plt.subplots(figsize=(12,10))\n",
    "plot_acf(series1, title='ACF plot of building materials time series', lags=60, ax=ax)\n",
    "plt.show()\n",
    "\n",
    "fig, ax = plt.subplots(figsize=(12,10))\n",
    "autocorrelation_plot(series1, ax=ax)\n",
    "plt.show()"
   ]
  },
  {
   "cell_type": "markdown",
   "id": "e60959df-be9e-47b9-bb9a-3a03eab9bf54",
   "metadata": {},
   "source": [
    "Now, use statsmodel to compute the ACF for 90 lags. Plot the results and compare to the previous plot: you should obtain the same graph.\n",
    "\n",
    "Documentation on statsamodel: https://www.statsmodels.org/stable/generated/statsmodels.tsa.stattools.acf.html\n"
   ]
  },
  {
   "cell_type": "code",
   "execution_count": null,
   "id": "09eeb90a-9fff-430d-bd84-7a6811bad8df",
   "metadata": {},
   "outputs": [],
   "source": [
    "# add your code here"
   ]
  },
  {
   "cell_type": "markdown",
   "id": "fcacf4fd",
   "metadata": {},
   "source": [
    "# Decomposition\n",
    "The basic approach in analysing the underlying structure of a time series is to decompose it as\n",
    "$$Y_t = f (S_t ,T_t ,E_t ),$$\n",
    "where $Y_t$ is the observed value at time $t$ and the variables are defined as follows:\n",
    "- $S_t$ is the seasonal component at time $t$;\n",
    "- $T_t$ is the trend-cycle component at time $t$;\n",
    "- $E_t$ is an irregular (random) component at time $t$.\n"
   ]
  },
  {
   "cell_type": "markdown",
   "id": "18638e1e",
   "metadata": {},
   "source": [
    "# Additive Decomposition"
   ]
  },
  {
   "cell_type": "code",
   "execution_count": null,
   "id": "35db9d4d",
   "metadata": {},
   "outputs": [],
   "source": [
    "from statsmodels.tsa.seasonal import seasonal_decompose\n",
    "import matplotlib.pyplot as plt\n",
    "\n",
    "series = read_excel('HouseSales.xls', sheet_name='Data', header=0, index_col=0, parse_dates=True)\n",
    "result = seasonal_decompose(series, model='additive')\n",
    "\n",
    "fig, (ax1,ax2,ax3,ax4) = plt.subplots(4,1, figsize=(12,10))\n",
    "\n",
    "# Plot original series\n",
    "ax1.plot(result.observed)\n",
    "ax1.set_title('Original Series')\n",
    "\n",
    "# Plot trend component\n",
    "ax2.plot(result.trend)\n",
    "ax2.set_title('Trend')\n",
    "\n",
    "# Plot seasonal component\n",
    "ax3.plot(result.seasonal)\n",
    "ax3.set_title('Seasonal')\n",
    "\n",
    "# Plot residual component\n",
    "ax4.plot(result.resid)\n",
    "ax4.set_title('Residual')\n",
    "\n",
    "plt.tight_layout()\n",
    "plt.show()\n"
   ]
  },
  {
   "cell_type": "markdown",
   "id": "b362aa93",
   "metadata": {},
   "source": [
    "# Multiplicative Decomposition"
   ]
  },
  {
   "cell_type": "code",
   "execution_count": null,
   "id": "a5eaa93c",
   "metadata": {},
   "outputs": [],
   "source": [
    "from statsmodels.tsa.seasonal import seasonal_decompose\n",
    "import matplotlib.pyplot as plt\n",
    "\n",
    "series = read_excel('HouseSales.xls', sheet_name='Data', header=0, index_col=0, parse_dates=True)\n",
    "result = seasonal_decompose(series, model='multiplicative')\n",
    "\n",
    "fig, (ax1,ax2,ax3,ax4) = plt.subplots(4,1, figsize=(12,10))\n",
    "\n",
    "# Plot original series\n",
    "ax1.plot(result.observed)\n",
    "ax1.set_title('Original Series')\n",
    "\n",
    "# Plot trend component\n",
    "ax2.plot(result.trend)\n",
    "ax2.set_title('Trend')\n",
    "\n",
    "# Plot seasonal component\n",
    "ax3.plot(result.seasonal)\n",
    "ax3.set_title('Seasonal')\n",
    "\n",
    "# Plot residual component\n",
    "ax4.plot(result.resid)\n",
    "ax4.set_title('Residual')\n",
    "\n",
    "plt.tight_layout()\n",
    "plt.show()\n"
   ]
  },
  {
   "cell_type": "code",
   "execution_count": null,
   "id": "93bb1669",
   "metadata": {},
   "outputs": [],
   "source": []
  }
 ],
 "metadata": {
  "kernelspec": {
   "display_name": "Python 3 (ipykernel)",
   "language": "python",
   "name": "python3"
  },
  "language_info": {
   "codemirror_mode": {
    "name": "ipython",
    "version": 3
   },
   "file_extension": ".py",
   "mimetype": "text/x-python",
   "name": "python",
   "nbconvert_exporter": "python",
   "pygments_lexer": "ipython3",
   "version": "3.8.8"
  }
 },
 "nbformat": 4,
 "nbformat_minor": 5
}
