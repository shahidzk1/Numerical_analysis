{
 "cells": [
  {
   "cell_type": "markdown",
   "id": "2de9fafe",
   "metadata": {},
   "source": [
    "# Séries Temporelles\n",
    "Un modèle de série temporelle est un modèle qui tente de relier la valeur d'une ou plusieurs variables à un moment donné avec les valeurs de la ou des mêmes variables à des moments précédents, par exemple,\n",
    "$$GNP_{t+1} = f (GNP_t ,GNP_{t−1},GNP_{t−2},...)+ \\text{Erreur}.$$\n",
    "Ici, $t$ désigne le temps. Ainsi, les modèles de séries temporelles \"simples\", comme celui ci-dessus, sont des \"boîtes noires\".\n",
    "Les modèles de séries temporelles plus complexes sont explicatifs en ce sens qu'ils tentent de relier la valeur de la variable d'intérêt non seulement avec ses valeurs précédentes mais aussi avec les valeurs précédentes d'autres variables \"explicatives\"."
   ]
  },
  {
   "cell_type": "code",
   "execution_count": null,
   "id": "b7ade1f7",
   "metadata": {},
   "outputs": [],
   "source": [
    "#Importing required libraries\n",
    "from pandas import read_excel\n",
    "from matplotlib import pyplot as plt\n",
    "import numpy as np\n",
    "import pandas as pd"
   ]
  },
  {
   "cell_type": "markdown",
   "id": "20ba703a",
   "metadata": {},
   "source": [
    "La production mensuelle d'électricité en Australie montre une tendance claire et une saisonnalité. La cellule de code ci-dessous charge les ensembles de données dans un dataframe pandas et les affiche dans un graphique."
   ]
  },
  {
   "cell_type": "code",
   "execution_count": null,
   "id": "a909837e",
   "metadata": {},
   "outputs": [],
   "source": [
    "fig, ax = plt.subplots(figsize=(12,10))\n",
    "series = read_excel('Electricity.xls', sheet_name='Data', header=0, index_col=0, parse_dates=True)\n",
    "series.plot(ax=ax)\n",
    "plt.show()"
   ]
  },
  {
   "cell_type": "markdown",
   "id": "3a96c76b",
   "metadata": {},
   "source": [
    "Ci-dessous, des graphiques saisonniers sont produits et tracés pour le même ensemble de données."
   ]
  },
  {
   "cell_type": "code",
   "execution_count": null,
   "id": "c77206e3",
   "metadata": {},
   "outputs": [],
   "source": [
    "# pour montrer la tendance saisonière\n",
    "series = read_excel('Electricity.xls', sheet_name='SeasData', header=0, index_col=0, parse_dates=True)\n",
    "x = np.array([0,1,2,3,4,5,6,7,8,9,10,11])\n",
    "months = ['Jan','Feb','Mar','Apr', 'May', 'Jun', 'Jul', 'Aug', 'Sep', 'Oct', 'Nov', 'Dec']\n",
    "fig, ax = plt.subplots(figsize=(12,10))\n",
    "for column in series.columns:\n",
    "    plt.plot(x, series[column])\n",
    "\n",
    "plt.xticks(x, months)\n",
    "years = [1957,1958, 1960, 1961, 1963, 1968]\n",
    "plt.legend(years)\n",
    "\n",
    "plt.show()"
   ]
  },
  {
   "cell_type": "markdown",
   "id": "2e62756e",
   "metadata": {},
   "source": [
    "Les données suivantes sur la production de briques en Australie ne montrent pas de tendance claire."
   ]
  },
  {
   "cell_type": "markdown",
   "id": "05ea82a9",
   "metadata": {},
   "source": [
    "Dans la cellule ci-dessous, en suivant l'exemple précédent, chargez le jeu de données contenu dans le fichier 'ClayBricks.xls' avec la feuille BRICKSQ dans un dataframe pandas, et affichez ses données dans un graphique, pour rechercher visuellement des tendances et des variations. Les données correspondent à la production australienne de briques d'argile."
   ]
  },
  {
   "cell_type": "code",
   "execution_count": null,
   "id": "c17d9776",
   "metadata": {},
   "outputs": [],
   "source": [
    "fig, ax = plt.subplots(figsize=(12,10))\n",
    "# ajoutez votre code ici. \n",
    "series = read_excel()"
   ]
  },
  {
   "cell_type": "markdown",
   "id": "70714867",
   "metadata": {},
   "source": [
    "La production australienne de briques d'argile contient des fluctuations occasionnelles importantes qui sont difficiles à expliquer, et donc à prédire, sans connaître les causes sous-jacentes. Dans la cellule ci-dessous, obtenez et tracez les graphiques saisonniers."
   ]
  },
  {
   "cell_type": "code",
   "execution_count": null,
   "id": "f1f683fd",
   "metadata": {},
   "outputs": [],
   "source": [
    "# ajoutez votre code ici.\n",
    "\n",
    "\n"
   ]
  },
  {
   "cell_type": "markdown",
   "id": "b0a2c006",
   "metadata": {},
   "source": [
    "# Corrélation\n",
    "$Cov_{XY} = \\frac{1}{n-1} \\sum_{i=1}^{n} (X_i - \\bar{X})(Y_i - \\bar{Y})$\n",
    "\n",
    "$Cov_{XY}$ représente la covariance entre X et Y.\n",
    "n est le nombre d'observations.\n",
    "$X_i$ et $Y_i$ sont les observations individuelles de X et Y, respectivement.\n",
    "$\\bar{X}$ et $\\bar{Y}$ sont les moyennes de X et Y, respectivement.\n",
    "La somme est prise sur toutes les n observations."
   ]
  },
  {
   "cell_type": "markdown",
   "id": "dd37cec4",
   "metadata": {},
   "source": [
    "Le coefficient de corrélation de Pearson est défini comme $r_{XY} = \\frac{Cov_{XY}}{S_X S_Y} = \\frac{\\sum_{i=1}^{n}(X_i - \\bar{X})(Y_i - \\bar{Y})}{\\sqrt{\\sum_{i=1}^{n}(X_i - \\bar{X})^2} \\sqrt{\\sum_{i=1}^{n}(Y_i - \\bar{Y})^2}}$, où n est le nombre d'observations.\n",
    "$X_i$ et $Y_i$ sont les observations individuelles de X et Y, respectivement.\n",
    "$\\bar{X}$ et $\\bar{Y}$ sont les moyennes de X et Y, respectivement.\n",
    "$S_X$ et $S_Y$ sont les écarts-types de X et Y, respectivement.\n",
    "La somme est prise sur toutes les n observations."
   ]
  },
  {
   "cell_type": "markdown",
   "id": "8a124c55",
   "metadata": {},
   "source": [
    "Ci-dessous, certaines données bancaires avec quatre caractéristiques, étiquetées comme DEOM, AAA, Tto4, D3to4 sont chargées, et les tracés de corrélation variable par variable et le coefficient sont produits."
   ]
  },
  {
   "cell_type": "code",
   "execution_count": null,
   "id": "3690426b",
   "metadata": {},
   "outputs": [],
   "source": [
    "# Matrice de covariance\n",
    "series = read_excel('Bank.xls', sheet_name='Data3', header=0,\n",
    "                     dtype=float)\n",
    "\n",
    "# Tracer les graphiques de dispersion de chaque variable par rapport à l'autre\n",
    "pd.plotting.scatter_matrix(series, figsize=(8, 8))\n",
    "plt.show()\n",
    "\n",
    "# Matrice de corrélation pour toutes les variables, 2 par 2\n",
    "CorrelationMatrix = series.corr()\n",
    "print(CorrelationMatrix)"
   ]
  },
  {
   "cell_type": "markdown",
   "id": "169d8879",
   "metadata": {},
   "source": [
    "Ci-dessous, les données automobiles de 19 voitures japonaises sont chargées, et la corrélation entre le kilométrage et le prix est calculée."
   ]
  },
  {
   "cell_type": "code",
   "execution_count": null,
   "id": "03ec7d5b",
   "metadata": {},
   "outputs": [],
   "source": [
    "# Calcul de la corrélation\n",
    "series1 = read_excel('JapaneseCars.xls', sheet_name='Data', header=0,\n",
    "                      dtype=float)\n",
    "correlval=np.corrcoef(series1['Mileage'], series1['Price'])\n",
    "correlval=correlval[1,0]\n",
    "print(correlval)"
   ]
  },
  {
   "cell_type": "markdown",
   "id": "d28cad79",
   "metadata": {},
   "source": [
    "Maintenant, calculez manuellement le même coefficient de corrélation de Pearson en utilisant numpy. Pour obtenir un tableau numpy à partir d'une colonne d'un dataframe pandas, vous pouvez par exemple faire `mileage_array = series1['Mileage'].to_numpy()`"
   ]
  },
  {
   "cell_type": "code",
   "execution_count": null,
   "id": "8b055f0d",
   "metadata": {},
   "outputs": [],
   "source": [
    "# ajoutez votre code ici."
   ]
  },
  {
   "cell_type": "markdown",
   "id": "1c8211f2",
   "metadata": {},
   "source": [
    "Ci-dessous, en suivant l'exemple discuté dans les diapositives ce matin, calculez plutôt le coefficient de corrélation de Spearman. Vous pouvez par exemple utiliser les fonctions intégrées de scipy ou de pandas pour cela."
   ]
  },
  {
   "cell_type": "code",
   "execution_count": null,
   "id": "40f1a301-17ff-40c0-b6cd-4ca1eadbc434",
   "metadata": {},
   "outputs": [],
   "source": [
    "# ajoutez votre code ici."
   ]
  },
  {
   "cell_type": "markdown",
   "id": "b8a1d186",
   "metadata": {},
   "source": [
    "Ci-dessous, les tracés saisonniers et le tracé de la fonction d'autocorrélation (ACF) sont montrés pour un ensemble de données de production de ciment."
   ]
  },
  {
   "cell_type": "code",
   "execution_count": null,
   "id": "0fd8a190",
   "metadata": {},
   "outputs": [],
   "source": [
    "from pandas.plotting import autocorrelation_plot\n",
    "from statsmodels.graphics.tsaplots import plot_acf\n",
    "series1 = read_excel('CementProduction.xls', sheet_name='Data', header=0,\n",
    "              index_col=0, parse_dates=True)\n",
    "series2 = read_excel('CementProduction.xls', sheet_name='SeasonalData', header=0,\n",
    "                    index_col=0, parse_dates=True)\n",
    "fig, ax = plt.subplots(figsize=(12,10))\n",
    "series2.plot(title='Seasonal plots building materials time series', ax=ax)\n",
    "plt.show()\n",
    "\n",
    "fig, ax = plt.subplots(figsize=(12,10))\n",
    "plot_acf(series1, title='ACF plot of building materials time series', lags=60, ax=ax)\n",
    "plt.show()\n",
    "\n",
    "fig, ax = plt.subplots(figsize=(12,10))\n",
    "autocorrelation_plot(series1, ax=ax)\n",
    "plt.show()"
   ]
  },
  {
   "cell_type": "markdown",
   "id": "076c9fff",
   "metadata": {},
   "source": [
    "Maintenant, utilisez statsmodel pour calculer l'ACF pour 90 retards (lags). Tracez les résultats et comparez-les au graphique précédent : vous devriez obtenir le même graphique.\n",
    "\n",
    "Documentation sur statsamodel : https://www.statsmodels.org/stable/generated/statsmodels.tsa.stattools.acf.html"
   ]
  },
  {
   "cell_type": "code",
   "execution_count": null,
   "id": "09eeb90a-9fff-430d-bd84-7a6811bad8df",
   "metadata": {},
   "outputs": [],
   "source": [
    "# ajoutez votre code ici."
   ]
  },
  {
   "cell_type": "markdown",
   "id": "5c300b1a",
   "metadata": {},
   "source": [
    "# Décomposition\n",
    "L'approche de base pour analyser la structure sous-jacente d'une série temporelle consiste à la décomposer comme suit :\n",
    "$$Y_t = f (S_t ,T_t ,E_t ),$$\n",
    "où $Y_t$ est la valeur observée au temps $t$ et les variables sont définies comme suit :\n",
    "- $S_t$ est la composante saisonnière au temps $t$ ;\n",
    "- $T_t$ est la composante de tendance-cycle au temps $t$ ;\n",
    "- $E_t$ est une composante irrégulière (aléatoire) au temps $t$."
   ]
  },
  {
   "cell_type": "markdown",
   "id": "2ff31c11",
   "metadata": {},
   "source": [
    "# Décomposition additive"
   ]
  },
  {
   "cell_type": "code",
   "execution_count": null,
   "id": "a99e4858",
   "metadata": {},
   "outputs": [],
   "source": [
    "from statsmodels.tsa.seasonal import seasonal_decompose\n",
    "import matplotlib.pyplot as plt\n",
    "\n",
    "series = read_excel('HouseSales.xls', sheet_name='Data', header=0, index_col=0, parse_dates=True)\n",
    "result = seasonal_decompose(series, model='additive')\n",
    "\n",
    "fig, (ax1,ax2,ax3,ax4) = plt.subplots(4,1, figsize=(12,10))\n",
    "\n",
    "# Tracer la série originale\n",
    "ax1.plot(result.observed)\n",
    "ax1.set_title('Série originale')\n",
    "\n",
    "# Tracer la composante de tendance\n",
    "ax2.plot(result.trend)\n",
    "ax2.set_title('Tendance')\n",
    "\n",
    "# Tracer la composante saisonnière\n",
    "ax3.plot(result.seasonal)\n",
    "ax3.set_title('Saisonnalité')\n",
    "\n",
    "# Tracer la composante résiduelle\n",
    "ax4.plot(result.resid)\n",
    "ax4.set_title('Résidus')\n",
    "\n",
    "plt.tight_layout()\n",
    "plt.show()"
   ]
  },
  {
   "cell_type": "markdown",
   "id": "d677d0b2",
   "metadata": {},
   "source": [
    "# Décomposition multiplicative"
   ]
  },
  {
   "cell_type": "code",
   "execution_count": null,
   "id": "88eb3809",
   "metadata": {},
   "outputs": [],
   "source": [
    "from statsmodels.tsa.seasonal import seasonal_decompose\n",
    "import matplotlib.pyplot as plt\n",
    "\n",
    "series = read_excel('HouseSales.xls', sheet_name='Data', header=0, index_col=0, parse_dates=True)\n",
    "result = seasonal_decompose(series, model='multiplicative')\n",
    "\n",
    "fig, (ax1,ax2,ax3,ax4) = plt.subplots(4,1, figsize=(12,10))\n",
    "\n",
    "# Tracer la série originale\n",
    "ax1.plot(result.observed)\n",
    "ax1.set_title('Série originale')\n",
    "\n",
    "# Tracer la composante de tendance\n",
    "ax2.plot(result.trend)\n",
    "ax2.set_title('Tendance')\n",
    "\n",
    "# Tracer la composante saisonnière\n",
    "ax3.plot(result.seasonal)\n",
    "ax3.set_title('Saisonnalité')\n",
    "\n",
    "# Tracer la composante résiduelle\n",
    "ax4.plot(result.resid)\n",
    "ax4.set_title('Résidus')\n",
    "\n",
    "plt.tight_layout()\n",
    "plt.show()"
   ]
  }
 ],
 "metadata": {
  "kernelspec": {
   "display_name": "Python 3 (ipykernel)",
   "language": "python",
   "name": "python3"
  },
  "language_info": {
   "codemirror_mode": {
    "name": "ipython",
    "version": 3
   },
   "file_extension": ".py",
   "mimetype": "text/x-python",
   "name": "python",
   "nbconvert_exporter": "python",
   "pygments_lexer": "ipython3",
   "version": "3.11.7"
  }
 },
 "nbformat": 4,
 "nbformat_minor": 5
}
