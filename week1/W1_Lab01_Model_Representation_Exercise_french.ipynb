{
 "cells": [
  {
   "cell_type": "markdown",
   "id": "6fc5bc69",
   "metadata": {},
   "source": [
    "Notebook lab basé sur le cours Machine Learning d'Andrew Ng sur Coursera\n",
    "\n",
    "CREDIT: DeepLearning.AI https://www.deeplearning.ai/"
   ]
  },
  {
   "cell_type": "markdown",
   "id": "cc45a529",
   "metadata": {},
   "source": [
    "## Buts\n",
    "Durant ce TP, vous allez :\n",
    "- Apprendre à implémenter le modèle $f_{w,b}$ pour la régression linéaire à une variable."
   ]
  },
  {
   "cell_type": "markdown",
   "id": "a67324bf",
   "metadata": {},
   "source": [
    "## Outils\n",
    "Dans ce TP, vous utiliserez : \n",
    "- NumPy, une bibliothèque populaire pour le calcul scientifique\n",
    "- Matplotlib, une bibliothèque populaire pour créer des graphiques. "
   ]
  },
  {
   "cell_type": "code",
   "execution_count": null,
   "id": "a46d5b3d",
   "metadata": {},
   "outputs": [],
   "source": [
    "import numpy as np\n",
    "import matplotlib.pyplot as plt\n",
    "plt.style.use('./deeplearning.mplstyle')"
   ]
  },
  {
   "cell_type": "markdown",
   "id": "80125b5e",
   "metadata": {},
   "source": [
    "# Énoncé du problème\n",
    "\n",
    "Comme dans le cours, vous allez utiliser l'exemple de la prédiction du prix des logements.\n",
    "\n",
    "Ce laboratoire utilisera un ensemble de données simple avec seulement trois points - une maison de 1000 pieds carrés (sqft) vendue pour 300 000 \\\\$ et une maison de 2000 pieds carrés vendue pour 500 000 \\\\$, et une maison de 1500 pieds carrés (sqft) vendue pour 400 000 \\\\$. Ces trois points constitueront nos *données* (ou *échantillons d'entraînement*).\n",
    "Pour ce TP, les unités de taille sont 1000 sqft et les unités de prix sont des milliers de dollars.\n",
    "\n",
    "\n",
    "| Taille (1000 sqft)     | Prix (millier de dollars) |\n",
    "| -------------------| ------------------------ |\n",
    "| 1.0               | 300                      |\n",
    "| 1.5               | 400                      |\n",
    "| 2.0               | 500                      |\n",
    "\n",
    "Vous souhaitez ajuster un modèle de régression linéaire à ces deux points, afin de pouvoir prédire le prix d'autres maisons - par exemple, une maison de 1 200 sqft."
   ]
  },
  {
   "cell_type": "markdown",
   "id": "d057b81a",
   "metadata": {},
   "source": [
    "\n",
    "Exécutez la cellule de code suivante pour créer vos variables `x_train` et `y_train`. Les données sont stockées dans des tableaux NumPy unidimensionnels."
   ]
  },
  {
   "cell_type": "code",
   "execution_count": null,
   "id": "93315579",
   "metadata": {},
   "outputs": [],
   "source": [
    "# x_train est la variable d'entrée (taille en millier de pieds carrés) \n",
    "# y_train est la cible (prix en milliers de dollars)\n",
    "x_train = np.array([1.0, 1.5, 2.0])\n",
    "y_train = np.array([300.0, 400.0, 500.0])\n",
    "print(f\"x_train = {x_train}\")\n",
    "print(f\"y_train = {y_train}\")"
   ]
  },
  {
   "cell_type": "markdown",
   "id": "0633d88a",
   "metadata": {},
   "source": [
    ">**Note** : Le cours utilisera fréquemment le formatage de sortie python 'f-string' décrit [ici] (https://docs.python.org/3/tutorial/inputoutput.html) lors de l'affichage avec `print()`. Le contenu entre les accolades est évalué lorsque le contenu est affiché."
   ]
  },
  {
   "cell_type": "markdown",
   "id": "b1985f74",
   "metadata": {},
   "source": [
    "### Nombre de données d'entraînement `m`\n",
    "Vous utiliserez `m` pour désigner le nombre de donnée d'entraînement. Les tableaux Numpy ont un paramètre `.shape`. `x_train.shape` renvoie un tuple Python avec une entrée pour chaque dimension. `x_train.shape[0]` est la longueur du tableau et le nombre d'exemples. \n",
    "\n",
    "Veuillez implémenter votre code dans la cellule ci-dessous, où vous définissez `m` en utilisant la fonction `shape` de numpy pour le tableau numpy `x_train`.\n",
    "\n",
    "Ensuite, affichez `m` à l'écran."
   ]
  },
  {
   "cell_type": "code",
   "execution_count": null,
   "id": "0fda6c2b",
   "metadata": {},
   "outputs": [],
   "source": [
    "# m est le nombre d'exemples d'entraînement"
   ]
  },
  {
   "cell_type": "markdown",
   "id": "9e935a71",
   "metadata": {},
   "source": [
    "Il est aussi possible la fonction `len()` pour avoir le même résultat, comme montré ci-dessous : "
   ]
  },
  {
   "cell_type": "code",
   "execution_count": null,
   "id": "4160661c",
   "metadata": {},
   "outputs": [],
   "source": [
    "# m is the number of training examples\n",
    "m = len(x_train)\n",
    "print(f\"Number of training examples is: {m}\")"
   ]
  },
  {
   "cell_type": "markdown",
   "id": "aa1e0926",
   "metadata": {},
   "source": [
    "### Données d'entraînement `x_i, y_i`\n",
    "\n",
    "Vous utiliserez (x$^{(i)}$, y$^{(i)}$) pour désigner la $i^{ème}$ donnée d'entraînement. Comme Python est indexé à partir de zéro, (x$^{(0)}$, y$^{(0)}$) est (1.0, 300.0) et (x$^{(1)}$, y$^{(1)}$) est (1.5, 400.0).\n",
    "\n",
    "Pour accéder à une valeur dans un tableau Numpy, on indexe le tableau avec l'indice voulu. Par exemple, la syntaxe pour accéder à l'emplacement zéro de `x_train` est `x_train[0]`.\n",
    "Exécutez le bloc de code suivant pour obtenir le $i^{ème}$ exemple d'entraînement."
   ]
  },
  {
   "cell_type": "code",
   "execution_count": null,
   "id": "f3518537",
   "metadata": {},
   "outputs": [],
   "source": [
    "for i in range(m): # Changez m par 1 pour afficher (x^1, y^1)   \n",
    " x_i = x_train[i]\n",
    " y_i = y_train[i]\n",
    " print(f\"(x^({i}), y^({i})) = ({x_i}, {y_i})\")"
   ]
  },
  {
   "cell_type": "markdown",
   "id": "6f5e5e90",
   "metadata": {},
   "source": [
    "### Afficher les données"
   ]
  },
  {
   "cell_type": "markdown",
   "id": "5dc99942",
   "metadata": {},
   "source": [
    "Vous pouvez tracer ces deux points en utilisant la fonction `scatter()` de la bibliothèque `matplotlib`, comme illustré dans la cellule ci-dessous.\n",
    "- Les arguments `marker` et `c` affichent les points sous forme de croix rouges (par défaut, ce sont des points bleus).\n",
    "\n",
    "Vous pouvez utiliser d'autres fonctions de la bibliothèque `matplotlib` pour définir le titre et les labels à afficher."
   ]
  },
  {
   "cell_type": "code",
   "execution_count": null,
   "id": "d0b9f710",
   "metadata": {},
   "outputs": [],
   "source": [
    "# Afficheir les données\n",
    "plt.scatter(x_train, y_train, marker='x', c='r')\n",
    "# On définit le titre du graphique.\n",
    "plt.title(\"Prix du logement\")\n",
    "# On définit le label de l'axe des ordonnées\n",
    "plt.ylabel('Prix (en millier de dollars)')\n",
    "# On définit le label de l'axe des abscisses\n",
    "plt.xlabel('Taille (en millier de sqft)')\n",
    "plt.show()"
   ]
  },
  {
   "cell_type": "markdown",
   "id": "cbd70a26",
   "metadata": {},
   "source": [
    "## Fonction de modèle\n",
    "\n",
    "Comme décrit en cours, la fonction de modèle pour la régression linéaire (qui est une fonction qui relie un `x` à un `y`) est représentée par\n",
    "\n",
    "$$f_{w,b}(x^{(i)}) = wx^{(i)} + b \\tag{1}$$\n",
    "\n",
    "La formule ci-dessus représente des droites - différentes valeurs de $w$ et $b$ vous donnent différentes droites sur le graphique.\n",
    "\n",
    "Essayons d'avoir une meilleure intuition à ce sujet à travers les blocs de code ci-dessous. Commençons avec $w = 100$ et $b = 100$.\n",
    "\n",
    "**Note : Vous pouvez revenir à cette cellule pour ajuster les paramètres $w$ et $b$ du modèle**"
   ]
  },
  {
   "cell_type": "code",
   "execution_count": null,
   "id": "f07d25bf",
   "metadata": {},
   "outputs": [],
   "source": [
    "w = 100\n",
    "b = 100\n",
    "print(f\"w: {w}\")\n",
    "print(f\"b: {b}\")"
   ]
  },
  {
   "cell_type": "markdown",
   "id": "30a2f476",
   "metadata": {},
   "source": [
    "Maintenant, calculons la valeur de $f_{w,b}(x^{(i)})$ pour deux points de données. Vous pouvez l'écrire explicitement pour chaque point de données comme suit :\n",
    "\n",
    "pour $x^{(0)}$, `f_wb = w * x[0] + b`\n",
    "\n",
    "pour $x^{(1)}$, `f_wb = w * x[1] + b`\n",
    "\n",
    "Pour un grand nombre de points de données, cela peut devenir fastidieux et répétitif. Donc, à la place, vous pouvez calculer la sortie de la fonction dans une boucle `for` à l'intérieur d'une fonction dédiée `compute_model_output`. Veuillez implémenter la fonction dans la cellule de code ci-dessous.\n",
    "> **Note** : La description de l'argument `(ndarray (m,))` décrit un tableau Numpy n-dimensionnel de forme (m,). `(scalaire)` décrit un argument sans dimensions, juste une magnitude.  \n",
    "> **Note** : `np.zeros(n)` retournera un tableau Numpy unidimensionnel avec $n$ entrées."
   ]
  },
  {
   "cell_type": "code",
   "execution_count": null,
   "id": "130700d9",
   "metadata": {},
   "outputs": [],
   "source": [
    "# Définissez ci-dessous une fonction 'compute_model_output', prenant 'w', 'x' et 'b' comme arguments"
   ]
  },
  {
   "cell_type": "markdown",
   "id": "ba702e4b",
   "metadata": {},
   "source": [
    "Maintenant, appelons la fonction `compute_model_output` et faisons un graphique de la sortie, en commençant par le graphique d'exemple que vous avez obtenu précédemment."
   ]
  },
  {
   "cell_type": "code",
   "execution_count": null,
   "id": "f466e9a6",
   "metadata": {},
   "outputs": [],
   "source": [
    "# Tracer ici les données d'entraînement (voir exemple précédent), ainsi que votre modèle en utilisant la fonction 'compute_model_output'."
   ]
  },
  {
   "cell_type": "markdown",
   "id": "2a33a93f",
   "metadata": {},
   "source": [
    "Comme vous pouvez le voir, définir $w = 100$ et $b = 100$ ne donne *pas* une droite qui correspond à nos données.\n",
    "\n",
    "### Défi\n",
    "Essayez d'expérimenter avec différentes valeurs de $w$ et $b$. Quelles devraient être les valeurs pour une ligne qui correspond à nos données ?\n",
    "\n",
    "#### Conseil :\n",
    "Vous pouvez cliquer sur les \"Indications\" vertes ci-dessous pour révéler quelques indications pour choisir b et w."
   ]
  },
  {
   "cell_type": "markdown",
   "id": "e129c8cb",
   "metadata": {},
   "source": [
    "<details>\n",
    "<summary>\n",
    "    <font size='3', color='darkgreen'><b>Hints</b></font>\n",
    "</summary>\n",
    "    <p>\n",
    "    <ul>\n",
    "        <li>Try $w = 200$ and $b = 100$ </li>\n",
    "    </ul>\n",
    "    </p>"
   ]
  },
  {
   "cell_type": "markdown",
   "id": "5a72801e",
   "metadata": {},
   "source": [
    "### Prédiction\n",
    "Maintenant que nous avons un modèle, nous pouvons l'utiliser pour faire notre prédiction d'origine. Prédisons le prix d'une maison avec 1200 pieds carrés. Puisque les unités de $x$ sont en milliers de pieds carrés, $x$ est égal à 1.2. Utilisez la cellule de code ci-dessous et affichez votre prédiction : \n"
   ]
  },
  {
   "cell_type": "code",
   "execution_count": null,
   "id": "13395cf6",
   "metadata": {},
   "outputs": [],
   "source": [
    "# Calculez votre prédiction pour x = 1.2"
   ]
  }
 ],
 "metadata": {
  "kernelspec": {
   "display_name": "Python 3 (ipykernel)",
   "language": "python",
   "name": "python3"
  },
  "language_info": {
   "codemirror_mode": {
    "name": "ipython",
    "version": 3
   },
   "file_extension": ".py",
   "mimetype": "text/x-python",
   "name": "python",
   "nbconvert_exporter": "python",
   "pygments_lexer": "ipython3",
   "version": "3.11.7"
  },
  "toc-autonumbering": false
 },
 "nbformat": 4,
 "nbformat_minor": 5
}
