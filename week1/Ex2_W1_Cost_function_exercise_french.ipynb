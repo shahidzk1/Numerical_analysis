{
 "cells": [
  {
   "cell_type": "markdown",
   "id": "541910b5",
   "metadata": {},
   "source": [
    "Notebook lab basé sur le cours Machine Learning d'Andrew Ng sur Coursera\n",
    "\n",
    "CREDIT: DeepLearning.AI https://www.deeplearning.ai/"
   ]
  },
  {
   "cell_type": "markdown",
   "id": "82bc559f",
   "metadata": {},
   "source": [
    "## Buts\n",
    "Dans ce TP, vous allez : \n",
    "- Implémenter et explorer la \"fonction de coût\" (cost function) pour la régression linéaire à une variable.\n"
   ]
  },
  {
   "cell_type": "markdown",
   "id": "6e5c4071",
   "metadata": {},
   "source": [
    "## Outils\n",
    "Dans ce TP, vous allez utiliser : \n",
    "- NumPy, une bibliothèque populaire pour le calcul scientifique\n",
    "- Matplotlib, une bibliothèque populaire pour créer des graphiques. "
   ]
  },
  {
   "cell_type": "code",
   "execution_count": null,
   "id": "8c634b29",
   "metadata": {},
   "outputs": [],
   "source": [
    "import numpy as np\n",
    "%matplotlib notebook\n",
    "import matplotlib.pyplot as plt\n",
    "from lab_utils_uni import plt_intuition, plt_stationary, plt_update_onclick, soup_bowl\n",
    "plt.style.use('./deeplearning.mplstyle')"
   ]
  },
  {
   "cell_type": "markdown",
   "id": "43c70ae4",
   "metadata": {},
   "source": [
    "## Énoncé du problème\n",
    "\n",
    "Vous souhaitez un modèle capable de prédire les prix des logements en fonction de la taille de la maison.\n",
    "Utilisons les mêmes deux points de données que précédemment - une maison de 1000 pieds carrés vendue 300 000 \\\\$ et une maison de 2000 pieds carrés vendue 500 000 \\\\$.\n",
    "\n",
    "| taille (millier de sqft)     | Prix (milliers de dollars) |\n",
    "| -------------------| ------------------------ |\n",
    "| 1                 | 300                      |\n",
    "|1.5                | 400\n",
    "| 2                  | 500                      |\n"
   ]
  },
  {
   "cell_type": "code",
   "execution_count": null,
   "id": "f6ff4a8d",
   "metadata": {},
   "outputs": [],
   "source": [
    "x_train = np.array([1.0, 1.5, 2.0])           # (taille en millieur de sqft)\n",
    "y_train = np.array([300.0, 400.0, 500.0])           # (prix en millier de dollars)"
   ]
  },
  {
   "cell_type": "markdown",
   "id": "a68cddda",
   "metadata": {},
   "source": [
    "## Calculer le coût\n",
    "Le terme \"coût\" dans notre contexte peut porter à confusion parce que nos données consiste en partie au coût du logement. \n",
    "\n",
    "Le terme \"coût\" dans notre contexte peut prêter à confusion car les données sont en partie le coût des logements.\n",
    "\n",
    "Ici, le coût est une mesure de la précision avec laquelle notre modèle prédit le prix cible de la maison. Le terme \"prix\" est utilisé pour les données sur les logements.\n",
    "\n",
    "L'équation pour le cût avec une variable est : \n",
    "  $$J(w,b) = \\frac{1}{2m} \\sum\\limits_{i = 0}^{m-1} (f_{w,b}(x^{(i)}) - y^{(i)})^2 \\tag{1}$$ \n",
    " \n",
    "où \n",
    "  $$f_{w,b}(x^{(i)}) = wx^{(i)} + b \\tag{2}$$\n",
    "  \n",
    "- $f_{w,b}(x^{(i)})$  est notre prédiction. \n",
    "- $(f_{w,b}(x^{(i)}) - y^{(i)})^2$ est la différence entre la valeur cible et la prédiction, le tout est mis au carré. \n",
    "- Ces différences sont ensuite sommées sur toutes les données de taille $m$ et divisées par `2m` pour avoir le coût $J(w,b)$.  \n",
    "> Note : en cours, les indices de sommation vont de 1 à $m$, alors que dans le code, les indices vont de 0 à $m-1$.\n"
   ]
  },
  {
   "cell_type": "markdown",
   "id": "5256c652",
   "metadata": {},
   "source": [
    "Le code ci-dessous calcule le coût en itérant sur les données.\n",
    "\n",
    "A chaque boucle :\n",
    "- `f_wb`, une prédiction est calculée\n",
    "- la différence entre la cible et la prédiction est calculée et mise au carré.\n",
    "- le résultat est ajouté au coût total."
   ]
  },
  {
   "cell_type": "code",
   "execution_count": null,
   "id": "307a6cbc",
   "metadata": {},
   "outputs": [],
   "source": [
    "def compute_cost(x, y, w, b): \n",
    "    \"\"\"\n",
    "    Calcule la fonction de coût pour la régression linéaire.\n",
    "    \n",
    "    Args:\n",
    "      x (ndarray (m,)): Data, m données\n",
    "      y (ndarray (m,)): Données cibles\n",
    "      w,b (scalar)    : Paramètres du modèle\n",
    "    \n",
    "    Returns\n",
    "        total_cost (float): Le coût total relaif à w,b lors de la régression linéaire pour les données x et y.\n",
    "    \"\"\"\n",
    "    \n",
    "    \n",
    "    \n",
    "    \n",
    "    "
   ]
  },
  {
   "cell_type": "markdown",
   "id": "3eedabfd",
   "metadata": {},
   "source": [
    "## Intuition sur la fonction de coût"
   ]
  },
  {
   "cell_type": "markdown",
   "id": "f53f2f52",
   "metadata": {},
   "source": [
    "Votre objectif est de trouver un modèle $f_{w,b}(x) = wx + b$, avec des paramètres $w, b$, qui prédira précisément les valeurs des maisons données une entrée $x$. Le coût est une mesure de la précision du modèle sur les données d'entraînement.\n",
    "\n",
    "L'équation de coût (1) ci-dessus montre que si $w$ et $b$ peuvent être sélectionnés de telle sorte que les prédictions $f_{w,b}(x)$ correspondent aux données cibles $y$, le terme $(f_{w,b}(x^{(i)}) - y^{(i)})^2 $ sera nul et le coût minimisé. \n",
    "\n",
    "Dans le TP précédent, vous avez déterminé que $b=100$ fournissait une solution optimale, donc fixons $b$ à 100 et concentrons-nous sur $w$.\n",
    "\n",
    "\n",
    "Ci-dessous, utilisez le curseur pour sélectionner la valeur de $w$ qui minimise le coût. Cela peut prendre quelques secondes pour que le graphique soit mis à jour."
   ]
  },
  {
   "cell_type": "code",
   "execution_count": 5,
   "id": "a21cdaf6",
   "metadata": {},
   "outputs": [],
   "source": [
    "plt_intuition(x_train,y_train)"
   ]
  },
  {
   "cell_type": "markdown",
   "id": "4e634d17",
   "metadata": {},
   "source": [
    "Le graphique contient quelques points qui valent la peine d'être mentionnés.\n",
    "- Le coût est minimisé lorsque $w = 200$, ce qui correspond aux résultats du TP précédent.\n",
    "- Parce que la différence entre la cible et la prédiction est mise au carré dans l'équation de coût, le coût augmente rapidement lorsque $w$ est soit trop grand soit trop petit.\n",
    "- Utiliser les valeurs de `w` et `b` sélectionnées en minimisant le coût conduit à une droite qui correspond parfaitement aux données."
   ]
  },
  {
   "cell_type": "markdown",
   "id": "27d41813",
   "metadata": {},
   "source": [
    "## Visualisation de la fonction de coût - 3D\n",
    "\n",
    "Vous pouvez voir comment le coût varie par rapport à *à la fois* `w` et `b` en traçant en 3D ou en utilisant un tracé de contour.\n",
    "Il convient de noter que certains des graphiques dans ce cours peuvent devenir assez complexes. Les routines pour créer les graphiques sont fournies et bien qu'il puisse être instructif de lire le code pour se familiariser avec les méthodes, cela n'est pas nécessaire pour réussir le cours. Les routines se trouvent dans `lab_utils_uni.py` dans le répertoire local"
   ]
  },
  {
   "cell_type": "markdown",
   "id": "91ffedbc",
   "metadata": {},
   "source": [
    "### Ensemble de données plus volumineux\n",
    "Il est instructif d'examiner un scénario avec quelques points de données supplémentaires. Cet ensemble de données comprend des points de données qui ne se trouvent pas sur la même ligne. Qu'est-ce que cela signifie pour l'équation de coût ? Pouvons-nous trouver $w$ et $b$ qui nous donneront un coût de 0 ?"
   ]
  },
  {
   "cell_type": "code",
   "execution_count": null,
   "id": "9e29e540",
   "metadata": {},
   "outputs": [],
   "source": [
    "x_train = np.array([1.0, 1.7, 2.0, 2.5, 3.0, 3.2])\n",
    "y_train = np.array([250, 300, 480,  430,   630, 730,])"
   ]
  },
  {
   "cell_type": "markdown",
   "id": "b6e284f3",
   "metadata": {},
   "source": [
    "Dans le \"contour plot\", cliquez sur un point pour sélectionner `w` et `b` afin d'obtenir le coût le plus bas. Utilisez les contours pour guider vos sélections. Notez que cela peut prendre quelques secondes pour mettre à jour le graphique."
   ]
  },
  {
   "cell_type": "code",
   "execution_count": null,
   "id": "0d62127c",
   "metadata": {},
   "outputs": [],
   "source": [
    "plt.close('all') \n",
    "fig, ax, dyn_items = plt_stationary(x_train, y_train)\n",
    "updater = plt_update_onclick(fig, ax, x_train, y_train, dyn_items)"
   ]
  },
  {
   "cell_type": "code",
   "execution_count": null,
   "id": "0a21c5ae",
   "metadata": {},
   "outputs": [],
   "source": []
  },
  {
   "cell_type": "markdown",
   "id": "49cdbe28",
   "metadata": {},
   "source": [
    "Ci-dessus, notez les lignes en pointillés dans le graphique de gauche. Elles représentent la contribution au coût total par chaque exemple de votre ensemble d'entraînement. Dans ce cas, des valeurs d'environ $w=209$ et $b=2.4$ fournissent un faible coût. Notez que, parce que nos données d'entraînement ne sont pas sur une droite parfaite, le coût minimum n'est pas zéro."
   ]
  },
  {
   "cell_type": "markdown",
   "id": "d6f7cd6e",
   "metadata": {},
   "source": [
    "### Surface de coût convexe\n",
    "Le fait que la fonction de coût mette au carré la perte garantit que la 'surface d'erreur' est convexe comme un bol de soupe. Elle aura toujours un minimum qui peut être atteint en suivant le gradient dans toutes les dimensions. Dans le graphique précédent, parce que les dimensions $w$ et $b$ évoluent différemment, cela n'est pas facile à reconnaître. Le graphique suivant, où $w$ et $b$ sont symétriques, a été présenté en cours :"
   ]
  },
  {
   "cell_type": "code",
   "execution_count": null,
   "id": "c4c601ea",
   "metadata": {},
   "outputs": [],
   "source": [
    "soup_bowl()"
   ]
  },
  {
   "cell_type": "markdown",
   "id": "36d66b20",
   "metadata": {},
   "source": [
    "# Félicitations !\n",
    "Vous avez (on espère) appris les points suivants :\n",
    "- L'équation de coût fournit une mesure de la précision avec laquelle vos prédictions correspondent à vos données d'entraînement.\n",
    "- Minimiser le coût peut fournir des valeurs optimales de $w$, $b$."
   ]
  }
 ],
 "metadata": {
  "kernelspec": {
   "display_name": "Python 3 (ipykernel)",
   "language": "python",
   "name": "python3"
  },
  "language_info": {
   "codemirror_mode": {
    "name": "ipython",
    "version": 3
   },
   "file_extension": ".py",
   "mimetype": "text/x-python",
   "name": "python",
   "nbconvert_exporter": "python",
   "pygments_lexer": "ipython3",
   "version": "3.11.7"
  },
  "toc-autonumbering": false
 },
 "nbformat": 4,
 "nbformat_minor": 5
}
