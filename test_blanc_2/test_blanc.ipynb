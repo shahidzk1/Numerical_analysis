{
 "cells": [
  {
   "cell_type": "code",
   "execution_count": null,
   "id": "045913bf-00aa-4a98-94b4-a7c78d25adf2",
   "metadata": {},
   "outputs": [],
   "source": [
    "# Import necessary libraries\n",
    "import numpy as np\n",
    "import pandas as pd\n",
    "import matplotlib.pyplot as plt\n",
    "from statsmodels.tsa.statespace.sarimax import SARIMAX\n",
    "\n",
    "# Set the random seed for reproducibility\n",
    "np.random.seed(42)\n",
    "\n",
    "# Define parameters for the damped harmonic oscillator\n",
    "A = 1.0    # Amplitude\n",
    "b = 0.05   # Damping coefficient\n",
    "omega = 2 * np.pi / 5  # Angular frequency\n",
    "T = 100    # Total time\n",
    "dt = 0.1   # Time step\n",
    "\n",
    "# Generate time points\n",
    "t = np.arange(0, T, dt)\n",
    "\n",
    "# Generate the damped oscillation data\n",
    "x = A * np.exp(-b * t) * np.cos(omega * t)\n",
    "\n",
    "# Add some noise to the data\n",
    "noise = np.random.normal(scale=0.1, size=len(t))\n",
    "x_noisy = x + noise\n",
    "\n",
    "# Create a DataFrame\n",
    "df = pd.DataFrame({'Time': t, 'Position': x_noisy})\n",
    "\n",
    "df.to_excel('damped_oscillator.xlsx','series')"
   ]
  },
  {
   "cell_type": "code",
   "execution_count": null,
   "id": "b379389c-fa6b-4693-86a1-dac4b66fdc4f",
   "metadata": {},
   "outputs": [],
   "source": [
    "series = pd.read_excel('damped_oscillator.xlsx',\n",
    "                    sheet_name='series', header=0, index_col=0,\n",
    "                     dtype=float)\n",
    "print(series)"
   ]
  },
  {
   "cell_type": "code",
   "execution_count": null,
   "id": "df52f9f7-0fa7-4247-b34e-87d92dd42b56",
   "metadata": {},
   "outputs": [],
   "source": [
    "# Plot the data\n",
    "plt.figure(figsize=(10, 6))\n",
    "plt.plot(series['Time'], series['Position'], label='Damped Oscillator with Noise')\n",
    "plt.xlabel('Time')\n",
    "plt.ylabel('Position')\n",
    "plt.title('Damped Harmonic Oscillator')\n",
    "plt.legend()\n",
    "plt.show()"
   ]
  },
  {
   "cell_type": "code",
   "execution_count": null,
   "id": "20315d75-c519-4405-b194-c3c20750007e",
   "metadata": {},
   "outputs": [],
   "source": [
    "# Define the SARIMAX model\n",
    "#order = (2, 0, 2)  # (p, d, q) parameters for ARIMA\n",
    "#seasonal_order = (1, 1, 1, 10)  # (P, D, Q, S) parameters for seasonal component\n",
    "\n",
    "# find optimal parameters\n",
    "import itertools\n",
    "\n",
    "# Define the p, q parameters to take any value between 1 and 2, and the d parameter to take any value between 0 and 1\n",
    "p = d = q = range(1, 3)\n",
    "d = range(0, 2)\n",
    "\n",
    "# Generate all different combinations of p, d and q triplets\n",
    "pdq = list(itertools.product(p, d, q))\n",
    "\n",
    "# Generate all different combinations of seasonal p, d and q triplets (i.e., P, D, Q)\n",
    "seasonal_pdq = [(x[0], x[1], x[2], 10) for x in list(itertools.product(p, d, q))]"
   ]
  },
  {
   "cell_type": "code",
   "execution_count": null,
   "id": "c1643392-1a7d-4255-b0ec-9d20125a0a02",
   "metadata": {},
   "outputs": [],
   "source": [
    "# Fit the model\n",
    "#model = SARIMAX(df['Position'], order=pdq, seasonal_order=seasonal_pdq)\n",
    "#results = model.fit()\n",
    "\n",
    "import warnings\n",
    "warnings.filterwarnings(\"ignore\") # specify to ignore warning messages\n",
    "\n",
    "# Indentification of best model from different combinations of pdq and seasonal_pdq\n",
    "best_score, best_param, best_paramSeasonal = float(\"inf\"), None, None\n",
    "for param in pdq:\n",
    "    for param_seasonal in seasonal_pdq:\n",
    "        try:\n",
    "            mod = SARIMAX(series['Position'], order=param, seasonal_order=param_seasonal, enforce_invertibility=False)\n",
    "            results = mod.fit(disp=False)\n",
    "            if results.aic < best_score:\n",
    "                best_score, best_param, best_paramSeasonal = results.aic, param, param_seasonal\n",
    "            print('ARIMA{}x{} - AIC:{}'.format(param, param_seasonal, results.aic))\n",
    "        except:\n",
    "            continue # if fit fails, just continue to the next parameters combionation"
   ]
  },
  {
   "cell_type": "code",
   "execution_count": null,
   "id": "fee50bef-70bd-4371-afcf-6a12a78da391",
   "metadata": {},
   "outputs": [],
   "source": [
    "# Print the best set of parameters according to the AIC.\n",
    "print('The best model is ARIMA{}x{} - AIC:{}'.format(best_param, best_paramSeasonal, best_score))"
   ]
  },
  {
   "cell_type": "code",
   "execution_count": null,
   "id": "ecb56036-4df2-4d44-8ff2-f96dda89ce48",
   "metadata": {},
   "outputs": [],
   "source": [
    "# Print the summary of the model\n",
    "#order = (2, 0, 2)  # (p, d, q) parameters for ARIMA\n",
    "#seasonal_order = (1, 1, 1, 10)  # (P, D, Q, S) parameters for seasonal component\n",
    "mod = SARIMAX(series['Position'], order=best_param, seasonal_order=best_paramSeasonal, enforce_invertibility=False)\n",
    "results=mod.fit()\n",
    "print(results.summary())"
   ]
  },
  {
   "cell_type": "code",
   "execution_count": null,
   "id": "13168acf-3b89-42b8-b69d-359e13b19973",
   "metadata": {},
   "outputs": [],
   "source": [
    "# Forecast future values for 50 steps\n",
    "n_forecast = 50  # Number of steps to forecast\n",
    "forecast = results.get_forecast(steps=n_forecast)\n",
    "forecast_index = np.arange(T, T + n_forecast * dt, dt)\n",
    "\n",
    "# Extract forecasted values and confidence intervals\n",
    "forecast_values = forecast.predicted_mean\n",
    "conf_int = forecast.conf_int()\n"
   ]
  },
  {
   "cell_type": "code",
   "execution_count": null,
   "id": "58dbf54a-ff02-46f7-8e76-261f0a7ac356",
   "metadata": {},
   "outputs": [],
   "source": [
    "# Plot the results and the forecast\n",
    "plt.figure(figsize=(10, 6))\n",
    "predictions = results.predict()\n",
    "plt.plot(series['Time'], series['Position'], label='Observed', color='blue')\n",
    "plt.plot(series['Time'], predictions, label='Model', color='green')\n",
    "plt.plot(forecast_index, forecast_values, label='Forecast', color='red')\n",
    "\n",
    "plt.fill_between(forecast_index, conf_int.iloc[:, 0], conf_int.iloc[:, 1], color='pink', alpha=0.3)\n",
    "plt.xlabel('Time')\n",
    "plt.ylabel('Position')\n",
    "plt.title('Damped Harmonic Oscillator with SARIMAX Forecast')\n",
    "plt.legend()\n",
    "plt.show()"
   ]
  },
  {
   "cell_type": "code",
   "execution_count": null,
   "id": "4d35ed95-6e53-42d8-a18c-91ac8f2829cf",
   "metadata": {},
   "outputs": [],
   "source": [
    "# Calculate SST, SSR, SSE, and R2 \n",
    "observed = series['Position']\n",
    "mean_observed = np.mean(observed)\n",
    "sst = np.sum((observed - mean_observed) ** 2)\n",
    "sse = np.sum((observed - predictions) ** 2)\n",
    "ssr = sst - sse\n",
    "r2 = 1 - (sse / sst)\n",
    "\n",
    "# Print the results\n",
    "print(f'SST: {sst:.2f}')\n",
    "print(f'SSE: {sse:.2f}')\n",
    "print(f'SSR: {ssr:.2f}')\n",
    "print(f'R²: {r2:.2f}')\n"
   ]
  },
  {
   "cell_type": "code",
   "execution_count": null,
   "id": "6cc184de-bf11-4987-a6fe-8656e73a1bec",
   "metadata": {},
   "outputs": [],
   "source": [
    "# Calculate degrees of freedom \n",
    "n = len(observed)  # Number of observations\n",
    "p = len(results.params)  # Number of predictors in SARIMAX\n",
    "\n",
    "# Calculate MST, MSE, MSR, and F-score  for Holt's linear method\n",
    "mst = sst / (n - 1)\n",
    "mse = sse / (n - p - 1)\n",
    "msr = ssr / p\n",
    "f_score = msr / mse\n",
    "\n",
    "# Print the results\n",
    "print(f'MST: {mst:.2f}')\n",
    "print(f'MSE: {mse:.2f}')\n",
    "print(f'MSR: {msr:.2f}')\n",
    "print(f'F-score: {f_score:.2f}')"
   ]
  },
  {
   "cell_type": "code",
   "execution_count": null,
   "id": "c51b9820-30a2-439d-9d05-400e6b379eb6",
   "metadata": {},
   "outputs": [],
   "source": [
    "# Now let's try with Holt's linear model\n",
    "# Fit the Holt's linear trend model to same data\n",
    "from statsmodels.tsa.api import Holt\n",
    "\n",
    "model = Holt(df['Position'])\n",
    "holt_results = model.fit(optimized=True)\n",
    "\n",
    "# Make in-sample predictions\n",
    "holt_predictions = holt_results.fittedvalues\n",
    "\n",
    "# Make forecast for future points\n",
    "forecast_steps = 50\n",
    "holt_forecast = holt_results.forecast(steps=forecast_steps)\n",
    "forecast_index = np.arange(T, T + n_forecast * dt, dt)\n",
    "\n",
    "predictions = results.predict()\n",
    "plt.figure(figsize=(10, 6))\n",
    "plt.plot(df['Time'], df['Position'], label='Observed', color='blue')\n",
    "plt.plot(df['Time'], holt_predictions, label='Predicted', color='red')\n",
    "plt.plot(forecast_index, holt_forecast, label='Forecasted', color='pink')\n",
    "plt.xlabel('Time')\n",
    "plt.ylabel('Position')\n",
    "plt.title('Damped Harmonic Oscillator: Observed vs Predicted')\n",
    "plt.legend()\n",
    "plt.show()"
   ]
  },
  {
   "cell_type": "code",
   "execution_count": null,
   "id": "5f98d6d1-b4a0-4e6d-8c28-081513220035",
   "metadata": {},
   "outputs": [],
   "source": []
  }
 ],
 "metadata": {
  "kernelspec": {
   "display_name": "Python 3 (ipykernel)",
   "language": "python",
   "name": "python3"
  },
  "language_info": {
   "codemirror_mode": {
    "name": "ipython",
    "version": 3
   },
   "file_extension": ".py",
   "mimetype": "text/x-python",
   "name": "python",
   "nbconvert_exporter": "python",
   "pygments_lexer": "ipython3",
   "version": "3.8.17"
  }
 },
 "nbformat": 4,
 "nbformat_minor": 5
}
