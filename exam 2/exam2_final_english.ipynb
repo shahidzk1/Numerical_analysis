{
 "cells": [
  {
   "cell_type": "markdown",
   "id": "6bba9642",
   "metadata": {},
   "source": [
    "## Gravitational Wave Signal from Merging Black Holes\n",
    "\n",
    "This time series represents the gravitational wave signal amplitude generated from a pair of black holes spiraling towards each other and eventually merging. As the black holes spiral inwards, both the amplitude and the frequency of the gravitational wave signal increase over time. The following describes the mathematical formulation used to simulate this signal:\n",
    "\n",
    "### Mathematical Description\n",
    "\n",
    "1. **Time Variable**:\n",
    "   - $( T = 100 $) : Total time.\n",
    "   - $( \\Delta t = 0.1 $) : Time step.\n",
    "   - $( t = \\{0, 0.1, 0.2, \\ldots, 99.9\\} $) : Discrete time points.\n",
    "\n",
    "2. **Amplitude of the Gravitational Wave Signal**:\n",
    "   - $( A_0 = 0.01 $) : Initial amplitude.\n",
    "   - $( \\alpha = 0.0001 $) : Amplitude growth rate.\n",
    "   - $( A(t) = A_0 + \\alpha \\cdot t $) : Amplitude increases linearly over time.\n",
    "\n",
    "3. **Frequency of the Gravitational Wave Signal**:\n",
    "   - $( f_0 = 0.05 $) : Initial frequency.\n",
    "   - $( \\beta = 0.0005 $) : Frequency increase rate.\n",
    "   - $( f(t) = f_0 + \\beta \\cdot t $) : Frequency increases linearly over time.\n",
    "\n",
    "4. **Gravitational Wave Signal**:\n",
    "   - The signal is modeled as a sinusoidal wave with time-varying amplitude and frequency.\n",
    "   - $( S(t) = A(t) \\cdot \\sin(2 \\pi f(t) t) $).\n",
    "   - Noise $( N(t) $) is added to simulate real-world observations.\n",
    "   - $( N(t) $) is normally distributed with a standard deviation of 0.015.\n",
    "\n",
    "5. **Noisy Signal**:\n",
    "   - $( S_{\\text{noisy}}(t) = S(t) + N(t) $).\n",
    "\n",
    "### Implementation\n",
    "\n",
    "The following Python code generates the synthetic gravitational wave signal, adds noise, and saves the resulting data to an Excel file.\n"
   ]
  },
  {
   "cell_type": "code",
   "execution_count": 1,
   "id": "d4c133ad",
   "metadata": {},
   "outputs": [
    {
     "name": "stderr",
     "output_type": "stream",
     "text": [
      "<ipython-input-1-398f003c971f>:28: UserWarning: Pandas requires version '1.4.3' or newer of 'xlsxwriter' (version '1.3.8' currently installed).\n",
      "  df.to_excel('gravitational_wave.xlsx','data')\n"
     ]
    }
   ],
   "source": [
    "# Import necessary libraries\n",
    "import numpy as np\n",
    "import pandas as pd\n",
    "\n",
    "# Define parameters for the synthetic gravitational wave signal\n",
    "initial_amplitude = 0.01  # Initial amplitude of the wave\n",
    "amplitude_growth_rate = 0.0001  # Rate at which amplitude increases\n",
    "initial_frequency = 0.05  # Initial frequency of the wave\n",
    "frequency_increase_rate = 0.0005  # Rate at which frequency increases\n",
    "T = 100  # Total time\n",
    "dt = 0.1  # Time step\n",
    "\n",
    "# Generate time points\n",
    "t = np.arange(0, T, dt)\n",
    "\n",
    "# Generate the gravitational wave signal with increasing amplitude and frequency\n",
    "amplitude = initial_amplitude + amplitude_growth_rate * t\n",
    "frequency = initial_frequency + frequency_increase_rate * t\n",
    "signal = amplitude * np.sin(2 * np.pi * frequency * t)\n",
    "\n",
    "# Add some noise to the signal\n",
    "noise = np.random.normal(scale=0.015, size=len(t))\n",
    "noisy_signal = signal + noise\n",
    "\n",
    "# Create a DataFrame\n",
    "df = pd.DataFrame({'Time': t, 'Signal': noisy_signal})\n",
    "\n",
    "df.to_excel('gravitational_wave.xlsx','data')"
   ]
  },
  {
   "cell_type": "markdown",
   "id": "f37fb077",
   "metadata": {},
   "source": [
    "### Data importation and visualization\n",
    "Import the excel file and visulaize the data with different techniques"
   ]
  },
  {
   "cell_type": "code",
   "execution_count": 14,
   "id": "0e9c1b9e",
   "metadata": {},
   "outputs": [],
   "source": [
    "# Exercise 1 \n",
    "# Upload the excel file damped_oscillator.xlsx using pandas to a dataframe object\n"
   ]
  },
  {
   "cell_type": "code",
   "execution_count": 15,
   "id": "1635a9e7",
   "metadata": {},
   "outputs": [],
   "source": [
    "# Exercise 2 \n",
    "# Plot time (x-axis) versus position (y-ais) using matplotlib pyplot. Add appropriate labels\n",
    "\n",
    "\n",
    "# Plot the synthetic gravitational wave data (Signal) vs time\n"
   ]
  },
  {
   "cell_type": "code",
   "execution_count": 17,
   "id": "66c6676c",
   "metadata": {},
   "outputs": [],
   "source": [
    "# Exercise 3 \n",
    "# Plot the autocorrelation function time series of the position data (50 lags for example)\n",
    "# Plot the partial autocorrelation function time series of the position data (50 lags for example)\n"
   ]
  },
  {
   "cell_type": "markdown",
   "id": "62fc9f35",
   "metadata": {},
   "source": [
    "### Modeling and forecasting\n",
    "After basic drawing and visulazation of the data try to analyze the position data and do some forcasting using the SARIMAX model"
   ]
  },
  {
   "cell_type": "code",
   "execution_count": 5,
   "id": "47a7b62c",
   "metadata": {},
   "outputs": [],
   "source": [
    "# Exercise 4\n",
    "# import itertools, and use it to generate different combinations of parameters for the SARIMAX model\n",
    "\n",
    "\n",
    "# The p and q parameters are given and equal to 2; as itertools \n",
    "\n",
    "\n",
    "# Define the d parameter to be an integer between 0 and 1\n",
    "\n",
    "\n",
    "# Generate all different combinations of p, d and q triplets\n",
    "\n",
    "\n",
    "# Generate all different combinations of seasonal p, d and q triplets (i.e., P, D, Q)\n",
    "# Use a value of 10 for the seasonality S\n"
   ]
  },
  {
   "cell_type": "code",
   "execution_count": 20,
   "id": "51d45357",
   "metadata": {},
   "outputs": [],
   "source": [
    "# Exercise 5 \n",
    "# Define a SARIMAX model and identify the optimal parameters according to the AIC criterion\n",
    "import warnings\n",
    "import traceback\n",
    "\n",
    "warnings.filterwarnings(\"ignore\")  # specify to ignore warning messages\n",
    "\n",
    "# Identification of best model from different combinations of pdq and seasonal_pdq\n"
   ]
  },
  {
   "cell_type": "code",
   "execution_count": 21,
   "id": "cce551f3",
   "metadata": {},
   "outputs": [],
   "source": [
    "# Exercise 6 \n",
    "# Print the best set of parameters according to the AIC\n"
   ]
  },
  {
   "cell_type": "code",
   "execution_count": 22,
   "id": "c67a1a67",
   "metadata": {},
   "outputs": [],
   "source": [
    "# Exercise 7 \n",
    "# Fit the model once again using the optimal parameters, and print a summary of the results\n"
   ]
  },
  {
   "cell_type": "code",
   "execution_count": 9,
   "id": "d62d0fb8",
   "metadata": {},
   "outputs": [],
   "source": [
    "# Exercise 8 \n",
    "# Forecast future values for 20 steps\n",
    "\n",
    "\n",
    "\n",
    "# Extract forecasted values and confidence intervals\n",
    "\n"
   ]
  },
  {
   "cell_type": "code",
   "execution_count": 23,
   "id": "7271e90f",
   "metadata": {},
   "outputs": [],
   "source": [
    "# Exercise 9 \n",
    "# Plot the results, the predicted trend according to the model, and the forecast\n",
    "\n",
    "# Plot the original data i.e. time (x-axis) vs position\n",
    "\n",
    "# Plot the time (x-axis) vs predictions \n",
    "\n",
    "# Plot the forecast index (x-axis) vs forecast values\n",
    "\n",
    "\n"
   ]
  },
  {
   "cell_type": "markdown",
   "id": "da497c37",
   "metadata": {},
   "source": [
    "### Error analysis\n",
    "Analyse the errors of the predictions"
   ]
  },
  {
   "cell_type": "code",
   "execution_count": 24,
   "id": "ce2213f2",
   "metadata": {},
   "outputs": [],
   "source": [
    "# # Exercise 10 \n",
    "# Compute the:\n",
    "#   Sum of Squares Total (SST),\n",
    "#   Summ of Squares Error (SSE),\n",
    "#   Sum of Squares Regression (SSR),\n",
    "# and then the coefficient of determination (R²) \n",
    "\n",
    "\n",
    "# Print the results\n",
    "\n"
   ]
  },
  {
   "cell_type": "code",
   "execution_count": 25,
   "id": "a6be57b9",
   "metadata": {},
   "outputs": [],
   "source": [
    "# # Exercise 11 \n",
    "# Define the degrees of freedom (Number of observations and Number of predictors in SARIMAX)\n",
    "\n",
    "\n",
    "# Calculate MST, MSE, MSR, and F-score\n",
    "\n",
    "\n",
    "# Print the results\n"
   ]
  },
  {
   "cell_type": "code",
   "execution_count": 26,
   "id": "074237cf",
   "metadata": {},
   "outputs": [],
   "source": [
    "# Exercise 12 \n",
    "# use the mean squared error to assess the precision of the forecast by computing the 95% probability confidence interval \n",
    "# plot the original data, the prediction and the lower and upper confidence intervals\n",
    "\n"
   ]
  },
  {
   "cell_type": "code",
   "execution_count": null,
   "id": "e667fd83",
   "metadata": {},
   "outputs": [],
   "source": []
  }
 ],
 "metadata": {
  "kernelspec": {
   "display_name": "Python 3 (ipykernel)",
   "language": "python",
   "name": "python3"
  },
  "language_info": {
   "codemirror_mode": {
    "name": "ipython",
    "version": 3
   },
   "file_extension": ".py",
   "mimetype": "text/x-python",
   "name": "python",
   "nbconvert_exporter": "python",
   "pygments_lexer": "ipython3",
   "version": "3.8.8"
  }
 },
 "nbformat": 4,
 "nbformat_minor": 5
}
