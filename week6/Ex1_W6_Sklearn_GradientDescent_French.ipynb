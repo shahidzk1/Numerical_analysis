{
 "cells": [
  {
   "cell_type": "markdown",
   "metadata": {},
   "source": [
    "# Régression linéaire avec Scikit-Learn"
   ]
  },
  {
   "cell_type": "markdown",
   "metadata": {},
   "source": [
    "Il existe une librairie open-source, appelée [scikit-learn](https://scikit-learn.org/stable/index.html), qui nous permet de travailler plus efficacement dans le domaine du machine learning.\n"
   ]
  },
  {
   "cell_type": "markdown",
   "metadata": {},
   "source": [
    "## Buts\n",
    "\n",
    "Dans ce TP, vous allez : \n",
    "- Utiliser scikit-learn pour implémenter une régression linéaire en utilisant la descente de gradient.\n"
   ]
  },
  {
   "cell_type": "markdown",
   "metadata": {},
   "source": [
    "## Outils\n",
    "- scikit-learn\n",
    "- matplotlib\n",
    "- numpy"
   ]
  },
  {
   "cell_type": "code",
   "execution_count": null,
   "metadata": {},
   "outputs": [],
   "source": [
    "import numpy as np\n",
    "import matplotlib.pyplot as plt\n",
    "from sklearn.linear_model import SGDRegressor\n",
    "from sklearn.preprocessing import StandardScaler\n",
    "from lab_utils_multi import  load_house_data\n",
    "from lab_utils_common import dlc\n",
    "np.set_printoptions(precision=2)\n",
    "plt.style.use('./deeplearning.mplstyle')"
   ]
  },
  {
   "cell_type": "markdown",
   "id": "3a887f9a",
   "metadata": {},
   "source": [
    "# Descente de Gradient\n",
    "Scikit-learn dispose d'un modèle de régression par descente de gradient [sklearn.linear_model.SGDRegressor](https://scikit-learn.org/stable/modules/generated/sklearn.linear_model.SGDRegressor.html#examples-using-sklearn-linear-model-sgdregressor). Comme votre précédente implémentation de la descente de gradient, ce modèle fonctionne mieux avec des entrées normalisées. [sklearn.preprocessing.StandardScaler](https://scikit-learn.org/stable/modules/generated/sklearn.preprocessing.StandardScaler.html#sklearn.preprocessing.StandardScaler) effectuera une normalisation de score z comme dans un TP précédent. Ici, il est appelé 'score standard'."
   ]
  },
  {
   "cell_type": "markdown",
   "metadata": {},
   "source": [
    "### Charger les données"
   ]
  },
  {
   "cell_type": "code",
   "execution_count": null,
   "metadata": {},
   "outputs": [],
   "source": [
    "X_train, y_train = load_house_data()\n",
    "X_features = ['size(sqft)','bedrooms','floors','age']"
   ]
  },
  {
   "cell_type": "markdown",
   "metadata": {},
   "source": [
    "### Normaliser les données d’entraînement."
   ]
  },
  {
   "cell_type": "code",
   "execution_count": null,
   "id": "25d8fed2",
   "metadata": {},
   "outputs": [],
   "source": [
    "scaler = StandardScaler()\n",
    "X_norm = scaler.fit_transform(X_train)\n",
    "print(f\"Plage de pic à pic par colonne dans les X initiaux :{np.ptp(X_train,axis=0)}\")   \n",
    "print(f\"Plage de pic à pic par colonne dans les X normalisés:{np.ptp(X_norm,axis=0)}\")"
   ]
  },
  {
   "cell_type": "markdown",
   "metadata": {},
   "source": [
    "### Créer et fit le modèle de régression"
   ]
  },
  {
   "cell_type": "code",
   "execution_count": null,
   "metadata": {},
   "outputs": [],
   "source": [
    "sgdr = SGDRegressor(max_iter=1000)\n",
    "sgdr.fit(X_norm, y_train)\n",
    "print(sgdr)\n",
    "print(f\"Nombre d'itérations complétées: {sgdr.n_iter_}, Nombres de mise-à-jour des poids: {sgdr.t_}\")"
   ]
  },
  {
   "cell_type": "markdown",
   "id": "e154ee8c",
   "metadata": {},
   "source": [
    "### Voir les paramètres\n",
    "Notez que les paramètres sont associés aux données d'entrée *normalisées*. Les paramètres d'ajustement sont très proches de ceux trouvés dans le TP précédent avec ces données."
   ]
  },
  {
   "cell_type": "code",
   "execution_count": null,
   "metadata": {},
   "outputs": [],
   "source": [
    "b_norm = sgdr.intercept_\n",
    "w_norm = sgdr.coef_\n",
    "print(f\"Paramètres du modèle:                   w: {w_norm}, b:{b_norm}\")\n",
    "print( \"Paramètre du modèle du TP précédent: w: [110.56 -21.27 -32.71 -37.97], b: 363.16\")"
   ]
  },
  {
   "cell_type": "markdown",
   "metadata": {},
   "source": [
    "### Faire les prédictions\n",
    "Prédisez les cibles sur les données d'entraînement. Utilisez la fonction `predict` ainsi que $w$ et $b$.\n"
   ]
  },
  {
   "cell_type": "code",
   "execution_count": null,
   "metadata": {},
   "outputs": [],
   "source": [
    "# faire une prédiction avec sgdr.predict()\n",
    "y_pred_sgd = sgdr.predict(X_norm)\n",
    "\n",
    "# faire une prédiction avec w,b.\n",
    "y_pred = np.dot(X_norm, w_norm) + b_norm  \n",
    "print(f\"Prédiction avec np.dot() et sgdr.predict : {(y_pred == y_pred_sgd).all()}\")\n",
    "\n",
    "print(f\"Prédiction sur les données d'entrainement:\\n{y_pred[:4]}\" )\n",
    "print(f\"Valeurs cibles \\n{y_train[:4]}\")"
   ]
  },
  {
   "cell_type": "markdown",
   "metadata": {},
   "source": [
    "### Graphiques des résultats\n",
    "Il ne nous reste plus qu'à faire des graphiques des prédictions VS les valeurs cibles."
   ]
  },
  {
   "cell_type": "code",
   "execution_count": null,
   "metadata": {},
   "outputs": [],
   "source": [
    "fig,ax=plt.subplots(1,4,figsize=(12,3),sharey=True)\n",
    "for i in range(len(ax)):\n",
    "    ax[i].scatter(X_train[:,i],y_train, label = 'target')\n",
    "    ax[i].set_xlabel(X_features[i])\n",
    "    ax[i].scatter(X_train[:,i],y_pred,color=dlc[\"dlorange\"], label = 'predict')\n",
    "ax[0].set_ylabel(\"Price\"); ax[0].legend();\n",
    "fig.suptitle(\"target versus prediction using z-score normalized model\")\n",
    "plt.show()"
   ]
  },
  {
   "cell_type": "markdown",
   "metadata": {},
   "source": [
    "## Félicitations\n",
    "Dans ce TP, vous avez : \n",
    "- utilisé un framework open-source de machine learning, scikit-learn\n",
    "- Implémenté une régression linéaire par descente de gradient ainsi que normalisation en utilisant ce framework. \n"
   ]
  }
 ],
 "metadata": {
  "kernelspec": {
   "display_name": "Python 3",
   "language": "python",
   "name": "python3"
  },
  "language_info": {
   "codemirror_mode": {
    "name": "ipython",
    "version": 3
   },
   "file_extension": ".py",
   "mimetype": "text/x-python",
   "name": "python",
   "nbconvert_exporter": "python",
   "pygments_lexer": "ipython3",
   "version": "3.11.7"
  }
 },
 "nbformat": 4,
 "nbformat_minor": 5
}
