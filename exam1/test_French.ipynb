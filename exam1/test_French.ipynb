{
 "cells": [
  {
   "cell_type": "markdown",
   "id": "e915e1c6",
   "metadata": {},
   "source": [
    "# Portée d'un projectile\n",
    "Supposons que nous ayons un projectile avec lequel nous voulons atteindre une certaine distance. La formule de la portée d'un projectile est $R = \\frac{{v_0}^2 \\sin(2\\theta_0)}{g}$ et elle montre que la portée maximale dépend du carré de la vitesse initiale et de l'angle de lancement. Supposons que nous ne connaissons pas la physique et que nous voulons utiliser la régression pour prédire la portée maximale. Dans notre cas, si l'angle est entre 50 et 60 degrés, nous observons une portée maximale et nous obtenons une cible maximale 'y'. De même, si la vitesse est entre 90 et 100 unités arbitraires, nous observons une portée maximale.\n",
    "\n",
    "La cellule de code en dessous crée le set de données que vous devez utiliser pour entraîner puis tester un modèle de régression logistique régularisé. \n",
    "\n",
    "Ne vous inquiétez pas si vous ne comprenez pas certaines parties du code, il utilise des outils plus avancés tels que *pandas* et *scikit-learn*. Exécutez simplement la cellule pour obtenir les tableaux numpy \"x_train, x_test, y_train, y_test\"."
   ]
  },
  {
   "cell_type": "code",
   "execution_count": 3,
   "id": "fe86b474-3454-4fdb-ba83-417a99df6097",
   "metadata": {},
   "outputs": [],
   "source": [
    "import numpy as np\n",
    "from sklearn.model_selection import train_test_split\n",
    "\n",
    "# Définit un générateur de nombres aléatoires\n",
    "np.random.seed(0)\n",
    "\n",
    "# Nombre d'expériences\n",
    "n = 15000\n",
    "\n",
    "# Génère des angles aléatoires entre 10 et 90 degrés.\n",
    "angles = np.random.uniform(low=10, high=90, size=n)\n",
    "\n",
    "# Génère des vitesses aléatoires entre 10 et 100 unités.\n",
    "velocities = np.random.uniform(low=10, high=100, size=n)\n",
    "\n",
    "# Combine les angles et les vitesses dans un seul tableau 2D (ce sera nos caractéristiques d'entrée)\n",
    "X = np.column_stack((angles, velocities))\n",
    "\n",
    "\n",
    "# Génère une cible variable\n",
    "# Pour simplifier, un coup est réussi lorsque l'angle est compris entre 50 et 60 degrés et que la vitesse est comprise entre 90 et 100 unités.\n",
    "y = [1 if (50 <= angle <= 60) and (90 <= velocity <= 100) else 0 for angle, velocity in zip(angles, velocities)]\n",
    "\n",
    "# Conversion à un tableau numpy\n",
    "y = np.array(y)\n",
    "\n",
    "# Équilibre l'échantillon de données : on conserve un nombre égal de résultats réussis et manqués.\n",
    "import pandas as pd\n",
    "df = pd.DataFrame(X, columns=['angle', 'velocity'])\n",
    "df['y'] = y\n",
    "df_sig = df[df['y']==1]\n",
    "df_back = df[df['y']==0].sample(n=df_sig.shape[0])\n",
    "df_balanced = pd.concat([df_sig, df_back])\n",
    "\n",
    "# Convertit les colonnes 'angle' et 'velocity' en un tableau numpy 2D pour X\n",
    "X = df_balanced[['angle', 'velocity']].values\n",
    "\n",
    "# Convertit la colonne 'y' en un tableau numpy 1D pour y\n",
    "y = df_balanced['y'].values\n",
    "\n",
    "# Le code ci-dessous prépare les sets de données d'entraînement et de test pour vous (nous introduirons le package sklearn lors de la session de l'après-midi)\n",
    "from sklearn.model_selection import train_test_split\n",
    "x_train, x_test, y_train, y_test = train_test_split(X, y, test_size=0.01, random_state=324, stratify=y)"
   ]
  },
  {
   "cell_type": "markdown",
   "id": "44839042-f6fc-41b5-bd2b-888799b9ee49",
   "metadata": {},
   "source": [
    "Dans la cellule ci-dessous, définissez la fonction de coût pour un modèle de régression logistique régularisé que vous utiliserez pour prédire si un projectile donné atteint la portée ou non."
   ]
  },
  {
   "cell_type": "code",
   "execution_count": 4,
   "id": "5eebf067-0139-4951-b671-a8bb903316fb",
   "metadata": {},
   "outputs": [
    {
     "ename": "SyntaxError",
     "evalue": "invalid syntax (2560151951.py, line 3)",
     "output_type": "error",
     "traceback": [
      "\u001b[0;36m  Cell \u001b[0;32mIn[4], line 3\u001b[0;36m\u001b[0m\n\u001b[0;31m    g =\u001b[0m\n\u001b[0m        ^\u001b[0m\n\u001b[0;31mSyntaxError\u001b[0m\u001b[0;31m:\u001b[0m invalid syntax\n"
     ]
    }
   ],
   "source": [
    "def sigmoid(z):\n",
    "    z = np.clip( z, -500, 500 )           # protège contre les valeurs extrêmes\n",
    "    g = \n",
    "\n",
    "    return g\n",
    "\n",
    "def compute_cost_logistic(X, y, w, b, lambda_ = 1):\n",
    "    \"\"\"\n",
    "    Args:\n",
    "      X (ndarray (m,n): Données, m exemples avec n caractéristiques\n",
    "      y (ndarray (m,)): valeurs cibles\n",
    "      w (ndarray (n,)): paramètres du modèle  \n",
    "      b (scalaire)    : paramètre du modèle\n",
    "      lambda_ (scalaire): Contrôle la quantité de régularisation\n",
    "    Returns:\n",
    "      total_cost (scalaire):  coût\n",
    "    \"\"\"\n",
    "\n",
    "\n"
   ]
  },
  {
   "cell_type": "markdown",
   "id": "ecc6a686-8036-4ae7-8d6f-20e8d4fee831",
   "metadata": {},
   "source": [
    "Dans la cellule ci-dessous, définissez une fonction qui calcule le gradient pour la régression logistique."
   ]
  },
  {
   "cell_type": "code",
   "execution_count": 5,
   "id": "8e667f41-1b8a-49af-b73a-ea4c557ca253",
   "metadata": {},
   "outputs": [],
   "source": [
    "def compute_gradient_logistic(X, y, w, b): \n",
    "    \"\"\"\n",
    "    Args:\n",
    "      X (ndarray (m,n): Données, m exemples avec n caractéristiques\n",
    "      y (ndarray (m,)): valeurs cibles\n",
    "      w (ndarray (n,)): paramètres du modèle  \n",
    "      b (scalaire)    : paramètre du modèle\n",
    "    Returns\n",
    "      dj_dw (ndarray (n,)): Le gradient du coût par rapport aux paramètres w. \n",
    "      dj_db (scalaire)      : Le gradient du coût par rapport au paramètre b. \n",
    "    \"\"\"\n",
    "\n",
    "        \n"
   ]
  },
  {
   "cell_type": "markdown",
   "id": "be1fb672",
   "metadata": {},
   "source": [
    "Dans la cellule ci-dessous, définissez une fonction qui implémente la descente de gradient pour le modèle de régression logistique ci-dessus.\n",
    "\n",
    "**Astuce** : pour vérifier si l'algorithme converge, vous pouvez imprimer la valeur de la fonction de coût toutes les quelques itérations."
   ]
  },
  {
   "cell_type": "code",
   "execution_count": null,
   "id": "1b8c6752-e6b8-42c3-965d-fb63cb5c1c97",
   "metadata": {},
   "outputs": [],
   "source": [
    "import copy, math\n",
    "def gradient_descent(X, y, w_in, b_in, alpha, num_iters, lambda_): \n",
    "  \"\"\" Effectue la descente de gradient en batch\n",
    "  Args:\n",
    "    X (ndarray (m,n)   : Données, m exemples avec n caractéristiques\n",
    "    y (ndarray (m,))   : valeurs cibles\n",
    "    w_in (ndarray (n,)): Valeurs initiales des paramètres du modèle  \n",
    "    b_in (scalaire)    : Valeurs initiales du paramètre du modèle\n",
    "    alpha (float)      : Taux d'apprentissage\n",
    "    num_iters (scalaire) : nombre d'itérations pour exécuter la descente de gradient\n",
    "    \n",
    "  Returns:\n",
    "    w (ndarray (n,))   : Valeurs mises à jour des paramètres\n",
    "    b (scalaire)       : Valeur mise à jour du paramètre \n",
    "  \"\"\"\n",
    "    # Un tableau pour stocker le coût J et les w à chaque itération (utile pour effectuer un graphique)\n",
    "    J_history \n",
    "    w = \n",
    "    b = \n",
    "    \n",
    "    for i in range(num_iters):\n",
    "        # calcule le gradient et met à jour les paramètres\n",
    "        \n",
    "\n",
    "        # Met à jour les paramètres en utilisant w, b, alpha et le gradient\n",
    "                   \n",
    "      \n",
    "        # Sauve le coût J à chaque itération\n",
    "        if i<100000:      # limite le nombre d'itérations \n",
    "            \n",
    "\n",
    "        # Affiche le coût toutes les 10 itérations ou à chaque itération si num_iters < 10\n",
    "        if i % math.ceil(num_iters / 10) == 0:\n",
    "            print(f\"Itération {i:4d}: Cost {}   \")\n",
    "        \n",
    "    return "
   ]
  },
  {
   "cell_type": "markdown",
   "id": "b81f0b97",
   "metadata": {},
   "source": [
    "Dans la cellule ci-dessous, exécutez la descente de gradient pendant au moins 10000 itérations pour entraîner le modèle. Utilisez un paramètre de régularisation lambda_ = 1.0, et un taux d'apprentissage avec une valeur donnée qui vous donne la convergence. Vous devrez peut-être essayer plusieurs fois jusqu'à ce que vous atteigniez la convergence.\n",
    "\n",
    "**Astuce** : n'utilisez pas une valeur de taux d'apprentissage inférieure à $10^{-4}$, sinon la convergence peut devenir trop lente avec cet ensemble de données."
   ]
  },
  {
   "cell_type": "code",
   "execution_count": null,
   "id": "fc6755cc-8173-48c8-beb7-c7c93da1d832",
   "metadata": {},
   "outputs": [],
   "source": [
    "w_tmp  = \n",
    "b_tmp  = \n",
    "alpha_ = \n",
    "lambda_ = 1.0\n",
    "iters = 10000\n",
    "\n",
    "w_out = gradient_descent() \n",
    "print(f\"\\nParamètres mis-à-jour: w:{w_out}, b:{b_out}\")"
   ]
  },
  {
   "cell_type": "markdown",
   "id": "2b639bc8",
   "metadata": {},
   "source": [
    "Dans la cellule ci-dessous, utilisez votre modèle pour prédire si chacune des entrées dans le tableau 'x_test' atteint la cible. Vous pouvez ensuite afficher les valeurs cibles 'y_test' pour voir comment le modèle prédit les résultats."
   ]
  },
  {
   "cell_type": "code",
   "execution_count": null,
   "id": "de81d07a-f88e-4d70-8137-df7e27ec0c33",
   "metadata": {},
   "outputs": [],
   "source": [
    "print(sigmoid())\n",
    "print(\"Les données tests\")"
   ]
  },
  {
   "cell_type": "code",
   "execution_count": null,
   "id": "97ac32d8-7838-4d9f-a982-2ecbd6693984",
   "metadata": {},
   "outputs": [],
   "source": []
  }
 ],
 "metadata": {
  "kernelspec": {
   "display_name": "Python 3 (ipykernel)",
   "language": "python",
   "name": "python3"
  },
  "language_info": {
   "codemirror_mode": {
    "name": "ipython",
    "version": 3
   },
   "file_extension": ".py",
   "mimetype": "text/x-python",
   "name": "python",
   "nbconvert_exporter": "python",
   "pygments_lexer": "ipython3",
   "version": "3.8.8"
  }
 },
 "nbformat": 4,
 "nbformat_minor": 5
}
