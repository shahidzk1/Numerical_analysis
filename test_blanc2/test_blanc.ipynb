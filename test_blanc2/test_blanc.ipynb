{
 "cells": [
  {
   "cell_type": "markdown",
   "id": "e8058a1f",
   "metadata": {},
   "source": [
    "# Goals\n",
    "If a time series data of a physical process is given the student should be able to analyze and forecast the data. The student should also be able to evaluate the error of the method."
   ]
  },
  {
   "cell_type": "markdown",
   "id": "f1fa4da5",
   "metadata": {},
   "source": [
    "## Problem\n",
    "Suppose we have a damped harmonic oscillator and its position co-ordinates are measured at every time interval $dt $.\n",
    "\n",
    "The time points \\( t \\) are generated from 0 to \\( T \\) with a step size \\( dt \\):\n",
    "$t = 0, \\, dt, \\, 2dt, \\, \\ldots, \\, (n-1)dt$\n",
    "where $( n = \\frac{T}{dt} $).\n",
    "\n",
    "The position \\( x(t) \\) of the damped harmonic oscillator is given by:\n",
    "$x(t) = A e^{-bt} \\cos(\\omega t)$\n",
    "\n",
    "where:\n",
    "\\begin{align*}\n",
    "A; \\text{ is the amplitude}, \\\\\n",
    "b; \\text{ is the damping coefficient}, \\\\\n",
    "\\omega; \\text{ is the angular frequency}.\n",
    "\\end{align*}\n",
    "\n",
    "The position data is the result of measurements, which by definition come with limited precision. \n",
    "The measurement errors act as Gaussian noise over thre true positions. \n",
    "The noisy position data $( x_{\\text{noisy}}(t) $) is therefore obtained by adding Gaussian noise to the true position data:\n",
    "\n",
    "$x_{\\text{noisy}}(t) = x(t) + \\epsilon(t)$\n",
    "\n",
    "where $( \\epsilon(t) \\sim \\mathcal{N}(0, \\sigma^2) $) is normally distributed noise with mean 0 and standard deviation $( \\sigma $). \n",
    "\n",
    "The code given in the cell below stores the noisy time dependent position and the time information of the oscillator to an excel file."
   ]
  },
  {
   "cell_type": "code",
   "execution_count": null,
   "id": "045913bf-00aa-4a98-94b4-a7c78d25adf2",
   "metadata": {},
   "outputs": [],
   "source": [
    "# Import necessary libraries\n",
    "import numpy as np\n",
    "import pandas as pd\n",
    "\n",
    "# Set the random seed for reproducibility\n",
    "np.random.seed(42)\n",
    "\n",
    "# Define parameters for the damped harmonic oscillator\n",
    "A = 1.0    # Amplitude\n",
    "b = 0.05   # Damping coefficient\n",
    "omega = 2 * np.pi / 5  # Angular frequency\n",
    "T = 100    # Total time\n",
    "dt = 0.1   # Time step\n",
    "\n",
    "# Generate time points\n",
    "t = np.arange(0, T, dt)\n",
    "\n",
    "# Generate the damped oscillation data\n",
    "x = A * np.exp(-b * t) * np.cos(omega * t)\n",
    "\n",
    "# Add some noise to the data\n",
    "noise = np.random.normal(scale=0.1, size=len(t))\n",
    "x_noisy = x + noise\n",
    "\n",
    "# Create a DataFrame\n",
    "df = pd.DataFrame({'Time': t, 'Position': x_noisy})\n",
    "\n",
    "df.to_excel('damped_oscillator.xlsx','series')"
   ]
  },
  {
   "cell_type": "markdown",
   "id": "80dd4051",
   "metadata": {},
   "source": [
    "### Data importation and visualization\n",
    "Import the excel file and visulaize the data with different techniques"
   ]
  },
  {
   "cell_type": "code",
   "execution_count": null,
   "id": "b379389c-fa6b-4693-86a1-dac4b66fdc4f",
   "metadata": {},
   "outputs": [],
   "source": [
    "# Exercise 1 \n",
    "# Upload the excel file damped_oscillator.xlsx using pandas to a dataframe object\n",
    "series = pd.read_excel('damped_oscillator.xlsx',\n",
    "                    sheet_name='series', header=0, index_col=0,\n",
    "                     dtype=float) "
   ]
  },
  {
   "cell_type": "code",
   "execution_count": null,
   "id": "df52f9f7-0fa7-4247-b34e-87d92dd42b56",
   "metadata": {},
   "outputs": [],
   "source": [
    "# Exercise 2\n",
    "# Plot time (x-axis) versus position (y-ais) using matplotlib pyplot. Add appropriate labels\n",
    "import matplotlib.pyplot as plt\n",
    "\n",
    "plt.figure(figsize=(10, 6))\n",
    "plt.plot(series['Time'].to_numpy(), series['Position'].to_numpy(), label='Damped Oscillator with Noise')\n",
    "plt.xlabel('Time')\n",
    "plt.ylabel('Position')\n",
    "plt.title('Damped Harmonic Oscillator')\n",
    "plt.legend()\n",
    "plt.show()"
   ]
  },
  {
   "cell_type": "code",
   "execution_count": null,
   "id": "c5587172",
   "metadata": {},
   "outputs": [],
   "source": [
    "# Exercise 3\n",
    "# Plot the autocorrelation function time series of the position data (50 lags for example)\n",
    "# Plot the partial autocorrelation function time series of the position data (50 lags for example)\n",
    "from statsmodels.graphics.tsaplots import plot_acf, plot_pacf\n",
    "plot_acf(series['Position'], title='autocorrelation function time series', lags=50)\n",
    "plot_pacf(series['Position'], title='Partial autocorrelations of time series', lags=50)\n",
    "plt.show()"
   ]
  },
  {
   "cell_type": "markdown",
   "id": "5f225341",
   "metadata": {},
   "source": [
    "### Modeling and forecasting\n",
    "After basic drawing and visulazation of the data try to analyze the position data and do some forcasting using the SARIMAX model"
   ]
  },
  {
   "cell_type": "code",
   "execution_count": null,
   "id": "20315d75-c519-4405-b194-c3c20750007e",
   "metadata": {},
   "outputs": [],
   "source": [
    "# Exercise 4\n",
    "# import itertools, and use it to generate different combinations of parameters for the SARIMAX model\n",
    "import itertools\n",
    "\n",
    "# Define the p, q parameters to take any value between 1 and 2, and the d parameter to take any value between 0 and 1\n",
    "p = q = range(1, 3)\n",
    "d = range(0, 2)\n",
    "\n",
    "# Generate all different combinations of p, d and q triplets\n",
    "pdq = list(itertools.product(p, d, q))\n",
    "\n",
    "# Generate all different combinations of seasonal p, d and q triplets (i.e., P, D, Q)\n",
    "seasonal_pdq = [(x[0], x[1], x[2], 10) for x in list(itertools.product(p, d, q))]"
   ]
  },
  {
   "cell_type": "code",
   "execution_count": null,
   "id": "c1643392-1a7d-4255-b0ec-9d20125a0a02",
   "metadata": {},
   "outputs": [],
   "source": [
    "# Exercise 5\n",
    "# Define a SARIMAX the model and identify the optimal parameters according to the AIC criterion\n",
    "from statsmodels.tsa.statespace.sarimax import SARIMAX\n",
    "\n",
    "import warnings\n",
    "warnings.filterwarnings(\"ignore\") # specify to ignore warning messages\n",
    "\n",
    "# Indentification of best model from different combinations of pdq and seasonal_pdq\n",
    "best_score, best_param, best_paramSeasonal = float(\"inf\"), None, None\n",
    "for param in pdq:\n",
    "    for param_seasonal in seasonal_pdq:\n",
    "        try:\n",
    "            mod = SARIMAX(series['Position'], order=param, seasonal_order=param_seasonal, enforce_invertibility=False)\n",
    "            results = mod.fit(disp=False)\n",
    "            if results.aic < best_score:\n",
    "                best_score, best_param, best_paramSeasonal = results.aic, param, param_seasonal\n",
    "            print('ARIMA{}x{} - AIC:{}'.format(param, param_seasonal, results.aic))\n",
    "        except:\n",
    "            continue # if fit fails, just continue to the next parameters combionation"
   ]
  },
  {
   "cell_type": "code",
   "execution_count": null,
   "id": "fee50bef-70bd-4371-afcf-6a12a78da391",
   "metadata": {},
   "outputs": [],
   "source": [
    "# Exercise 6\n",
    "# Print the best set of parameters according to the AIC\n",
    "print('The best model is ARIMA{}x{} - AIC:{}'.format(best_param, best_paramSeasonal, best_score))"
   ]
  },
  {
   "cell_type": "code",
   "execution_count": null,
   "id": "ecb56036-4df2-4d44-8ff2-f96dda89ce48",
   "metadata": {},
   "outputs": [],
   "source": [
    "# Exercise 7\n",
    "# Fit the model once again using teh optimal parameters, and print a summary of the results\n",
    "mod = SARIMAX(series['Position'], order=best_param, seasonal_order=best_paramSeasonal, enforce_invertibility=False)\n",
    "results=mod.fit()\n",
    "print(results.summary())"
   ]
  },
  {
   "cell_type": "code",
   "execution_count": null,
   "id": "13168acf-3b89-42b8-b69d-359e13b19973",
   "metadata": {},
   "outputs": [],
   "source": [
    "# Exercise 8\n",
    "# Forecast future values for 50 steps\n",
    "n_forecast = 50  # Number of steps to forecast\n",
    "forecast = results.get_forecast(steps=n_forecast)\n",
    "forecast_index = np.arange(T, T + n_forecast * dt, dt)\n",
    "\n",
    "# Extract forecasted values and confidence intervals\n",
    "forecast_values = forecast.predicted_mean\n",
    "conf_int = forecast.conf_int()\n"
   ]
  },
  {
   "cell_type": "code",
   "execution_count": null,
   "id": "58dbf54a-ff02-46f7-8e76-261f0a7ac356",
   "metadata": {},
   "outputs": [],
   "source": [
    "# Exercise 9\n",
    "# Plot the results, the predicted trend according to the model, and the forecast\n",
    "plt.figure(figsize=(10, 6))\n",
    "predictions = results.predict()\n",
    "# Plot the original data i.e. time (x-axis) vs position\n",
    "plt.plot(series['Time'].to_numpy(), series['Position'].to_numpy(), label='Observed', color='blue')\n",
    "# Plot the time (x-axis) vs predictions \n",
    "plt.plot(series['Time'].to_numpy(), predictions.to_numpy(), label='Model', color='green')\n",
    "# Plot the forecast index (x-axis) vs forecast values\n",
    "plt.plot(forecast_index, forecast_values.to_numpy(), label='Forecast', color='red')\n",
    "\n",
    "plt.fill_between(forecast_index, conf_int.iloc[:, 0], conf_int.iloc[:, 1], color='pink', alpha=0.3)\n",
    "plt.xlabel('Time')\n",
    "plt.ylabel('Position')\n",
    "plt.title('Damped Harmonic Oscillator with SARIMAX Forecast')\n",
    "plt.legend()\n",
    "plt.show()"
   ]
  },
  {
   "cell_type": "markdown",
   "id": "0c59aacd",
   "metadata": {},
   "source": [
    "### Error analysis\n",
    "Analyse the errors of the predictions"
   ]
  },
  {
   "cell_type": "code",
   "execution_count": null,
   "id": "4d35ed95-6e53-42d8-a18c-91ac8f2829cf",
   "metadata": {},
   "outputs": [],
   "source": [
    "# # Exercise 10\n",
    "# Compute the:\n",
    "#   Sum of Squares Total (SST),\n",
    "#   Summ of Squares Error (SSE),\n",
    "#   Sum of Squares Regression (SSR),\n",
    "# and then the coefficient of determination (R²) \n",
    "observed = series['Position']\n",
    "mean_observed = np.mean(observed)\n",
    "sst = np.sum((observed - mean_observed) ** 2)\n",
    "sse = np.sum((observed - predictions) ** 2)\n",
    "ssr = sst - sse\n",
    "r2 = 1 - (sse / sst)\n",
    "\n",
    "# Print the results\n",
    "print(f'SST: {sst:.2f}')\n",
    "print(f'SSE: {sse:.2f}')\n",
    "print(f'SSR: {ssr:.2f}')\n",
    "print(f'R²: {r2:.2f}')\n"
   ]
  },
  {
   "cell_type": "code",
   "execution_count": null,
   "id": "6cc184de-bf11-4987-a6fe-8656e73a1bec",
   "metadata": {},
   "outputs": [],
   "source": [
    "# # Exercise 11\n",
    "# The degrees of freedom are \n",
    "n = len(observed)  # Number of observations\n",
    "p = len(results.params)  # Number of predictors in SARIMAX\n",
    "\n",
    "# Calculate MST, MSE, MSR, and F-score\n",
    "mst = sst / (n - 1)\n",
    "mse = sse / (n - p - 1)\n",
    "msr = ssr / p\n",
    "f_score = msr / mse\n",
    "\n",
    "# Print the results\n",
    "print(f'MST: {mst:.2f}')\n",
    "print(f'MSE: {mse:.2f}')\n",
    "print(f'MSR: {msr:.2f}')\n",
    "print(f'F-score: {f_score:.2f}')"
   ]
  },
  {
   "cell_type": "markdown",
   "id": "65278d7f",
   "metadata": {},
   "source": [
    "### Holt's linear model"
   ]
  },
  {
   "cell_type": "markdown",
   "id": "f061b73d-cee8-4a55-9535-b200fc06c832",
   "metadata": {},
   "source": [
    "While SARIMAX provides a good forecast for the future points, other methods such as Holt's linear metod do not work as well in the case of this data. Let's verify that."
   ]
  },
  {
   "cell_type": "code",
   "execution_count": null,
   "id": "c51b9820-30a2-439d-9d05-400e6b379eb6",
   "metadata": {},
   "outputs": [],
   "source": [
    "# Exercise 12\n",
    "# Fit the Holt's linear trend model to same data\n",
    "from statsmodels.tsa.api import Holt\n",
    "\n",
    "model = Holt(df['Position'])\n",
    "holt_results = model.fit(optimized=True)"
   ]
  },
  {
   "cell_type": "code",
   "execution_count": null,
   "id": "0e2b9444-8763-409a-8e85-4fdbb77375a2",
   "metadata": {},
   "outputs": [],
   "source": [
    "# Exercise 13\n",
    "# Make in-sample predictions and forecasts for future points (50 steps)\n",
    "holt_predictions = holt_results.fittedvalues\n",
    "forecast_steps = 50\n",
    "holt_forecast = holt_results.forecast(steps=forecast_steps)\n",
    "forecast_index = np.arange(T, T + n_forecast * dt, dt)"
   ]
  },
  {
   "cell_type": "code",
   "execution_count": null,
   "id": "a86c20b7-24b1-433b-b255-3d3cc67b906f",
   "metadata": {},
   "outputs": [],
   "source": [
    "# Exercise 14\n",
    "# Plot the original data, the predicted trend according to Holt's linear model, and the forecast for future points\n",
    "predictions = results.predict()\n",
    "plt.figure(figsize=(10, 6))\n",
    "plt.plot(df['Time'].to_numpy(), df['Position'].to_numpy(), label='Observed', color='blue')\n",
    "plt.plot(df['Time'].to_numpy(), holt_predictions.to_numpy(), label='Predicted', color='red')\n",
    "plt.plot(forecast_index, holt_forecast.to_numpy(), label='Forecasted', color='pink')\n",
    "plt.xlabel('Time')\n",
    "plt.ylabel('Position')\n",
    "plt.title('Damped Harmonic Oscillator: Observed vs Predicted')\n",
    "plt.legend()\n",
    "plt.show()"
   ]
  },
  {
   "cell_type": "code",
   "execution_count": null,
   "id": "7adef45d",
   "metadata": {},
   "outputs": [],
   "source": []
  }
 ],
 "metadata": {
  "kernelspec": {
   "display_name": "Python 3 (ipykernel)",
   "language": "python",
   "name": "python3"
  },
  "language_info": {
   "codemirror_mode": {
    "name": "ipython",
    "version": 3
   },
   "file_extension": ".py",
   "mimetype": "text/x-python",
   "name": "python",
   "nbconvert_exporter": "python",
   "pygments_lexer": "ipython3",
   "version": "3.11.7"
  }
 },
 "nbformat": 4,
 "nbformat_minor": 5
}
