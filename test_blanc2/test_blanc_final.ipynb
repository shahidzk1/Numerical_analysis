{
 "cells": [
  {
   "cell_type": "markdown",
   "id": "e8058a1f",
   "metadata": {},
   "source": [
    "# Goals\n",
    "If a time series data of a physical process is given the student should be able to analyze and forecast the data. The student should also be able to evaluate the error of the method."
   ]
  },
  {
   "cell_type": "markdown",
   "id": "f1fa4da5",
   "metadata": {},
   "source": [
    "## Problem\n",
    "Suppose we have a damped harmonic oscillator and its position co-ordinates are measured at every time interval $dt $.\n",
    "\n",
    "The time points \\( t \\) are generated from 0 to \\( T \\) with a step size \\( dt \\):\n",
    "$t = 0, \\, dt, \\, 2dt, \\, \\ldots, \\, (n-1)dt$\n",
    "where $( n = \\frac{T}{dt} $).\n",
    "\n",
    "The position \\( x(t) \\) of the damped harmonic oscillator is given by:\n",
    "$x(t) = A e^{-bt} \\cos(\\omega t)$\n",
    "\n",
    "where:\n",
    "\\begin{align*}\n",
    "A; \\text{ is the amplitude}, \\\\\n",
    "b; \\text{ is the damping coefficient}, \\\\\n",
    "\\omega; \\text{ is the angular frequency}.\n",
    "\\end{align*}\n",
    "\n",
    "The position data is the result of measurements, which by definition come with limited precision. \n",
    "The measurement errors act as Gaussian noise over thre true positions. \n",
    "The noisy position data $( x_{\\text{noisy}}(t) $) is therefore obtained by adding Gaussian noise to the true position data:\n",
    "\n",
    "$x_{\\text{noisy}}(t) = x(t) + \\epsilon(t)$\n",
    "\n",
    "where $( \\epsilon(t) \\sim \\mathcal{N}(0, \\sigma^2) $) is normally distributed noise with mean 0 and standard deviation $( \\sigma $). \n",
    "\n",
    "The code given in the cell below stores the noisy time dependent position and the time information of the oscillator to an excel file."
   ]
  },
  {
   "cell_type": "code",
   "execution_count": null,
   "id": "045913bf-00aa-4a98-94b4-a7c78d25adf2",
   "metadata": {},
   "outputs": [],
   "source": [
    "# Import necessary libraries\n",
    "import numpy as np\n",
    "import pandas as pd\n",
    "\n",
    "# Set the random seed for reproducibility\n",
    "np.random.seed(42)\n",
    "\n",
    "# Define parameters for the damped harmonic oscillator\n",
    "A = 1.0    # Amplitude\n",
    "b = 0.05   # Damping coefficient\n",
    "omega = 2 * np.pi / 5  # Angular frequency\n",
    "T = 100    # Total time\n",
    "dt = 0.1   # Time step\n",
    "\n",
    "# Generate time points\n",
    "t = np.arange(0, T, dt)\n",
    "\n",
    "# Generate the damped oscillation data\n",
    "x = A * np.exp(-b * t) * np.cos(omega * t)\n",
    "\n",
    "# Add some noise to the data\n",
    "noise = np.random.normal(scale=0.1, size=len(t))\n",
    "x_noisy = x + noise\n",
    "\n",
    "# Create a DataFrame\n",
    "df = pd.DataFrame({'Time': t, 'Position': x_noisy})\n",
    "\n",
    "df.to_excel('damped_oscillator.xlsx','series')"
   ]
  },
  {
   "cell_type": "markdown",
   "id": "80dd4051",
   "metadata": {},
   "source": [
    "### Data importation and visualization\n",
    "Import the excel file and visulaize the data with different techniques"
   ]
  },
  {
   "cell_type": "code",
   "execution_count": null,
   "id": "b379389c-fa6b-4693-86a1-dac4b66fdc4f",
   "metadata": {},
   "outputs": [],
   "source": [
    "# Exercise 1\n",
    "# Upload the excel file damped_oscillator.xlsx using pandas to a dataframe object\n"
   ]
  },
  {
   "cell_type": "code",
   "execution_count": null,
   "id": "df52f9f7-0fa7-4247-b34e-87d92dd42b56",
   "metadata": {},
   "outputs": [],
   "source": [
    "# Exercise 2 \n",
    "# Plot time (x-axis) versus position (y-ais) using matplotlib pyplot. Add appropriate labels\n"
   ]
  },
  {
   "cell_type": "code",
   "execution_count": null,
   "id": "c5587172",
   "metadata": {},
   "outputs": [],
   "source": [
    "# Exercise 3 \n",
    "# Use statsmodels.graphics.tsaplots library to:\n",
    "# Plot the autocorrelation function time series of the position data (50 lags for example)\n",
    "\n",
    "# Plot the partial autocorrelation function time series of the position data (50 lags for example)\n"
   ]
  },
  {
   "cell_type": "markdown",
   "id": "5f225341",
   "metadata": {},
   "source": [
    "### Modeling and forecasting\n",
    "After basic drawing and visulazation of the data try to analyze the position data and do some forcasting using the SARIMAX model"
   ]
  },
  {
   "cell_type": "code",
   "execution_count": null,
   "id": "20315d75-c519-4405-b194-c3c20750007e",
   "metadata": {},
   "outputs": [],
   "source": [
    "# Exercise 4 \n",
    "# import itertools, and use it to generate different combinations of parameters for the SARIMAX model\n",
    "\n",
    "\n",
    "# Define the p, q parameters to take any value between 1 and 2, and the d parameter to take any value between 0 and 1\n",
    "\n",
    "\n",
    "# Generate all different combinations of p, d and q triplets\n",
    "\n",
    "\n",
    "# Generate all different combinations of seasonal p, d and q triplets (i.e., P, D, Q)\n"
   ]
  },
  {
   "cell_type": "code",
   "execution_count": null,
   "id": "c1643392-1a7d-4255-b0ec-9d20125a0a02",
   "metadata": {},
   "outputs": [],
   "source": [
    "# Exercise 5 \n",
    "# Define a SARIMAX the model and identify the optimal parameters according to the AIC criterion\n",
    "\n",
    "\n",
    "import warnings\n",
    "warnings.filterwarnings(\"ignore\") # specify to ignore warning messages\n",
    "\n",
    "# Indentification of best model from different combinations of pdq and seasonal_pdq\n",
    "\n"
   ]
  },
  {
   "cell_type": "code",
   "execution_count": null,
   "id": "fee50bef-70bd-4371-afcf-6a12a78da391",
   "metadata": {},
   "outputs": [],
   "source": [
    "# Exercise 6 \n",
    "# Print the best set of parameters according to the AIC\n"
   ]
  },
  {
   "cell_type": "code",
   "execution_count": null,
   "id": "ecb56036-4df2-4d44-8ff2-f96dda89ce48",
   "metadata": {},
   "outputs": [],
   "source": [
    "# Exercise 7 \n",
    "# Fit the model once again using the optimal parameters, and print a summary of the results\n"
   ]
  },
  {
   "cell_type": "code",
   "execution_count": null,
   "id": "13168acf-3b89-42b8-b69d-359e13b19973",
   "metadata": {},
   "outputs": [],
   "source": [
    "# Exercise 8 \n",
    "# Forecast future values for 50 steps\n"
   ]
  },
  {
   "cell_type": "code",
   "execution_count": null,
   "id": "58dbf54a-ff02-46f7-8e76-261f0a7ac356",
   "metadata": {},
   "outputs": [],
   "source": [
    "# Exercise 9 \n",
    "# Plot the results, the predicted trend according to the model, and the forecast\n",
    "\n",
    "# Plot the original data i.e. time (x-axis) vs position\n",
    "\n",
    "# Plot the time (x-axis) vs predictions \n",
    "\n",
    "# Plot the forecast index (x-axis) vs forecast values\n",
    "\n",
    "\n"
   ]
  },
  {
   "cell_type": "markdown",
   "id": "0c59aacd",
   "metadata": {},
   "source": [
    "### Error analysis\n",
    "Analyse the errors of the predictions"
   ]
  },
  {
   "cell_type": "code",
   "execution_count": null,
   "id": "4d35ed95-6e53-42d8-a18c-91ac8f2829cf",
   "metadata": {},
   "outputs": [],
   "source": [
    "# # Exercise 10 \n",
    "# Compute the:\n",
    "#   Sum of Squares Total (SST),\n",
    "#   Summ of Squares Error (SSE),\n",
    "#   Sum of Squares Regression (SSR),\n",
    "# and then the coefficient of determination (R²) \n",
    "\n",
    "\n",
    "# Print the results\n"
   ]
  },
  {
   "cell_type": "code",
   "execution_count": null,
   "id": "6cc184de-bf11-4987-a6fe-8656e73a1bec",
   "metadata": {},
   "outputs": [],
   "source": [
    "# # Exercise 11 \n",
    "# The degrees of freedom are \n",
    "n = len(observed)  # Number of observations\n",
    "p = len(results.params)  # Number of predictors in SARIMAX\n",
    "\n",
    "# Calculate the MST, MSE, MSR, and F-score\n",
    "\n",
    "\n",
    "# Print the results\n"
   ]
  },
  {
   "cell_type": "markdown",
   "id": "65278d7f",
   "metadata": {},
   "source": [
    "### Holt's linear model"
   ]
  },
  {
   "cell_type": "markdown",
   "id": "f061b73d-cee8-4a55-9535-b200fc06c832",
   "metadata": {},
   "source": [
    "While SARIMAX provides a good forecast for the future points, other methods such as Holt's linear metod do not work as well in the case of this data. Let's verify that."
   ]
  },
  {
   "cell_type": "code",
   "execution_count": null,
   "id": "c51b9820-30a2-439d-9d05-400e6b379eb6",
   "metadata": {},
   "outputs": [],
   "source": [
    "# Exercise 12 \n",
    "# Fit the Holt's linear trend model to same data\n"
   ]
  },
  {
   "cell_type": "code",
   "execution_count": null,
   "id": "0e2b9444-8763-409a-8e85-4fdbb77375a2",
   "metadata": {},
   "outputs": [],
   "source": [
    "# Exercise 13\n",
    "# Make in-sample predictions and forecasts for future points (50 steps)\n"
   ]
  },
  {
   "cell_type": "code",
   "execution_count": null,
   "id": "a86c20b7-24b1-433b-b255-3d3cc67b906f",
   "metadata": {},
   "outputs": [],
   "source": [
    "# Exercise 14 \n",
    "# Plot the original data, the predicted trend according to Holt's linear model, and the forecast for future points\n"
   ]
  }
 ],
 "metadata": {
  "kernelspec": {
   "display_name": "Python 3 (ipykernel)",
   "language": "python",
   "name": "python3"
  },
  "language_info": {
   "codemirror_mode": {
    "name": "ipython",
    "version": 3
   },
   "file_extension": ".py",
   "mimetype": "text/x-python",
   "name": "python",
   "nbconvert_exporter": "python",
   "pygments_lexer": "ipython3",
   "version": "3.11.7"
  }
 },
 "nbformat": 4,
 "nbformat_minor": 5
}
