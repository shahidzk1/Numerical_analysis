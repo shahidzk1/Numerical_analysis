{
 "cells": [
  {
   "cell_type": "markdown",
   "id": "ef4a70de",
   "metadata": {},
   "source": [
    "# Objectifs\n",
    "A partir d'une série temporelle d'un processus physique donné, il faudrait d'être capable d'analyser et de prévoir les données. Il faudrait également être en mesure d'évaluer l'erreur de la méthode."
   ]
  },
  {
   "cell_type": "markdown",
   "id": "fa04bb9c",
   "metadata": {},
   "source": [
    "## Problème\n",
    "Supposons que nous ayons un oscillateur harmonique amorti et que ses coordonnées de position sont mesurées à chaque intervalle de temps $dt $.\n",
    "\n",
    "Les temps \\( t \\) sont générés de 0 à \\( T \\) avec un pas \\( dt \\) :\n",
    "$t = 0, \\, dt, \\, 2dt, \\, \\ldots, \\, (n-1)dt$\n",
    "où $( n = \\frac{T}{dt} $).\n",
    "\n",
    "La position \\( x(t) \\) de l'oscillateur harmonique amorti est donnée par :\n",
    "$x(t) = A e^{-bt} \\cos(\\omega t)$\n",
    "\n",
    "où :\n",
    "\\begin{align*}\n",
    "A; \\text{ est l'amplitude}, \\\\\n",
    "b; \\text{ est le coefficient d'amortissement}, \\\\\n",
    "\\omega; \\text{ est la fréquence angulaire}.\n",
    "\\end{align*}\n",
    "\n",
    "Les données de position sont le résultat de mesures, qui par définition sont d'une précision limitée. \n",
    "Les erreurs de mesure agissent comme un bruit gaussien sur les vraies positions. \n",
    "Les données de position bruitées $( x_{\\text{noisy}}(t) $) sont donc obtenues en ajoutant un bruit gaussien aux vraies données de position :\n",
    "\n",
    "$x_{\\text{noisy}}(t) = x(t) + \\epsilon(t)$\n",
    "\n",
    "où $( \\epsilon(t) \\sim \\mathcal{N}(0, \\sigma^2) $) est un bruit normalement distribué avec une moyenne de 0 et un écart type de $( \\sigma $). \n",
    "\n",
    "Le code donné dans la cellule ci-dessous stocke la position dépendante du temps bruitée et le temps de l'oscillateur dans un fichier excel."
   ]
  },
  {
   "cell_type": "code",
   "execution_count": null,
   "id": "c96c35ce",
   "metadata": {},
   "outputs": [],
   "source": [
    "# Importer les bibliothèques nécessaires\n",
    "import numpy as np\n",
    "import pandas as pd\n",
    "\n",
    "# Définir la graine aléatoire pour la reproductibilité\n",
    "np.random.seed(42)\n",
    "\n",
    "# Définir les paramètres pour l'oscillateur harmonique amorti\n",
    "A = 1.0    # Amplitude\n",
    "b = 0.05   # Coefficient d'amortissement\n",
    "omega = 2 * np.pi / 5  # Fréquence angulaire\n",
    "T = 100    # Temps total\n",
    "dt = 0.1   # Pas de temps\n",
    "\n",
    "# Générer des points de temps\n",
    "t = np.arange(0, T, dt)\n",
    "\n",
    "# Générer les données d'oscillation amortie\n",
    "x = A * np.exp(-b * t) * np.cos(omega * t)\n",
    "\n",
    "# Ajouter du bruit aux données\n",
    "noise = np.random.normal(scale=0.1, size=len(t))\n",
    "x_noisy = x + noise\n",
    "\n",
    "# Créer un DataFrame\n",
    "df = pd.DataFrame({'Time': t, 'Position': x_noisy})\n",
    "\n",
    "df.to_excel('damped_oscillator.xlsx','series')"
   ]
  },
  {
   "cell_type": "markdown",
   "id": "80dd4051",
   "metadata": {},
   "source": [
    "### Data importation and visualization\n",
    "Import the excel file and visulaize the data with different techniques"
   ]
  },
  {
   "cell_type": "code",
   "execution_count": null,
   "id": "dab3f7e1",
   "metadata": {},
   "outputs": [],
   "source": [
    "# Exercice 1\n",
    "# Lisez le fichier excel damped_oscillator.xlsx en utilisant pandas dans un objet dataframe"
   ]
  },
  {
   "cell_type": "code",
   "execution_count": null,
   "id": "aac7d47f",
   "metadata": {},
   "outputs": [],
   "source": [
    "# Exercice 2\n",
    "# Tracez le temps (axe des x) par rapport à la position (axe des y) en utilisant matplotlib pyplot. Ajoutez des labels appropriés."
   ]
  },
  {
   "cell_type": "code",
   "execution_count": null,
   "id": "d893ccd6",
   "metadata": {},
   "outputs": [],
   "source": [
    "# Exercice 3\n",
    "# Utilisez la bibliothèque statsmodels.graphics.tsaplots pour :\n",
    "# Tracer la fonction d'autocorrélation de la série temporelle des données de position (50 retards par exemple)\n",
    "\n",
    "# Tracer la fonction d'autocorrélation partielle de la série temporelle des données de position (50 retards par exemple)"
   ]
  },
  {
   "cell_type": "markdown",
   "id": "439c401b",
   "metadata": {},
   "source": [
    "### Modélisation et prévision\n",
    "Après avoir dessiné et visualisé les données de base, essayez d'analyser les données de position et de faire des prévisions en utilisant le modèle SARIMAX"
   ]
  },
  {
   "cell_type": "code",
   "execution_count": null,
   "id": "bb0a44cb",
   "metadata": {},
   "outputs": [],
   "source": [
    "# Exercice 4 \n",
    "# importez itertools, et utilisez-le pour générer différentes combinaisons de paramètres pour le modèle SARIMAX\n",
    "\n",
    "\n",
    "# Définissez les paramètres p, q pour prendre n'importe quelle valeur entre 1 et 2, et le paramètre d pour prendre n'importe quelle valeur entre 0 et 1\n",
    "\n",
    "\n",
    "# Générez toutes les différentes combinaisons de triplets p, d et q\n",
    "\n",
    "\n",
    "# Générez toutes les différentes combinaisons de triplets saisonniers p, d et q (c'est-à-dire, P, D, Q)"
   ]
  },
  {
   "cell_type": "code",
   "execution_count": null,
   "id": "c7493c38",
   "metadata": {},
   "outputs": [],
   "source": [
    "# Exercice 5 \n",
    "# Définissez un modèle SARIMAX et identifiez les paramètres optimaux selon le critère AIC\n",
    "\n",
    "import warnings\n",
    "warnings.filterwarnings(\"ignore\") # spécifie d'ignorer les messages d'avertissement\n",
    "\n",
    "# Identification du meilleur modèle parmi différentes combinaisons de pdq et seasonal_pdq"
   ]
  },
  {
   "cell_type": "code",
   "execution_count": null,
   "id": "d8bcf3f3",
   "metadata": {},
   "outputs": [],
   "source": [
    "# Exercice 6 \n",
    "# Affichez le meilleur ensemble de paramètres selon le critère AIC"
   ]
  },
  {
   "cell_type": "code",
   "execution_count": null,
   "id": "43d0f422",
   "metadata": {},
   "outputs": [],
   "source": [
    "# Exercice 7 \n",
    "# Ajustez à nouveau le modèle en utilisant les paramètres optimaux, et affichez un résumé des résultats"
   ]
  },
  {
   "cell_type": "code",
   "execution_count": null,
   "id": "9e4ed1aa",
   "metadata": {},
   "outputs": [],
   "source": [
    "# Exercice 8 \n",
    "# Prévoir les valeurs futures pour 50 étapes"
   ]
  },
  {
   "cell_type": "code",
   "execution_count": null,
   "id": "2d7495bd",
   "metadata": {},
   "outputs": [],
   "source": [
    "# Exercice 9 \n",
    "# Tracez les résultats, la tendance prédite selon le modèle, et la prévision\n",
    "\n",
    "# Tracez les données originales, c'est-à-dire le temps (axe des x) vs position\n",
    "\n",
    "# Tracez le temps (axe des x) vs prédictions \n",
    "\n",
    "# Tracez l'indice de prévision (axe des x) vs valeurs de prévision"
   ]
  },
  {
   "cell_type": "markdown",
   "id": "7d01d4ff",
   "metadata": {},
   "source": [
    "### Analyse des erreurs\n",
    "Analysez les erreurs des prédictions"
   ]
  },
  {
   "cell_type": "code",
   "execution_count": null,
   "id": "52ca2a38",
   "metadata": {},
   "outputs": [],
   "source": [
    "# Exercice 10 \n",
    "# Calculez :\n",
    "#   la somme totale des carrés (SST),\n",
    "#   la somme des carrés des erreurs (SSE),\n",
    "#   la somme des carrés de la régression (SSR),\n",
    "# et ensuite le coefficient de détermination (R²) \n",
    "\n",
    "# Affichez les résultats"
   ]
  },
  {
   "cell_type": "code",
   "execution_count": null,
   "id": "205b9fd5",
   "metadata": {},
   "outputs": [],
   "source": [
    "# Exercice 11 \n",
    "# Les degrés de liberté sont \n",
    "n = len(observed)  # Nombre d'observations\n",
    "p = len(results.params)  # Nombre de prédicteurs dans SARIMAX\n",
    "\n",
    "# Calculez le MST, MSE, MSR, et le score F\n",
    "\n",
    "\n",
    "# Affichez les résultats"
   ]
  },
  {
   "cell_type": "markdown",
   "id": "1e9e12b6",
   "metadata": {},
   "source": [
    "### Modèle linéaire de Holt"
   ]
  },
  {
   "cell_type": "markdown",
   "id": "a52e3e48",
   "metadata": {},
   "source": [
    "Bien que SARIMAX fournisse une bonne prévision pour les points futurs, d'autres méthodes comme la méthode linéaire de Holt ne fonctionnent pas aussi bien dans le cas de ces données. Vérifions cela."
   ]
  },
  {
   "cell_type": "code",
   "execution_count": null,
   "id": "a67b0b33",
   "metadata": {},
   "outputs": [],
   "source": [
    "# Exercice 12 \n",
    "# Ajustez le modèle de tendance linéaire de Holt aux mêmes données"
   ]
  },
  {
   "cell_type": "code",
   "execution_count": null,
   "id": "922269f8",
   "metadata": {},
   "outputs": [],
   "source": [
    "# Exercice 13 \n",
    "# Faites des prédictions sur l'échantillon et des prévisions pour les points futurs (50 étapes)"
   ]
  },
  {
   "cell_type": "code",
   "execution_count": null,
   "id": "dbf000e5",
   "metadata": {},
   "outputs": [],
   "source": [
    "# Exercice 14 \n",
    "# Tracez les données originales, la tendance prédite selon le modèle linéaire de Holt, et la prévision pour les points futurs"
   ]
  }
 ],
 "metadata": {
  "kernelspec": {
   "display_name": "Python 3 (ipykernel)",
   "language": "python",
   "name": "python3"
  },
  "language_info": {
   "codemirror_mode": {
    "name": "ipython",
    "version": 3
   },
   "file_extension": ".py",
   "mimetype": "text/x-python",
   "name": "python",
   "nbconvert_exporter": "python",
   "pygments_lexer": "ipython3",
   "version": "3.11.7"
  }
 },
 "nbformat": 4,
 "nbformat_minor": 5
}
